{
 "cells": [
  {
   "cell_type": "markdown",
   "metadata": {
    "application/vnd.databricks.v1+cell": {
     "cellMetadata": {
      "byteLimit": 2048000,
      "rowLimit": 10000
     },
     "inputWidgets": {},
     "nuid": "8469a752-7050-4268-bc7e-a534436fa3e2",
     "showTitle": false,
     "title": ""
    },
    "id": "IqM-T1RTzY6C"
   },
   "source": [
    "To run this, press \"*Runtime*\" and press \"*Run all*\" on a **free** Tesla T4 Google Colab instance!\n",
    "<div class=\"align-center\">\n",
    "  <a href=\"https://github.com/unslothai/unsloth\"><img src=\"https://github.com/unslothai/unsloth/raw/main/images/unsloth%20new%20logo.png\" width=\"115\"></a>\n",
    "  <a href=\"https://discord.gg/u54VK8m8tk\"><img src=\"https://github.com/unslothai/unsloth/raw/main/images/Discord button.png\" width=\"145\"></a>\n",
    "  <a href=\"https://ko-fi.com/unsloth\"><img src=\"https://github.com/unslothai/unsloth/raw/main/images/Kofi button.png\" width=\"145\"></a></a> Join Discord if you need help + ⭐ <i>Star us on <a href=\"https://github.com/unslothai/unsloth\">Github</a> </i> ⭐\n",
    "</div>\n",
    "\n",
    "To install Unsloth on your own computer, follow the installation instructions on our Github page [here](https://github.com/unslothai/unsloth#installation-instructions---conda).\n",
    "\n",
    "You will learn how to do [data prep](#Data), how to [train](#Train), how to [run the model](#Inference), & [how to save it](#Save) (eg for Llama.cpp).\n",
    "\n",
    "**[NEW] Llama-3 8b is trained on a crazy 15 trillion tokens! Llama-2 was 2 trillion.**\n",
    "\n",
    "Use our [Llama-3 8b Instruct](https://colab.research.google.com/drive/1XamvWYinY6FOSX9GLvnqSjjsNflxdhNc?usp=sharing) notebook for conversational style finetunes."
   ]
  },
  {
   "cell_type": "code",
   "execution_count": 0,
   "metadata": {
    "application/vnd.databricks.v1+cell": {
     "cellMetadata": {
      "byteLimit": 2048000,
      "rowLimit": 10000
     },
     "inputWidgets": {},
     "nuid": "63630312-e221-4909-ba9e-0745932a2270",
     "showTitle": false,
     "title": ""
    }
   },
   "outputs": [
    {
     "output_type": "stream",
     "name": "stdout",
     "output_type": "stream",
     "text": [
      "Tue Jun 18 08:48:09 2024       \r\n+---------------------------------------------------------------------------------------+\r\n| NVIDIA-SMI 535.54.03              Driver Version: 535.54.03    CUDA Version: 12.2     |\r\n|-----------------------------------------+----------------------+----------------------+\r\n| GPU  Name                 Persistence-M | Bus-Id        Disp.A | Volatile Uncorr. ECC |\r\n| Fan  Temp   Perf          Pwr:Usage/Cap |         Memory-Usage | GPU-Util  Compute M. |\r\n|                                         |                      |               MIG M. |\r\n|=========================================+======================+======================|\r\n|   0  NVIDIA A100 80GB PCIe          Off | 00000001:00:00.0 Off |                    0 |\r\n| N/A   39C    P0              53W / 300W |      4MiB / 81920MiB |      0%      Default |\r\n|                                         |                      |             Disabled |\r\n+-----------------------------------------+----------------------+----------------------+\r\n|   1  NVIDIA A100 80GB PCIe          Off | 00000002:00:00.0 Off |                    0 |\r\n| N/A   37C    P0              54W / 300W |      4MiB / 81920MiB |      0%      Default |\r\n|                                         |                      |             Disabled |\r\n+-----------------------------------------+----------------------+----------------------+\r\n                                                                                         \r\n+---------------------------------------------------------------------------------------+\r\n| Processes:                                                                            |\r\n|  GPU   GI   CI        PID   Type   Process name                            GPU Memory |\r\n|        ID   ID                                                             Usage      |\r\n|=======================================================================================|\r\n|  No running processes found                                                           |\r\n+---------------------------------------------------------------------------------------+\r\n"
     ]
    }
   ],
   "source": [
    "!nvidia-smi"
   ]
  },
  {
   "cell_type": "code",
   "execution_count": 0,
   "metadata": {
    "application/vnd.databricks.v1+cell": {
     "cellMetadata": {
      "byteLimit": 2048000,
      "rowLimit": 10000
     },
     "inputWidgets": {},
     "nuid": "c2bb9c13-dc16-413e-864b-64a2685f17bb",
     "showTitle": false,
     "title": ""
    }
   },
   "outputs": [],
   "source": [
    "if 'dbutils' in locals():\n",
    "    dbutils.library.restartPython()\n"
   ]
  },
  {
   "cell_type": "code",
   "execution_count": 0,
   "metadata": {
    "application/vnd.databricks.v1+cell": {
     "cellMetadata": {
      "byteLimit": 2048000,
      "rowLimit": 10000
     },
     "inputWidgets": {},
     "nuid": "1fe37487-6461-4d4f-9711-a3845b5c8732",
     "showTitle": false,
     "title": ""
    }
   },
   "outputs": [],
   "source": [
    "%load_ext autoreload\n",
    "%autoreload 2"
   ]
  },
  {
   "cell_type": "code",
   "execution_count": 0,
   "metadata": {
    "application/vnd.databricks.v1+cell": {
     "cellMetadata": {
      "byteLimit": 2048000,
      "rowLimit": 10000
     },
     "inputWidgets": {},
     "nuid": "e47a19a4-65d1-43b0-82bc-26a679cfb388",
     "showTitle": false,
     "title": ""
    }
   },
   "outputs": [
    {
     "output_type": "stream",
     "name": "stdout",
     "output_type": "stream",
     "text": [
      "workding dir: /Workspace/Users/donghao.huang@mastercard.com/novel-translation\n"
     ]
    }
   ],
   "source": [
    "import os\n",
    "import sys\n",
    "from pathlib import Path\n",
    "\n",
    "def set_workding_dir(change_to_parent=False):\n",
    "    workding_dir = Path.cwd()\n",
    "    if change_to_parent:\n",
    "        workding_dir = str(Path.cwd().parent)\n",
    "        os.chdir(workding_dir)\n",
    "    sys.path.append(workding_dir)\n",
    "    print(\"workding dir:\", workding_dir)\n",
    "\n",
    "set_workding_dir(change_to_parent=True)"
   ]
  },
  {
   "cell_type": "code",
   "execution_count": 0,
   "metadata": {
    "application/vnd.databricks.v1+cell": {
     "cellMetadata": {
      "byteLimit": 2048000,
      "rowLimit": 10000
     },
     "inputWidgets": {},
     "nuid": "99e42448-64a4-482b-a216-1ace08d1430a",
     "showTitle": false,
     "title": ""
    }
   },
   "outputs": [],
   "source": [
    "# need_to_setup_env = True\n",
    "need_to_setup_env = False\n",
    "need_to_setup_env = 'dbutils' in locals() and need_to_setup_env\n",
    "\n",
    "if need_to_setup_env:\n",
    "    %pip config set global.index-url https://artifacts.forge.mastercard.com/artifactory/api/pypi/python/simple\n",
    "    %pip install --quiet torch torchvision --index-url https://download.pytorch.org/whl/cu121\n",
    "    %pip install --quiet -r requirements.txt\n",
    "\n",
    "    %restart_python\n",
    "    from pathlib import Path\n",
    "    print(\"workding dir:\", Path.cwd())"
   ]
  },
  {
   "cell_type": "code",
   "execution_count": 0,
   "metadata": {
    "application/vnd.databricks.v1+cell": {
     "cellMetadata": {
      "byteLimit": 2048000,
      "rowLimit": 10000
     },
     "inputWidgets": {},
     "nuid": "67b605b0-caee-4d32-96c4-25056e9417d9",
     "showTitle": false,
     "title": ""
    }
   },
   "outputs": [],
   "source": [
    "# %sh FLASH_ATTENTION_FORCE_BUILD=TRUE pip install --quiet --upgrade flash-attn"
   ]
  },
  {
   "cell_type": "code",
   "execution_count": 0,
   "metadata": {
    "application/vnd.databricks.v1+cell": {
     "cellMetadata": {
      "byteLimit": 2048000,
      "rowLimit": 10000
     },
     "inputWidgets": {},
     "nuid": "aadd8a60-57af-4334-a6ca-4f1ddd1103b3",
     "showTitle": false,
     "title": ""
    }
   },
   "outputs": [
    {
     "output_type": "stream",
     "name": "stdout",
     "output_type": "stream",
     "text": [
      "loading env vars from: /Workspace/Users/donghao.huang@mastercard.com/novel-translation/.env\n"
     ]
    },
    {
     "output_type": "execute_result",
     "data": {
      "text/plain": [
       "True"
      ]
     },
     "execution_count": 5,
     "metadata": {},
     "output_type": "execute_result"
    }
   ],
   "source": [
    "from dotenv import find_dotenv, load_dotenv\n",
    "\n",
    "found_dotenv = find_dotenv(\".env\")\n",
    "\n",
    "if len(found_dotenv) == 0:\n",
    "    found_dotenv = find_dotenv(\".env.example\")\n",
    "print(f\"loading env vars from: {found_dotenv}\")\n",
    "load_dotenv(found_dotenv, override=True)"
   ]
  },
  {
   "cell_type": "code",
   "execution_count": 0,
   "metadata": {
    "application/vnd.databricks.v1+cell": {
     "cellMetadata": {
      "byteLimit": 2048000,
      "rowLimit": 10000
     },
     "inputWidgets": {},
     "nuid": "6580caa5-44b1-469a-b2e5-a2ca47e7480d",
     "showTitle": false,
     "title": ""
    }
   },
   "outputs": [
    {
     "output_type": "execute_result",
     "data": {
      "text/plain": [
       "('unsloth/Qwen2-7B-Instruct',\n",
       " True,\n",
       " 'models/Qwen2-7B-Instruct-',\n",
       " 'Qwen2-7B-Instruct-MAC-',\n",
       " 2048,\n",
       " 10,\n",
       " None,\n",
       " 'datasets/mac/mac.tsv')"
      ]
     },
     "execution_count": 6,
     "metadata": {},
     "output_type": "execute_result"
    }
   ],
   "source": [
    "import os\n",
    "\n",
    "model_name = os.getenv(\"MODEL_NAME\")\n",
    "token = os.getenv(\"HF_TOKEN\") or None\n",
    "load_in_4bit = os.getenv(\"LOAD_IN_4BIT\") == \"true\"\n",
    "local_model = os.getenv(\"LOCAL_MODEL\")\n",
    "hub_model = os.getenv(\"HUB_MODEL\")\n",
    "num_train_epochs = int(os.getenv(\"NUM_TRAIN_EPOCHS\") or 0)\n",
    "data_path = os.getenv(\"DATA_PATH\")\n",
    "\n",
    "max_seq_length = 2048  # Choose any! We auto support RoPE Scaling internally!\n",
    "dtype = (\n",
    "    None  # None for auto detection. Float16 for Tesla T4, V100, Bfloat16 for Ampere+\n",
    ")\n",
    "\n",
    "model_name, load_in_4bit, local_model, hub_model, max_seq_length, num_train_epochs, dtype, data_path"
   ]
  },
  {
   "cell_type": "markdown",
   "metadata": {
    "application/vnd.databricks.v1+cell": {
     "cellMetadata": {
      "byteLimit": 2048000,
      "rowLimit": 10000
     },
     "inputWidgets": {},
     "nuid": "1ede2792-df8f-4ce0-a9b2-a25cc9873f7c",
     "showTitle": false,
     "title": ""
    },
    "id": "r2v_X2fA0Df5"
   },
   "source": [
    "* We support Llama, Mistral, Phi-3, Gemma, Yi, DeepSeek, Qwen, TinyLlama, Vicuna, Open Hermes etc\n",
    "* We support 16bit LoRA or 4bit QLoRA. Both 2x faster.\n",
    "* `max_seq_length` can be set to anything, since we do automatic RoPE Scaling via [kaiokendev's](https://kaiokendev.github.io/til) method.\n",
    "* With [PR 26037](https://github.com/huggingface/transformers/pull/26037), we support downloading 4bit models **4x faster**! [Our repo](https://huggingface.co/unsloth) has Llama, Mistral 4bit models.\n",
    "* [**NEW**] We make Phi-3 Medium / Mini **2x faster**! See our [Phi-3 Medium notebook](https://colab.research.google.com/drive/1hhdhBa1j_hsymiW9m-WzxQtgqTH_NHqi?usp=sharing)"
   ]
  },
  {
   "cell_type": "code",
   "execution_count": 0,
   "metadata": {
    "application/vnd.databricks.v1+cell": {
     "cellMetadata": {
      "byteLimit": 2048000,
      "rowLimit": 10000
     },
     "inputWidgets": {},
     "nuid": "598c313a-9d5b-4d06-bcd8-bdfffeace1b3",
     "showTitle": false,
     "title": ""
    },
    "colab": {
     "base_uri": "https://localhost:8080/",
     "height": 353,
     "referenced_widgets": [
      "98c58f23f4d549518832cb2d18f796e8",
      "09b76013aa9e45efb6deb23a7a0d0925",
      "39b29a75374b45c0a22506010be2b84e",
      "78e5400bff924a92a4cc61c4ff18b182",
      "2a58d04b428c46f4b3dbadd3bc6cd529",
      "dea41c5260884aa6879b5e1d1697b14f",
      "89965917796a4f81b899fdc7685f33df",
      "30cdc32298134cb0be4d41615b9e5774",
      "47928317548c454bba6358ab132e8dee",
      "b9b313fd861948f5aba25b24b1518d30",
      "4c666f4ace3943f8b80ecd20e7503236",
      "c22f71b1f85843209d7e5321506b9cb9",
      "1f44c9ce1adf470cbb19784493ed209f",
      "f1addc4479d849879e743cf9089e6540",
      "8b3505352a5a42bf910428c40ce40465",
      "4c4c88d4c701450692fa0f6b0c5764b0",
      "0c34be936c8145d3ab41282f30a70713",
      "0a92c56bfa134ef583220d7ef0b13e17",
      "43dec2ede91341f5af60eb522e18e984",
      "d8e5318cead340c4adbeaccc05d39225",
      "49277aeeac16434a865a4d12308b1abc",
      "2157f01726d748f8a9ae4a00664430da",
      "fce7a61c25ec4390af43d92b7c473a45",
      "30307300bc4e4baf96560e30969a82b6",
      "8fc142b628fb40568730234de1cafde2",
      "a8464a4c711e4e00aafdfc919b60d07e",
      "5f40db8173dd4d76b6ef5ed6d9ec8b6e",
      "e36a3f9eff0e4cf68834d66b0213ae96",
      "a0037bdccf254159becde630bee3d1db",
      "4ae7e449e4ea4c729b5f34607c18ebae",
      "3572201bd4d74a58b7a665f9bdfdcdba",
      "fb995c740590427b882572c81d4e848c",
      "201b59ccd9f845e197029b57e424aefc",
      "cf245afeb1c04f29a24d291608c3d157",
      "b518dcee69074b87be73957cd810e7ed",
      "e29104486d594b2992d7285e0ef77371",
      "6578fd7acdb54c4c93528ea431fd0144",
      "d35db8148a354c56aaac56dbae22536f",
      "d891f8d0b1fc462f8008d02bb2a15692",
      "cced8fd7e998472794f3f3e3018956a5",
      "a9f0cc51fc3d4d7b874c32dcf1c5bdf2",
      "2f6c70dd266c4816bfad3fd3d192929a",
      "370692d819df41828b48c4ad446f977b",
      "a0bf9160eb2647409b3200270914b90f",
      "2d18ddf6482c4d97829ac0e5a7b9868f",
      "9f679ad3ec7f4fe8ad0510ffb57bc2ab",
      "f2df530d22c74977b249dd9fb5f4829b",
      "89b2ef0dbfea47ab8e6f8d659e3351d1",
      "3056b148aa9f4e6e8aa3b61d26886255",
      "4ea63adfce694725bdba878aef709dd3",
      "74501720ac7e4dbb911a4a99b3633bc6",
      "21db8a77b00d4a4e82fdfa608657531f",
      "6dbbedeca9314e66ae50e44ffa31a414",
      "b8908fa0df3743ecb9d12983a739104f",
      "177c78fce95d4b4ab33057c5a048d693",
      "27155728b6b84cb199c91c940095d0a8",
      "6b91feeed5464877991ac2c207aebe7c",
      "cca8113c54c0495daedce1327bf9c68b",
      "2e63a29e2f7247bba5beede9a568c99f",
      "5c9d781c28944f3eb86e2a6d44efdf18",
      "4b2061b8a73c43ffb0c2f83daf0d0183",
      "69ac12aec0714318bf2c83d4f4e745f5",
      "e02f9b7849c64531835eb77b860d1c93",
      "56aee4853b7740e6a977254f5d1fa66d",
      "b993eaec6b224440bf80c0958c6fb536",
      "de868e26e7154f62aa86223a539ad421"
     ]
    },
    "id": "QmUBVEnvCDJv",
    "outputId": "a0e2d781-4934-415a-90b4-35165b9e44c5"
   },
   "outputs": [
    {
     "output_type": "stream",
     "name": "stderr",
     "output_type": "stream",
     "text": [
      "Exception ignored on calling ctypes callback function: <function _ThreadpoolInfo._find_modules_with_dl_iterate_phdr.<locals>.match_module_callback at 0x7f1178023600>\nTraceback (most recent call last):\n  File \"/databricks/python/lib/python3.11/site-packages/threadpoolctl.py\", line 400, in match_module_callback\n    self._make_module_from_path(filepath)\n  File \"/databricks/python/lib/python3.11/site-packages/threadpoolctl.py\", line 515, in _make_module_from_path\n    module = module_class(filepath, prefix, user_api, internal_api)\n             ^^^^^^^^^^^^^^^^^^^^^^^^^^^^^^^^^^^^^^^^^^^^^^^^^^^^^^\n  File \"/databricks/python/lib/python3.11/site-packages/threadpoolctl.py\", line 606, in __init__\n    self.version = self.get_version()\n                   ^^^^^^^^^^^^^^^^^^\n  File \"/databricks/python/lib/python3.11/site-packages/threadpoolctl.py\", line 646, in get_version\n    config = get_config().split()\n             ^^^^^^^^^^^^^^^^^^\nAttributeError: 'NoneType' object has no attribute 'split'\n2024-06-18 08:48:22.440302: I tensorflow/core/platform/cpu_feature_guard.cc:210] This TensorFlow binary is optimized to use available CPU instructions in performance-critical operations.\nTo enable the following instructions: AVX2 FMA, in other operations, rebuild TensorFlow with the appropriate compiler flags.\n"
     ]
    },
    {
     "output_type": "stream",
     "name": "stdout",
     "output_type": "stream",
     "text": [
      "🦥 Unsloth: Will patch your computer to enable 2x faster free finetuning.\n"
     ]
    },
    {
     "output_type": "stream",
     "name": "stderr",
     "output_type": "stream",
     "text": [
      "[nltk_data] Downloading package wordnet to /root/nltk_data...\n[nltk_data]   Package wordnet is already up-to-date!\n[nltk_data] Downloading package punkt to /root/nltk_data...\n[nltk_data]   Package punkt is already up-to-date!\n[nltk_data] Downloading package omw-1.4 to /root/nltk_data...\n[nltk_data]   Package omw-1.4 is already up-to-date!\n"
     ]
    },
    {
     "output_type": "stream",
     "name": "stdout",
     "output_type": "stream",
     "text": [
      "==((====))==  Unsloth: Fast Qwen2 patching release 2024.6\n   \\\\   /|    GPU: NVIDIA A100 80GB PCIe. Max memory: 79.151 GB. Platform = Linux.\nO^O/ \\_/ \\    Pytorch: 2.3.0+cu121. CUDA = 8.0. CUDA Toolkit = 12.1.\n\\        /    Bfloat16 = TRUE. Xformers = 0.0.26.post1. FA = True.\n \"-____-\"     Free Apache license: http://github.com/unslothai/unsloth\n"
     ]
    },
    {
     "output_type": "display_data",
     "data": {
      "application/vnd.jupyter.widget-view+json": {
       "model_id": "6da1b4f89ca34c9da8c9602a25e27f80",
       "version_major": 2,
       "version_minor": 0
      },
      "text/plain": [
       "Loading checkpoint shards:   0%|          | 0/4 [00:00<?, ?it/s]"
      ]
     },
     "metadata": {},
     "output_type": "display_data"
    },
    {
     "output_type": "stream",
     "name": "stderr",
     "output_type": "stream",
     "text": [
      "Special tokens have been added in the vocabulary, make sure the associated word embeddings are fine-tuned or trained.\nSpecial tokens have been added in the vocabulary, make sure the associated word embeddings are fine-tuned or trained.\n"
     ]
    },
    {
     "output_type": "stream",
     "name": "stdout",
     "output_type": "stream",
     "text": [
      "CPU times: user 15.5 s, sys: 3.93 s, total: 19.4 s\nWall time: 15.9 s\n"
     ]
    }
   ],
   "source": [
    "%%time\n",
    "\n",
    "from translation_engine import *\n",
    "\n",
    "model, tokenizer = load_model(model_name, load_in_4bit)"
   ]
  },
  {
   "cell_type": "markdown",
   "metadata": {
    "application/vnd.databricks.v1+cell": {
     "cellMetadata": {
      "byteLimit": 2048000,
      "rowLimit": 10000
     },
     "inputWidgets": {},
     "nuid": "ca212ac2-5efa-4478-9cac-86b85686705d",
     "showTitle": false,
     "title": ""
    },
    "id": "SXd9bTZd1aaL"
   },
   "source": [
    "We now add LoRA adapters so we only need to update 1 to 10% of all parameters!"
   ]
  },
  {
   "cell_type": "code",
   "execution_count": 0,
   "metadata": {
    "application/vnd.databricks.v1+cell": {
     "cellMetadata": {
      "byteLimit": 2048000,
      "rowLimit": 10000
     },
     "inputWidgets": {},
     "nuid": "cdcfe773-4b62-4dde-9f03-96216e0efe2b",
     "showTitle": false,
     "title": ""
    },
    "colab": {
     "base_uri": "https://localhost:8080/"
    },
    "id": "6bZsfBuZDeCL",
    "outputId": "bc6d9ce7-f82a-4191-d0c5-ec8247d9b9eb"
   },
   "outputs": [
    {
     "output_type": "stream",
     "name": "stderr",
     "output_type": "stream",
     "text": [
      "Unsloth 2024.6 patched 28 layers with 0 QKV layers, 28 O layers and 28 MLP layers.\n"
     ]
    },
    {
     "output_type": "stream",
     "name": "stdout",
     "output_type": "stream",
     "text": [
      "CPU times: user 43.9 s, sys: 158 ms, total: 44 s\nWall time: 5.05 s\n"
     ]
    }
   ],
   "source": [
    "%python\n",
    "%%time\n",
    "\n",
    "model = FastLanguageModel.get_peft_model(\n",
    "    model,\n",
    "    r=16,  # Choose any number > 0 ! Suggested 8, 16, 32, 64, 128\n",
    "    target_modules=[\n",
    "        \"q_proj\",\n",
    "        \"k_proj\",\n",
    "        \"v_proj\",\n",
    "        \"o_proj\",\n",
    "        \"gate_proj\",\n",
    "        \"up_proj\",\n",
    "        \"down_proj\",\n",
    "    ],\n",
    "    lora_alpha=16,\n",
    "    lora_dropout=0,  # Supports any, but = 0 is optimized\n",
    "    bias=\"none\",  # Supports any, but = \"none\" is optimized\n",
    "    # [NEW] \"unsloth\" uses 30% less VRAM, fits 2x larger batch sizes!\n",
    "    use_gradient_checkpointing=\"unsloth\",  # True or \"unsloth\" for very long context\n",
    "    random_state=3407,\n",
    "    use_rslora=False,  # We support rank stabilized LoRA\n",
    "    loftq_config=None,  # And LoftQ\n",
    ")"
   ]
  },
  {
   "cell_type": "markdown",
   "metadata": {
    "application/vnd.databricks.v1+cell": {
     "cellMetadata": {
      "byteLimit": 2048000,
      "rowLimit": 10000
     },
     "inputWidgets": {},
     "nuid": "051e6b44-187f-43b7-8360-be7bdd1856d2",
     "showTitle": false,
     "title": ""
    },
    "id": "vITh0KVJ10qX"
   },
   "source": [
    "<a name=\"Data\"></a>\n",
    "### Data Prep\n",
    "We now use the Alpaca dataset from [yahma](https://huggingface.co/datasets/yahma/alpaca-cleaned), which is a filtered version of 52K of the original [Alpaca dataset](https://crfm.stanford.edu/2023/03/13/alpaca.html). You can replace this code section with your own data prep.\n",
    "\n",
    "**[NOTE]** To train only on completions (ignoring the user's input) read TRL's docs [here](https://huggingface.co/docs/trl/sft_trainer#train-on-completions-only).\n",
    "\n",
    "**[NOTE]** Remember to add the **EOS_TOKEN** to the tokenized output!! Otherwise you'll get infinite generations!\n",
    "\n",
    "If you want to use the `llama-3` template for ShareGPT datasets, try our conversational [notebook](https://colab.research.google.com/drive/1XamvWYinY6FOSX9GLvnqSjjsNflxdhNc?usp=sharing).\n",
    "\n",
    "For text completions like novel writing, try this [notebook](https://colab.research.google.com/drive/1ef-tab5bhkvWmBOObepl1WgJvfvSzn5Q?usp=sharing)."
   ]
  },
  {
   "cell_type": "code",
   "execution_count": 0,
   "metadata": {
    "application/vnd.databricks.v1+cell": {
     "cellMetadata": {
      "byteLimit": 2048000,
      "rowLimit": 10000
     },
     "inputWidgets": {},
     "nuid": "980846a7-5217-49ca-a44c-acd5ff4cfedc",
     "showTitle": false,
     "title": ""
    }
   },
   "outputs": [
    {
     "output_type": "stream",
     "name": "stdout",
     "output_type": "stream",
     "text": [
      "loading train/test data files\n"
     ]
    },
    {
     "output_type": "stream",
     "name": "stderr",
     "output_type": "stream",
     "text": [
      "/databricks/python_shell/dbruntime/huggingface_patches/datasets.py:45: UserWarning: The cache_dir for this dataset is /root/.cache, which is not a persistent path.Therefore, if/when the cluster restarts, the downloaded dataset will be lost.The persistent storage options for this workspace/cluster config are: [DBFS, UC Volumes].Please update either `cache_dir` or the environment variable `HF_DATASETS_CACHE`to be under one of the following root directories: ['/dbfs/', '/Volumes/']\n  warnings.warn(warning_message)\n/databricks/python_shell/dbruntime/huggingface_patches/datasets.py:14: UserWarning: During large dataset downloads, there could be multiple progress bar widgets that can cause performance issues for your notebook or browser. To avoid these issues, use `datasets.utils.logging.disable_progress_bar()` to turn off the progress bars.\n  warnings.warn(\n"
     ]
    },
    {
     "output_type": "stream",
     "name": "stdout",
     "output_type": "stream",
     "text": [
      "DatasetDict({\n    train: Dataset({\n        features: ['chinese', 'english', 'text', 'prompt'],\n        num_rows: 4528\n    })\n    test: Dataset({\n        features: ['chinese', 'english', 'text', 'prompt'],\n        num_rows: 1133\n    })\n})\n"
     ]
    }
   ],
   "source": [
    "%python\n",
    "import os\n",
    "from translation_engine import *\n",
    "\n",
    "datasets = load_translation_dataset(data_path, tokenizer)"
   ]
  },
  {
   "cell_type": "code",
   "execution_count": 0,
   "metadata": {
    "application/vnd.databricks.v1+cell": {
     "cellMetadata": {
      "byteLimit": 2048000,
      "rowLimit": 10000
     },
     "inputWidgets": {},
     "nuid": "7401f850-f6a5-4be3-8625-0a13f5448993",
     "showTitle": false,
     "title": ""
    }
   },
   "outputs": [
    {
     "output_type": "execute_result",
     "data": {
      "text/plain": [
       "({'chinese': '全仗着狐仙搭救。',\n",
       "  'english': 'Because I was protected by a fox fairy.',\n",
       "  'text': '<|im_start|>system\\nYou are an expert in translating Chinese to English.<|im_end|>\\n<|im_start|>user\\nPlease translate the following Chinese text into English and provide only the translated content, nothing else.\\n全仗着狐仙搭救。<|im_end|>\\n<|im_start|>assistant\\nBecause I was protected by a fox fairy.<|im_end|>',\n",
       "  'prompt': '<|im_start|>system\\nYou are an expert in translating Chinese to English.<|im_end|>\\n<|im_start|>user\\nPlease translate the following Chinese text into English and provide only the translated content, nothing else.\\n全仗着狐仙搭救。<|im_end|>\\n<|im_start|>assistant\\n'},\n",
       " {'chinese': '老耿端起枪，眯缝起一只三角眼，一搂扳机响了枪，冰雹般的金麻雀劈哩啪啦往下落，铁砂子在柳枝间飞迸着，嚓嚓有声。',\n",
       "  'english': 'Old Geng picked up his shotgun, squinted, and pulled the trigger. Two sparrows crashed to the ground like hailstones as shotgun pellets tore noisily through the branches.',\n",
       "  'text': '<|im_start|>system\\nYou are an expert in translating Chinese to English.<|im_end|>\\n<|im_start|>user\\nPlease translate the following Chinese text into English and provide only the translated content, nothing else.\\n老耿端起枪，眯缝起一只三角眼，一搂扳机响了枪，冰雹般的金麻雀劈哩啪啦往下落，铁砂子在柳枝间飞迸着，嚓嚓有声。<|im_end|>\\n<|im_start|>assistant\\nOld Geng picked up his shotgun, squinted, and pulled the trigger. Two sparrows crashed to the ground like hailstones as shotgun pellets tore noisily through the branches.<|im_end|>',\n",
       "  'prompt': '<|im_start|>system\\nYou are an expert in translating Chinese to English.<|im_end|>\\n<|im_start|>user\\nPlease translate the following Chinese text into English and provide only the translated content, nothing else.\\n老耿端起枪，眯缝起一只三角眼，一搂扳机响了枪，冰雹般的金麻雀劈哩啪啦往下落，铁砂子在柳枝间飞迸着，嚓嚓有声。<|im_end|>\\n<|im_start|>assistant\\n'})"
      ]
     },
     "execution_count": 10,
     "metadata": {},
     "output_type": "execute_result"
    }
   ],
   "source": [
    "datasets[\"train\"][0], datasets[\"test\"][0]"
   ]
  },
  {
   "cell_type": "code",
   "execution_count": 0,
   "metadata": {
    "application/vnd.databricks.v1+cell": {
     "cellMetadata": {
      "byteLimit": 2048000,
      "rowLimit": 10000
     },
     "inputWidgets": {},
     "nuid": "7acf8b1e-7c24-4e7b-bc1e-cbc10ec1d2d5",
     "showTitle": false,
     "title": ""
    }
   },
   "outputs": [
    {
     "output_type": "execute_result",
     "data": {
      "text/plain": [
       "({'chinese': '几分钟后，浏览器上出现了一个坐标窗口，一条红色曲线在窗口上出现，与另外三条进行着精确同步的波动。',\n",
       "  'english': 'A few minutes later, a red waveform appeared in the browser window, moving in step with the other three.',\n",
       "  'text': '<|im_start|>system\\nYou are an expert in translating Chinese to English.<|im_end|>\\n<|im_start|>user\\nPlease translate the following Chinese text into English and provide only the translated content, nothing else.\\n几分钟后，浏览器上出现了一个坐标窗口，一条红色曲线在窗口上出现，与另外三条进行着精确同步的波动。<|im_end|>\\n<|im_start|>assistant\\nA few minutes later, a red waveform appeared in the browser window, moving in step with the other three.<|im_end|>',\n",
       "  'prompt': '<|im_start|>system\\nYou are an expert in translating Chinese to English.<|im_end|>\\n<|im_start|>user\\nPlease translate the following Chinese text into English and provide only the translated content, nothing else.\\n几分钟后，浏览器上出现了一个坐标窗口，一条红色曲线在窗口上出现，与另外三条进行着精确同步的波动。<|im_end|>\\n<|im_start|>assistant\\n'},\n",
       " {'chinese': '然后他们到一间为游客开的通宵酒吧中去坐了两个多小时，沙瑞山一杯接着一杯地灌啤酒，变得更加健谈，而汪淼却早已心神不定，脑子里不断地浮现出那条绿色直线。',\n",
       "  'english': \"Then they went to an all-night bar for tourists and sat for two hours. As Sha finished one beer after another, his tongue loosened even more. But Wang became anxious, and his mind kept returning to that green line on the terminal in Sha's office.\",\n",
       "  'text': \"<|im_start|>system\\nYou are an expert in translating Chinese to English.<|im_end|>\\n<|im_start|>user\\nPlease translate the following Chinese text into English and provide only the translated content, nothing else.\\n然后他们到一间为游客开的通宵酒吧中去坐了两个多小时，沙瑞山一杯接着一杯地灌啤酒，变得更加健谈，而汪淼却早已心神不定，脑子里不断地浮现出那条绿色直线。<|im_end|>\\n<|im_start|>assistant\\nThen they went to an all-night bar for tourists and sat for two hours. As Sha finished one beer after another, his tongue loosened even more. But Wang became anxious, and his mind kept returning to that green line on the terminal in Sha's office.<|im_end|>\",\n",
       "  'prompt': '<|im_start|>system\\nYou are an expert in translating Chinese to English.<|im_end|>\\n<|im_start|>user\\nPlease translate the following Chinese text into English and provide only the translated content, nothing else.\\n然后他们到一间为游客开的通宵酒吧中去坐了两个多小时，沙瑞山一杯接着一杯地灌啤酒，变得更加健谈，而汪淼却早已心神不定，脑子里不断地浮现出那条绿色直线。<|im_end|>\\n<|im_start|>assistant\\n'})"
      ]
     },
     "execution_count": 11,
     "metadata": {},
     "output_type": "execute_result"
    }
   ],
   "source": [
    "datasets[\"train\"][100], datasets[\"test\"][100]"
   ]
  },
  {
   "cell_type": "code",
   "execution_count": 0,
   "metadata": {
    "application/vnd.databricks.v1+cell": {
     "cellMetadata": {
      "byteLimit": 2048000,
      "rowLimit": 10000
     },
     "inputWidgets": {},
     "nuid": "5b5e13fd-c5fe-4221-9ebf-93ed66f8b2f1",
     "showTitle": false,
     "title": ""
    },
    "colab": {
     "base_uri": "https://localhost:8080/",
     "height": 145,
     "referenced_widgets": [
      "26e4202cca81496a90d15a0dd4ca9cf1",
      "ba90fdb8822d47dab7ba203bee297f37",
      "61560ff6a36b44f4a9dfdae5c52791d4",
      "95fbe66647904c06a20f640630d6dc0e",
      "57182a263d324a3dbf1471c74290a0d5",
      "0f8b6bfe16894500838793f2491d403f",
      "bb19f6c747754682a514373a3a0535ba",
      "db19fc8d37db4e45a5790a876836d8c4",
      "36166c7bcb854b34aca1f41a5d6ea50b",
      "b0a370dc20654b279b9680692e34418e",
      "cfeb365ddf7548d58b2557f22737fcf5",
      "73e352a3404f4c7dad0737f57d29e92f",
      "988a0e8c1f89446086858da0a891a79c",
      "4ccedf0d93094e63b57a0f8a434fba06",
      "6b2012c3f88547af8884a9ea90e3164b",
      "7e29cb8dd4df4d5b94407cd8fd3f2011",
      "ad2be500fc164c0f86f33e914ef8e6a0",
      "5234566b1bfc4655b8d582ea5b46ed9f",
      "4463edd481c1467f914c7dcd6c6e6ffc",
      "6d3b9a05db0b4dadb638c686faa0c40a",
      "938f45f1b3e24118b815d96ae34ba86a",
      "9367047a800747f79c6b225d92397846",
      "d1b47d39450d4019ae85c9b2f943eeaf",
      "4dcf6ff672d24983a1877a8431709aa9",
      "7975adbc2ec5489ea7fa0167e620d85c",
      "71ce208e20d6483abb9ed923510c86d7",
      "cfe8cae0e22b495bafa221a63d13b283",
      "5807d5fb827d490fb3bc698f801ffff5",
      "c4f2b06a82fd4987b8b659524a7b503b",
      "6e34619b45934040b6092e6fb01ea7fe",
      "271ddaa553a042d09b6db7b450643d8f",
      "d69dc491b3ab44d7852b21873ed7bb7f",
      "f401d53bf28e44eb906bce6c05412662",
      "daf4cd890b35422683d22fd30bc71e83",
      "b0240cd9a4554b29ae11f8051984a1c6",
      "bc883d4cf13e4f8b8a4fe5f410cb6efd",
      "99fdbb0300c14c139d1937c646f0cfe7",
      "c161d94df0f04feba9542237e0856c22",
      "edaf890370314a218f138015faa0b05d",
      "697f027529b54ee9956bae78a11e0611",
      "e9159e03e61f4f56978ece9c3bca49b2",
      "810ff6c0e17d4fa09a30fef27eacff90",
      "7358cdad832342c983e31efb8754ab78",
      "e9adf418296e436fb48bb9f78885598b"
     ]
    },
    "id": "LjY75GoYUCB8",
    "outputId": "7e2045fb-9ce9-49b1-b6e7-d5c9bc92455c"
   },
   "outputs": [
    {
     "output_type": "stream",
     "name": "stdout",
     "output_type": "stream",
     "text": [
      "<|im_start|>system\nYou are an expert in translating Chinese to English.<|im_end|>\n<|im_start|>user\nPlease translate the following Chinese text into English and provide only the translated content, nothing else.\n然后他们到一间为游客开的通宵酒吧中去坐了两个多小时，沙瑞山一杯接着一杯地灌啤酒，变得更加健谈，而汪淼却早已心神不定，脑子里不断地浮现出那条绿色直线。<|im_end|>\n<|im_start|>assistant\n\n----------------------------------------\n<|im_start|>system\nYou are an expert in translating Chinese to English.<|im_end|>\n<|im_start|>user\nPlease translate the following Chinese text into English and provide only the translated content, nothing else.\n然后他们到一间为游客开的通宵酒吧中去坐了两个多小时，沙瑞山一杯接着一杯地灌啤酒，变得更加健谈，而汪淼却早已心神不定，脑子里不断地浮现出那条绿色直线。<|im_end|>\n<|im_start|>assistant\nThen they spent more than two hours at a 24-hour bar for tourists, where Sharisun drank beer one after another and became increasingly talkative. Meanwhile, Wang Miao was already restless, his mind constantly replaying that green line.<|im_end|>\nCPU times: user 2.63 s, sys: 188 ms, total: 2.82 s\nWall time: 3.49 s\n"
     ]
    }
   ],
   "source": [
    "%%time\n",
    "\n",
    "prompt1 = datasets[\"test\"][\"prompt\"][100]\n",
    "print(prompt1)\n",
    "print(\"--\" * 20)\n",
    "test_model(model, tokenizer, prompt1)"
   ]
  },
  {
   "cell_type": "code",
   "execution_count": 0,
   "metadata": {
    "application/vnd.databricks.v1+cell": {
     "cellMetadata": {
      "byteLimit": 2048000,
      "rowLimit": 10000
     },
     "inputWidgets": {},
     "nuid": "245acfc5-d3b0-4337-b915-6aee6cb0a096",
     "showTitle": false,
     "title": ""
    }
   },
   "outputs": [
    {
     "output_type": "stream",
     "name": "stderr",
     "output_type": "stream",
     "text": [
      "\r  0%|          | 0/1133 [00:00<?, ?it/s]\r  0%|          | 1/1133 [00:03<1:02:03,  3.29s/it]\r  0%|          | 2/1133 [00:06<1:05:35,  3.48s/it]\r  0%|          | 3/1133 [00:11<1:15:29,  4.01s/it]\r  0%|          | 4/1133 [00:14<1:04:23,  3.42s/it]\r  0%|          | 5/1133 [00:16<55:41,  2.96s/it]  \r  1%|          | 6/1133 [00:17<46:42,  2.49s/it]\r  1%|          | 7/1133 [00:20<46:12,  2.46s/it]\r  1%|          | 8/1133 [00:25<1:00:20,  3.22s/it]\r  1%|          | 9/1133 [00:26<48:10,  2.57s/it]  \r  1%|          | 10/1133 [00:27<38:31,  2.06s/it]\r  1%|          | 11/1133 [00:27<30:33,  1.63s/it]\r  1%|          | 12/1133 [00:29<33:53,  1.81s/it]\r  1%|          | 13/1133 [00:30<28:43,  1.54s/it]\r  1%|          | 14/1133 [00:31<21:45,  1.17s/it]\r  1%|▏         | 15/1133 [00:33<30:49,  1.65s/it]\r  1%|▏         | 16/1133 [00:35<27:37,  1.48s/it]\r  2%|▏         | 17/1133 [00:36<30:06,  1.62s/it]\r  2%|▏         | 18/1133 [00:39<35:40,  1.92s/it]\r  2%|▏         | 19/1133 [00:40<27:57,  1.51s/it]\r  2%|▏         | 20/1133 [00:42<31:20,  1.69s/it]\r  2%|▏         | 21/1133 [00:43<29:20,  1.58s/it]\r  2%|▏         | 22/1133 [00:46<37:32,  2.03s/it]\r  2%|▏         | 23/1133 [00:47<30:28,  1.65s/it]\r  2%|▏         | 24/1133 [00:48<27:31,  1.49s/it]\r  2%|▏         | 25/1133 [00:50<28:18,  1.53s/it]\r  2%|▏         | 26/1133 [00:52<34:04,  1.85s/it]\r  2%|▏         | 27/1133 [00:54<32:08,  1.74s/it]\r  2%|▏         | 28/1133 [00:54<26:11,  1.42s/it]\r  3%|▎         | 29/1133 [00:55<22:58,  1.25s/it]\r  3%|▎         | 30/1133 [00:56<19:24,  1.06s/it]\r  3%|▎         | 31/1133 [00:56<16:36,  1.11it/s]\r  3%|▎         | 32/1133 [00:59<25:41,  1.40s/it]\r  3%|▎         | 33/1133 [01:04<45:06,  2.46s/it]\r  3%|▎         | 34/1133 [01:06<45:25,  2.48s/it]\r  3%|▎         | 35/1133 [01:08<39:41,  2.17s/it]\r  3%|▎         | 36/1133 [01:09<36:16,  1.98s/it]\r  3%|▎         | 37/1133 [01:11<31:20,  1.72s/it]\r  3%|▎         | 38/1133 [01:12<27:32,  1.51s/it]\r  3%|▎         | 39/1133 [01:12<21:35,  1.18s/it]\r  4%|▎         | 40/1133 [01:13<23:01,  1.26s/it]\r  4%|▎         | 41/1133 [01:17<34:00,  1.87s/it]\r  4%|▎         | 42/1133 [01:17<27:25,  1.51s/it]\r  4%|▍         | 43/1133 [01:19<30:22,  1.67s/it]\r  4%|▍         | 44/1133 [01:21<28:10,  1.55s/it]\r  4%|▍         | 45/1133 [01:21<23:22,  1.29s/it]\r  4%|▍         | 46/1133 [01:25<34:01,  1.88s/it]\r  4%|▍         | 47/1133 [01:26<31:40,  1.75s/it]\r  4%|▍         | 48/1133 [01:27<25:06,  1.39s/it]\r  4%|▍         | 49/1133 [01:30<35:47,  1.98s/it]\r  4%|▍         | 50/1133 [01:31<30:31,  1.69s/it]\r  5%|▍         | 51/1133 [01:33<30:21,  1.68s/it]\r  5%|▍         | 52/1133 [01:36<38:41,  2.15s/it]\r  5%|▍         | 53/1133 [01:37<34:31,  1.92s/it]\r  5%|▍         | 54/1133 [01:38<28:17,  1.57s/it]\r  5%|▍         | 55/1133 [01:43<47:48,  2.66s/it]\r  5%|▍         | 56/1133 [01:45<42:07,  2.35s/it]\r  5%|▌         | 57/1133 [01:47<42:47,  2.39s/it]\r  5%|▌         | 58/1133 [01:50<42:37,  2.38s/it]\r  5%|▌         | 59/1133 [01:50<33:01,  1.85s/it]\r  5%|▌         | 60/1133 [01:53<37:51,  2.12s/it]\r  5%|▌         | 61/1133 [01:54<31:30,  1.76s/it]\r  5%|▌         | 62/1133 [01:55<27:48,  1.56s/it]\r  6%|▌         | 63/1133 [01:57<30:38,  1.72s/it]\r  6%|▌         | 64/1133 [01:58<28:09,  1.58s/it]\r  6%|▌         | 65/1133 [02:00<28:04,  1.58s/it]\r  6%|▌         | 66/1133 [02:02<27:39,  1.56s/it]\r  6%|▌         | 67/1133 [02:05<36:02,  2.03s/it]\r  6%|▌         | 68/1133 [02:08<43:03,  2.43s/it]\r  6%|▌         | 69/1133 [02:10<42:06,  2.37s/it]\r  6%|▌         | 70/1133 [02:12<36:27,  2.06s/it]\r  6%|▋         | 71/1133 [02:12<28:24,  1.60s/it]\r  6%|▋         | 72/1133 [02:13<24:55,  1.41s/it]\r  6%|▋         | 73/1133 [02:14<22:25,  1.27s/it]\r  7%|▋         | 74/1133 [02:15<18:31,  1.05s/it]\r  7%|▋         | 75/1133 [02:15<17:22,  1.02it/s]\r  7%|▋         | 76/1133 [02:17<18:31,  1.05s/it]\r  7%|▋         | 77/1133 [02:18<22:12,  1.26s/it]\r  7%|▋         | 78/1133 [02:19<19:57,  1.14s/it]\r  7%|▋         | 79/1133 [02:21<25:05,  1.43s/it]\r  7%|▋         | 80/1133 [02:22<21:59,  1.25s/it]\r  7%|▋         | 81/1133 [02:23<17:56,  1.02s/it]\r  7%|▋         | 82/1133 [02:23<15:24,  1.14it/s]\r  7%|▋         | 83/1133 [02:26<26:55,  1.54s/it]\r  7%|▋         | 84/1133 [02:27<21:23,  1.22s/it]\r  8%|▊         | 85/1133 [02:27<16:52,  1.03it/s]\r  8%|▊         | 86/1133 [02:28<17:49,  1.02s/it]\r  8%|▊         | 87/1133 [02:30<19:06,  1.10s/it]\r  8%|▊         | 88/1133 [02:32<24:14,  1.39s/it]\r  8%|▊         | 89/1133 [02:32<21:33,  1.24s/it]\r  8%|▊         | 90/1133 [02:35<29:12,  1.68s/it]\r  8%|▊         | 91/1133 [02:36<24:49,  1.43s/it]\r  8%|▊         | 92/1133 [02:37<24:32,  1.41s/it]\r  8%|▊         | 93/1133 [02:40<28:37,  1.65s/it]\r  8%|▊         | 94/1133 [02:41<26:48,  1.55s/it]\r  8%|▊         | 95/1133 [02:43<27:24,  1.58s/it]\r  8%|▊         | 96/1133 [02:45<31:27,  1.82s/it]\r  9%|▊         | 97/1133 [02:46<28:11,  1.63s/it]\r  9%|▊         | 98/1133 [02:47<24:18,  1.41s/it]\r  9%|▊         | 99/1133 [02:50<31:05,  1.80s/it]\r  9%|▉         | 100/1133 [02:51<25:29,  1.48s/it]\r  9%|▉         | 101/1133 [02:53<32:56,  1.92s/it]\r  9%|▉         | 102/1133 [02:56<38:03,  2.21s/it]\r  9%|▉         | 103/1133 [02:58<33:10,  1.93s/it]\r  9%|▉         | 104/1133 [02:58<25:22,  1.48s/it]\r  9%|▉         | 105/1133 [03:00<30:06,  1.76s/it]\r  9%|▉         | 106/1133 [03:08<58:30,  3.42s/it]\r  9%|▉         | 107/1133 [03:11<59:08,  3.46s/it]\r 10%|▉         | 108/1133 [03:13<48:05,  2.82s/it]\r 10%|▉         | 109/1133 [03:14<41:36,  2.44s/it]\r 10%|▉         | 110/1133 [03:18<46:26,  2.72s/it]\r 10%|▉         | 111/1133 [03:20<43:39,  2.56s/it]\r 10%|▉         | 112/1133 [03:24<52:55,  3.11s/it]\r 10%|▉         | 113/1133 [03:28<57:13,  3.37s/it]\r 10%|█         | 114/1133 [03:29<46:37,  2.75s/it]\r 10%|█         | 115/1133 [03:30<37:03,  2.18s/it]\r 10%|█         | 116/1133 [03:31<30:54,  1.82s/it]\r 10%|█         | 117/1133 [03:34<34:10,  2.02s/it]\r 10%|█         | 118/1133 [03:35<31:24,  1.86s/it]\r 11%|█         | 119/1133 [03:37<32:06,  1.90s/it]\r 11%|█         | 120/1133 [03:38<26:09,  1.55s/it]\r 11%|█         | 121/1133 [03:39<23:55,  1.42s/it]\r 11%|█         | 122/1133 [03:41<24:38,  1.46s/it]\r 11%|█         | 123/1133 [03:41<21:04,  1.25s/it]\r 11%|█         | 124/1133 [03:43<22:55,  1.36s/it]\r 11%|█         | 125/1133 [03:45<27:54,  1.66s/it]\r 11%|█         | 126/1133 [03:47<26:28,  1.58s/it]\r 11%|█         | 127/1133 [03:50<36:20,  2.17s/it]\r 11%|█▏        | 128/1133 [03:51<31:24,  1.88s/it]\r 11%|█▏        | 129/1133 [03:52<26:38,  1.59s/it]\r 11%|█▏        | 130/1133 [03:53<21:14,  1.27s/it]\r 12%|█▏        | 131/1133 [03:56<28:26,  1.70s/it]\r 12%|█▏        | 132/1133 [03:57<27:55,  1.67s/it]\r 12%|█▏        | 133/1133 [03:59<25:54,  1.55s/it]\r 12%|█▏        | 134/1133 [03:59<21:43,  1.31s/it]\r 12%|█▏        | 135/1133 [04:04<37:10,  2.24s/it]\r 12%|█▏        | 136/1133 [04:05<31:02,  1.87s/it]\r 12%|█▏        | 137/1133 [04:06<29:02,  1.75s/it]\r 12%|█▏        | 138/1133 [04:07<24:25,  1.47s/it]\r 12%|█▏        | 139/1133 [04:08<20:51,  1.26s/it]\r 12%|█▏        | 140/1133 [04:10<24:35,  1.49s/it]\r 12%|█▏        | 141/1133 [04:11<22:48,  1.38s/it]\r 13%|█▎        | 142/1133 [04:12<19:11,  1.16s/it]\r 13%|█▎        | 143/1133 [04:14<26:12,  1.59s/it]\r 13%|█▎        | 144/1133 [04:15<24:00,  1.46s/it]\r 13%|█▎        | 145/1133 [04:16<20:58,  1.27s/it]\r 13%|█▎        | 146/1133 [04:17<20:20,  1.24s/it]\r 13%|█▎        | 147/1133 [04:19<20:46,  1.26s/it]\r 13%|█▎        | 148/1133 [04:19<16:56,  1.03s/it]\r 13%|█▎        | 149/1133 [04:21<19:13,  1.17s/it]\r 13%|█▎        | 150/1133 [04:22<18:09,  1.11s/it]\r 13%|█▎        | 151/1133 [04:24<24:04,  1.47s/it]\r 13%|█▎        | 152/1133 [04:25<23:16,  1.42s/it]\r 14%|█▎        | 153/1133 [04:26<19:48,  1.21s/it]\r 14%|█▎        | 154/1133 [04:28<26:12,  1.61s/it]\r 14%|█▎        | 155/1133 [04:30<25:16,  1.55s/it]\r 14%|█▍        | 156/1133 [04:32<27:03,  1.66s/it]\r 14%|█▍        | 157/1133 [04:35<32:39,  2.01s/it]\r 14%|█▍        | 158/1133 [04:37<33:39,  2.07s/it]\r 14%|█▍        | 159/1133 [04:37<25:52,  1.59s/it]\r 14%|█▍        | 160/1133 [04:39<24:23,  1.50s/it]\r 14%|█▍        | 161/1133 [04:39<19:24,  1.20s/it]\r 14%|█▍        | 162/1133 [04:40<20:18,  1.25s/it]\r 14%|█▍        | 163/1133 [04:42<21:44,  1.34s/it]\r 14%|█▍        | 164/1133 [04:43<18:45,  1.16s/it]\r 15%|█▍        | 165/1133 [04:44<20:14,  1.25s/it]\r 15%|█▍        | 166/1133 [04:46<24:09,  1.50s/it]\r 15%|█▍        | 167/1133 [04:48<23:34,  1.46s/it]\r 15%|█▍        | 168/1133 [04:49<23:24,  1.46s/it]\r 15%|█▍        | 169/1133 [04:50<20:45,  1.29s/it]\r 15%|█▌        | 170/1133 [04:51<20:21,  1.27s/it]\r 15%|█▌        | 171/1133 [04:52<16:35,  1.04s/it]\r 15%|█▌        | 172/1133 [04:52<14:32,  1.10it/s]\r 15%|█▌        | 173/1133 [04:53<15:38,  1.02it/s]\r 15%|█▌        | 174/1133 [04:54<13:16,  1.20it/s]\r 15%|█▌        | 175/1133 [04:55<16:13,  1.02s/it]\r 16%|█▌        | 176/1133 [04:56<14:49,  1.08it/s]\r 16%|█▌        | 177/1133 [04:58<17:12,  1.08s/it]\r 16%|█▌        | 178/1133 [05:02<31:43,  1.99s/it]\r 16%|█▌        | 179/1133 [05:03<28:25,  1.79s/it]\r 16%|█▌        | 180/1133 [05:05<28:08,  1.77s/it]\r 16%|█▌        | 181/1133 [05:06<26:09,  1.65s/it]\r 16%|█▌        | 182/1133 [05:09<33:49,  2.13s/it]\r 16%|█▌        | 183/1133 [05:11<30:29,  1.93s/it]\r 16%|█▌        | 184/1133 [05:12<27:15,  1.72s/it]\r 16%|█▋        | 185/1133 [05:13<22:08,  1.40s/it]\r 16%|█▋        | 186/1133 [05:13<19:16,  1.22s/it]\r 17%|█▋        | 187/1133 [05:17<30:44,  1.95s/it]\r 17%|█▋        | 188/1133 [05:20<37:21,  2.37s/it]\r 17%|█▋        | 189/1133 [05:22<31:58,  2.03s/it]\r 17%|█▋        | 190/1133 [05:23<28:04,  1.79s/it]\r 17%|█▋        | 191/1133 [05:25<27:20,  1.74s/it]\r 17%|█▋        | 192/1133 [05:27<29:02,  1.85s/it]\r 17%|█▋        | 193/1133 [05:29<32:55,  2.10s/it]\r 17%|█▋        | 194/1133 [05:30<25:26,  1.63s/it]\r 17%|█▋        | 195/1133 [05:30<20:27,  1.31s/it]\r 17%|█▋        | 196/1133 [05:31<17:22,  1.11s/it]\r 17%|█▋        | 197/1133 [05:33<19:40,  1.26s/it]\r 17%|█▋        | 198/1133 [05:34<17:35,  1.13s/it]\r 18%|█▊        | 199/1133 [05:36<25:36,  1.65s/it]\r 18%|█▊        | 200/1133 [05:37<19:17,  1.24s/it]\r 18%|█▊        | 201/1133 [05:38<21:26,  1.38s/it]\r 18%|█▊        | 202/1133 [05:39<16:40,  1.07s/it]\r 18%|█▊        | 203/1133 [05:39<13:37,  1.14it/s]\r 18%|█▊        | 204/1133 [05:42<24:17,  1.57s/it]\r 18%|█▊        | 205/1133 [05:43<19:04,  1.23s/it]\r 18%|█▊        | 206/1133 [05:44<17:33,  1.14s/it]\r 18%|█▊        | 207/1133 [05:45<19:16,  1.25s/it]\r 18%|█▊        | 208/1133 [05:48<24:16,  1.57s/it]\r 18%|█▊        | 209/1133 [05:53<40:40,  2.64s/it]\r 19%|█▊        | 210/1133 [05:55<38:11,  2.48s/it]\r 19%|█▊        | 211/1133 [05:57<35:03,  2.28s/it]\r 19%|█▊        | 212/1133 [05:59<35:52,  2.34s/it]\r 19%|█▉        | 213/1133 [06:00<29:10,  1.90s/it]\r 19%|█▉        | 214/1133 [06:00<22:12,  1.45s/it]\r 19%|█▉        | 215/1133 [06:02<21:53,  1.43s/it]\r 19%|█▉        | 216/1133 [06:07<38:24,  2.51s/it]\r 19%|█▉        | 217/1133 [06:07<29:26,  1.93s/it]\r 19%|█▉        | 218/1133 [06:08<23:40,  1.55s/it]\r 19%|█▉        | 219/1133 [06:09<19:56,  1.31s/it]\r 19%|█▉        | 220/1133 [06:10<20:07,  1.32s/it]\r 20%|█▉        | 221/1133 [06:15<35:49,  2.36s/it]\r 20%|█▉        | 222/1133 [06:16<30:46,  2.03s/it]\r 20%|█▉        | 223/1133 [06:19<33:33,  2.21s/it]\r 20%|█▉        | 224/1133 [06:20<26:40,  1.76s/it]\r 20%|█▉        | 225/1133 [06:20<22:23,  1.48s/it]\r 20%|█▉        | 226/1133 [06:24<33:12,  2.20s/it]\r 20%|██        | 227/1133 [06:26<29:36,  1.96s/it]\r 20%|██        | 228/1133 [06:27<27:26,  1.82s/it]\r 20%|██        | 229/1133 [06:30<31:11,  2.07s/it]\r 20%|██        | 230/1133 [06:32<31:15,  2.08s/it]\r 20%|██        | 231/1133 [06:33<26:41,  1.78s/it]\r 20%|██        | 232/1133 [06:35<25:50,  1.72s/it]\r 21%|██        | 233/1133 [06:36<26:04,  1.74s/it]\r 21%|██        | 234/1133 [06:38<25:24,  1.70s/it]\r 21%|██        | 235/1133 [06:38<20:11,  1.35s/it]\r 21%|██        | 236/1133 [06:41<26:07,  1.75s/it]\r 21%|██        | 237/1133 [06:45<37:38,  2.52s/it]\r 21%|██        | 238/1133 [06:47<33:42,  2.26s/it]\r 21%|██        | 239/1133 [06:49<30:39,  2.06s/it]\r 21%|██        | 240/1133 [06:50<27:32,  1.85s/it]\r 21%|██▏       | 241/1133 [06:50<20:52,  1.40s/it]\r 21%|██▏       | 242/1133 [06:51<18:21,  1.24s/it]\r 21%|██▏       | 243/1133 [06:53<19:23,  1.31s/it]\r 22%|██▏       | 244/1133 [06:53<15:24,  1.04s/it]\r 22%|██▏       | 245/1133 [06:55<18:22,  1.24s/it]\r 22%|██▏       | 246/1133 [06:56<19:13,  1.30s/it]\r 22%|██▏       | 247/1133 [06:57<16:51,  1.14s/it]\r 22%|██▏       | 248/1133 [06:59<20:14,  1.37s/it]\r 22%|██▏       | 249/1133 [07:00<17:20,  1.18s/it]\r 22%|██▏       | 250/1133 [07:01<19:15,  1.31s/it]\r 22%|██▏       | 251/1133 [07:03<21:22,  1.45s/it]\r 22%|██▏       | 252/1133 [07:04<18:55,  1.29s/it]\r 22%|██▏       | 253/1133 [07:08<30:37,  2.09s/it]\r 22%|██▏       | 254/1133 [07:10<28:17,  1.93s/it]\r 23%|██▎       | 255/1133 [07:11<28:02,  1.92s/it]\r 23%|██▎       | 256/1133 [07:14<29:29,  2.02s/it]\r 23%|██▎       | 257/1133 [07:15<25:06,  1.72s/it]\r 23%|██▎       | 258/1133 [07:17<28:08,  1.93s/it]\r 23%|██▎       | 259/1133 [07:20<31:01,  2.13s/it]\r 23%|██▎       | 260/1133 [07:25<44:15,  3.04s/it]\r 23%|██▎       | 261/1133 [07:29<50:38,  3.48s/it]\r 23%|██▎       | 262/1133 [07:31<43:26,  2.99s/it]\r 23%|██▎       | 263/1133 [07:37<55:44,  3.84s/it]\r 23%|██▎       | 264/1133 [07:39<46:03,  3.18s/it]\r 23%|██▎       | 265/1133 [07:44<56:47,  3.93s/it]\r 23%|██▎       | 266/1133 [07:47<49:06,  3.40s/it]\r 24%|██▎       | 267/1133 [07:49<46:26,  3.22s/it]\r 24%|██▎       | 268/1133 [07:54<54:14,  3.76s/it]\r 24%|██▎       | 269/1133 [07:56<45:58,  3.19s/it]\r 24%|██▍       | 270/1133 [07:58<37:48,  2.63s/it]\r 24%|██▍       | 271/1133 [07:59<30:44,  2.14s/it]\r 24%|██▍       | 272/1133 [08:01<30:14,  2.11s/it]\r 24%|██▍       | 273/1133 [08:01<22:49,  1.59s/it]\r 24%|██▍       | 274/1133 [08:02<22:13,  1.55s/it]\r 24%|██▍       | 275/1133 [08:03<18:38,  1.30s/it]\r 24%|██▍       | 276/1133 [08:04<16:57,  1.19s/it]\r 24%|██▍       | 277/1133 [08:06<19:07,  1.34s/it]\r 25%|██▍       | 278/1133 [08:08<20:56,  1.47s/it]\r 25%|██▍       | 279/1133 [08:09<21:58,  1.54s/it]\r 25%|██▍       | 280/1133 [08:11<22:05,  1.55s/it]\r 25%|██▍       | 281/1133 [08:13<26:09,  1.84s/it]\r 25%|██▍       | 282/1133 [08:14<20:56,  1.48s/it]\r 25%|██▍       | 283/1133 [08:15<17:19,  1.22s/it]\r 25%|██▌       | 284/1133 [08:16<18:11,  1.29s/it]\r 25%|██▌       | 285/1133 [08:17<18:32,  1.31s/it]\r 25%|██▌       | 286/1133 [08:18<17:15,  1.22s/it]\r 25%|██▌       | 287/1133 [08:20<19:41,  1.40s/it]\r 25%|██▌       | 288/1133 [08:22<19:30,  1.38s/it]\r 26%|██▌       | 289/1133 [08:22<17:31,  1.25s/it]\r 26%|██▌       | 290/1133 [08:24<20:05,  1.43s/it]\r 26%|██▌       | 291/1133 [08:27<23:42,  1.69s/it]\r 26%|██▌       | 292/1133 [08:28<20:31,  1.46s/it]\r 26%|██▌       | 293/1133 [08:32<30:53,  2.21s/it]\r 26%|██▌       | 294/1133 [08:32<25:42,  1.84s/it]\r 26%|██▌       | 295/1133 [08:35<26:30,  1.90s/it]\r 26%|██▌       | 296/1133 [08:37<27:39,  1.98s/it]\r 26%|██▌       | 297/1133 [08:38<23:25,  1.68s/it]\r 26%|██▋       | 298/1133 [08:39<20:00,  1.44s/it]\r 26%|██▋       | 299/1133 [08:39<15:59,  1.15s/it]\r 26%|██▋       | 300/1133 [08:40<13:49,  1.00it/s]\r 27%|██▋       | 301/1133 [08:40<11:38,  1.19it/s]\r 27%|██▋       | 302/1133 [08:41<11:10,  1.24it/s]\r 27%|██▋       | 303/1133 [08:42<11:35,  1.19it/s]\r 27%|██▋       | 304/1133 [08:44<16:08,  1.17s/it]\r 27%|██▋       | 305/1133 [08:46<21:56,  1.59s/it]\r 27%|██▋       | 306/1133 [08:48<22:50,  1.66s/it]\r 27%|██▋       | 307/1133 [08:49<19:57,  1.45s/it]\r 27%|██▋       | 308/1133 [08:50<18:41,  1.36s/it]\r 27%|██▋       | 309/1133 [08:52<20:23,  1.48s/it]\r 27%|██▋       | 310/1133 [08:53<16:34,  1.21s/it]\r 27%|██▋       | 311/1133 [08:54<18:40,  1.36s/it]\r 28%|██▊       | 312/1133 [08:56<21:08,  1.55s/it]\r 28%|██▊       | 313/1133 [08:58<22:47,  1.67s/it]\r 28%|██▊       | 314/1133 [08:59<20:52,  1.53s/it]\r 28%|██▊       | 315/1133 [09:04<32:51,  2.41s/it]\r 28%|██▊       | 316/1133 [09:05<27:41,  2.03s/it]\r 28%|██▊       | 317/1133 [09:07<25:24,  1.87s/it]\r 28%|██▊       | 318/1133 [09:07<19:25,  1.43s/it]\r 28%|██▊       | 319/1133 [09:10<27:41,  2.04s/it]\r 28%|██▊       | 320/1133 [09:13<27:56,  2.06s/it]\r 28%|██▊       | 321/1133 [09:13<22:32,  1.67s/it]\r 28%|██▊       | 322/1133 [09:14<18:38,  1.38s/it]\r 29%|██▊       | 323/1133 [09:15<18:38,  1.38s/it]\r 29%|██▊       | 324/1133 [09:17<19:30,  1.45s/it]\r 29%|██▊       | 325/1133 [09:18<19:40,  1.46s/it]\r 29%|██▉       | 326/1133 [09:19<17:16,  1.28s/it]\r 29%|██▉       | 327/1133 [09:23<26:36,  1.98s/it]\r 29%|██▉       | 328/1133 [09:27<34:07,  2.54s/it]\r 29%|██▉       | 329/1133 [09:29<34:15,  2.56s/it]\r 29%|██▉       | 330/1133 [09:30<26:18,  1.97s/it]\r 29%|██▉       | 331/1133 [09:31<23:10,  1.73s/it]\r 29%|██▉       | 332/1133 [09:33<21:46,  1.63s/it]\r 29%|██▉       | 333/1133 [09:34<21:10,  1.59s/it]\r 29%|██▉       | 334/1133 [09:38<31:18,  2.35s/it]\r 30%|██▉       | 335/1133 [09:40<28:17,  2.13s/it]\r 30%|██▉       | 336/1133 [09:41<24:23,  1.84s/it]\r 30%|██▉       | 337/1133 [09:42<21:47,  1.64s/it]\r 30%|██▉       | 338/1133 [09:45<24:52,  1.88s/it]\r 30%|██▉       | 339/1133 [09:47<25:59,  1.96s/it]\r 30%|███       | 340/1133 [09:48<24:08,  1.83s/it]\r 30%|███       | 341/1133 [09:51<26:43,  2.02s/it]\r 30%|███       | 342/1133 [09:52<23:27,  1.78s/it]\r 30%|███       | 343/1133 [09:53<19:37,  1.49s/it]\r 30%|███       | 344/1133 [09:55<22:47,  1.73s/it]\r 30%|███       | 345/1133 [09:57<22:47,  1.74s/it]\r 31%|███       | 346/1133 [09:58<19:59,  1.52s/it]\r 31%|███       | 347/1133 [09:58<16:37,  1.27s/it]\r 31%|███       | 348/1133 [10:00<18:41,  1.43s/it]\r 31%|███       | 349/1133 [10:00<13:48,  1.06s/it]\r 31%|███       | 350/1133 [10:03<18:58,  1.45s/it]\r 31%|███       | 351/1133 [10:04<16:00,  1.23s/it]\r 31%|███       | 352/1133 [10:05<16:35,  1.27s/it]\r 31%|███       | 353/1133 [10:08<23:32,  1.81s/it]\r 31%|███       | 354/1133 [10:09<19:46,  1.52s/it]\r 31%|███▏      | 355/1133 [10:10<17:08,  1.32s/it]\r 31%|███▏      | 356/1133 [10:11<16:28,  1.27s/it]\r 32%|███▏      | 357/1133 [10:13<19:58,  1.54s/it]\r 32%|███▏      | 358/1133 [10:15<20:43,  1.60s/it]\r 32%|███▏      | 359/1133 [10:15<17:19,  1.34s/it]\r 32%|███▏      | 360/1133 [10:18<20:54,  1.62s/it]\r 32%|███▏      | 361/1133 [10:20<21:38,  1.68s/it]\r 32%|███▏      | 362/1133 [10:21<18:49,  1.46s/it]\r 32%|███▏      | 363/1133 [10:21<15:38,  1.22s/it]\r 32%|███▏      | 364/1133 [10:22<15:02,  1.17s/it]\r 32%|███▏      | 365/1133 [10:23<12:33,  1.02it/s]\r 32%|███▏      | 366/1133 [10:24<12:30,  1.02it/s]\r 32%|███▏      | 367/1133 [10:26<18:35,  1.46s/it]\r 32%|███▏      | 368/1133 [10:28<17:42,  1.39s/it]\r 33%|███▎      | 369/1133 [10:29<16:14,  1.28s/it]\r 33%|███▎      | 370/1133 [10:29<13:54,  1.09s/it]\r 33%|███▎      | 371/1133 [10:30<10:52,  1.17it/s]\r 33%|███▎      | 372/1133 [10:35<27:49,  2.19s/it]\r 33%|███▎      | 373/1133 [10:37<26:44,  2.11s/it]\r 33%|███▎      | 374/1133 [10:37<21:11,  1.68s/it]\r 33%|███▎      | 375/1133 [10:38<16:38,  1.32s/it]\r 33%|███▎      | 376/1133 [10:39<16:28,  1.31s/it]\r 33%|███▎      | 377/1133 [10:40<15:41,  1.25s/it]\r 33%|███▎      | 378/1133 [10:42<17:38,  1.40s/it]\r 33%|███▎      | 379/1133 [10:43<15:33,  1.24s/it]\r 34%|███▎      | 380/1133 [10:44<15:12,  1.21s/it]\r 34%|███▎      | 381/1133 [10:47<23:11,  1.85s/it]\r 34%|███▎      | 382/1133 [10:49<21:45,  1.74s/it]\r 34%|███▍      | 383/1133 [10:51<24:23,  1.95s/it]\r 34%|███▍      | 384/1133 [10:53<23:00,  1.84s/it]\r 34%|███▍      | 385/1133 [10:57<32:20,  2.59s/it]\r 34%|███▍      | 386/1133 [11:03<43:35,  3.50s/it]\r 34%|███▍      | 387/1133 [11:04<34:06,  2.74s/it]\r 34%|███▍      | 388/1133 [11:05<28:12,  2.27s/it]\r 34%|███▍      | 389/1133 [11:07<25:51,  2.09s/it]\r 34%|███▍      | 390/1133 [11:08<23:44,  1.92s/it]\r 35%|███▍      | 391/1133 [11:09<20:02,  1.62s/it]\r 35%|███▍      | 392/1133 [11:11<21:04,  1.71s/it]\r 35%|███▍      | 393/1133 [11:14<25:36,  2.08s/it]\r 35%|███▍      | 394/1133 [11:15<22:24,  1.82s/it]\r 35%|███▍      | 395/1133 [11:19<28:11,  2.29s/it]\r 35%|███▍      | 396/1133 [11:20<25:34,  2.08s/it]\r 35%|███▌      | 397/1133 [11:21<21:33,  1.76s/it]\r 35%|███▌      | 398/1133 [11:24<24:23,  1.99s/it]\r 35%|███▌      | 399/1133 [11:25<21:41,  1.77s/it]\r 35%|███▌      | 400/1133 [11:27<21:15,  1.74s/it]\r 35%|███▌      | 401/1133 [11:27<16:46,  1.38s/it]\r 35%|███▌      | 402/1133 [11:28<16:05,  1.32s/it]\r 36%|███▌      | 403/1133 [11:30<16:23,  1.35s/it]\r 36%|███▌      | 404/1133 [11:31<16:54,  1.39s/it]\r 36%|███▌      | 405/1133 [11:33<17:23,  1.43s/it]\r 36%|███▌      | 406/1133 [11:34<15:24,  1.27s/it]\r 36%|███▌      | 407/1133 [11:35<15:37,  1.29s/it]\r 36%|███▌      | 408/1133 [11:36<15:05,  1.25s/it]\r 36%|███▌      | 409/1133 [11:38<18:01,  1.49s/it]\r 36%|███▌      | 410/1133 [11:39<16:47,  1.39s/it]\r 36%|███▋      | 411/1133 [11:43<24:18,  2.02s/it]\r 36%|███▋      | 412/1133 [11:45<24:06,  2.01s/it]\r 36%|███▋      | 413/1133 [11:48<26:28,  2.21s/it]\r 37%|███▋      | 414/1133 [11:48<19:23,  1.62s/it]\r 37%|███▋      | 415/1133 [11:51<23:49,  1.99s/it]\r 37%|███▋      | 416/1133 [11:54<28:40,  2.40s/it]\r 37%|███▋      | 417/1133 [11:55<22:13,  1.86s/it]\r 37%|███▋      | 418/1133 [11:56<19:25,  1.63s/it]\r 37%|███▋      | 419/1133 [11:58<22:23,  1.88s/it]\r 37%|███▋      | 420/1133 [11:58<16:32,  1.39s/it]\r 37%|███▋      | 421/1133 [12:01<19:24,  1.64s/it]\r 37%|███▋      | 422/1133 [12:03<20:49,  1.76s/it]\r 37%|███▋      | 423/1133 [12:04<18:36,  1.57s/it]\r 37%|███▋      | 424/1133 [12:06<21:47,  1.84s/it]\r 38%|███▊      | 425/1133 [12:09<23:36,  2.00s/it]\r 38%|███▊      | 426/1133 [12:11<23:41,  2.01s/it]\r 38%|███▊      | 427/1133 [12:12<19:51,  1.69s/it]\r 38%|███▊      | 428/1133 [12:14<22:29,  1.91s/it]\r 38%|███▊      | 429/1133 [12:16<21:24,  1.83s/it]\r 38%|███▊      | 430/1133 [12:18<24:15,  2.07s/it]\r 38%|███▊      | 431/1133 [12:19<20:52,  1.78s/it]\r 38%|███▊      | 432/1133 [12:21<21:41,  1.86s/it]\r 38%|███▊      | 433/1133 [12:23<19:24,  1.66s/it]\r 38%|███▊      | 434/1133 [12:25<22:44,  1.95s/it]\r 38%|███▊      | 435/1133 [12:29<27:56,  2.40s/it]\r 38%|███▊      | 436/1133 [12:32<29:40,  2.55s/it]\r 39%|███▊      | 437/1133 [12:34<28:36,  2.47s/it]\r 39%|███▊      | 438/1133 [12:35<24:05,  2.08s/it]\r 39%|███▊      | 439/1133 [12:37<22:37,  1.96s/it]\r 39%|███▉      | 440/1133 [12:37<17:41,  1.53s/it]\r 39%|███▉      | 441/1133 [12:38<14:49,  1.28s/it]\r 39%|███▉      | 442/1133 [12:39<15:10,  1.32s/it]\r 39%|███▉      | 443/1133 [12:41<15:35,  1.36s/it]\r 39%|███▉      | 444/1133 [12:42<16:25,  1.43s/it]\r 39%|███▉      | 445/1133 [12:44<16:14,  1.42s/it]\r 39%|███▉      | 446/1133 [12:44<13:22,  1.17s/it]\r 39%|███▉      | 447/1133 [12:46<13:28,  1.18s/it]\r 40%|███▉      | 448/1133 [12:47<15:44,  1.38s/it]\r 40%|███▉      | 449/1133 [12:49<17:39,  1.55s/it]\r 40%|███▉      | 450/1133 [12:52<21:32,  1.89s/it]\r 40%|███▉      | 451/1133 [12:53<17:29,  1.54s/it]\r 40%|███▉      | 452/1133 [12:55<19:46,  1.74s/it]\r 40%|███▉      | 453/1133 [12:56<17:17,  1.53s/it]\r 40%|████      | 454/1133 [12:57<16:08,  1.43s/it]\r 40%|████      | 455/1133 [12:58<15:04,  1.33s/it]\r 40%|████      | 456/1133 [13:01<18:58,  1.68s/it]\r 40%|████      | 457/1133 [13:03<19:40,  1.75s/it]\r 40%|████      | 458/1133 [13:05<22:44,  2.02s/it]\r 41%|████      | 459/1133 [13:07<20:59,  1.87s/it]\r 41%|████      | 460/1133 [13:08<16:40,  1.49s/it]\r 41%|████      | 461/1133 [13:10<21:25,  1.91s/it]\r 41%|████      | 462/1133 [13:13<22:40,  2.03s/it]\r 41%|████      | 463/1133 [13:14<19:03,  1.71s/it]\r 41%|████      | 464/1133 [13:15<19:12,  1.72s/it]\r 41%|████      | 465/1133 [13:17<18:18,  1.64s/it]\r 41%|████      | 466/1133 [13:20<24:25,  2.20s/it]\r 41%|████      | 467/1133 [13:21<20:12,  1.82s/it]\r 41%|████▏     | 468/1133 [13:22<16:17,  1.47s/it]\r 41%|████▏     | 469/1133 [13:24<19:17,  1.74s/it]\r 41%|████▏     | 470/1133 [13:26<18:50,  1.71s/it]\r 42%|████▏     | 471/1133 [13:28<20:04,  1.82s/it]\r 42%|████▏     | 472/1133 [13:30<21:01,  1.91s/it]\r 42%|████▏     | 473/1133 [13:31<17:59,  1.64s/it]\r 42%|████▏     | 474/1133 [13:32<15:16,  1.39s/it]\r 42%|████▏     | 475/1133 [13:33<15:05,  1.38s/it]\r 42%|████▏     | 476/1133 [13:36<17:45,  1.62s/it]\r 42%|████▏     | 477/1133 [13:38<21:16,  1.95s/it]\r 42%|████▏     | 478/1133 [13:39<16:49,  1.54s/it]\r 42%|████▏     | 479/1133 [13:41<17:53,  1.64s/it]\r 42%|████▏     | 480/1133 [13:46<30:30,  2.80s/it]\r 42%|████▏     | 481/1133 [13:47<23:01,  2.12s/it]\r 43%|████▎     | 482/1133 [13:49<22:06,  2.04s/it]\r 43%|████▎     | 483/1133 [13:49<17:49,  1.65s/it]\r 43%|████▎     | 484/1133 [13:51<17:31,  1.62s/it]\r 43%|████▎     | 485/1133 [13:54<23:07,  2.14s/it]\r 43%|████▎     | 486/1133 [13:55<19:02,  1.77s/it]\r 43%|████▎     | 487/1133 [13:59<24:23,  2.27s/it]\r 43%|████▎     | 488/1133 [14:01<24:24,  2.27s/it]\r 43%|████▎     | 489/1133 [14:02<20:09,  1.88s/it]\r 43%|████▎     | 490/1133 [14:02<15:51,  1.48s/it]\r 43%|████▎     | 491/1133 [14:05<18:01,  1.69s/it]\r 43%|████▎ \n\n*** WARNING: max output size exceeded, skipping output. ***\n\n133 [18:36<12:29,  1.54s/it]\r 57%|█████▋    | 648/1133 [18:38<14:05,  1.74s/it]\r 57%|█████▋    | 649/1133 [18:39<12:03,  1.49s/it]\r 57%|█████▋    | 650/1133 [18:45<21:11,  2.63s/it]\r 57%|█████▋    | 651/1133 [18:45<16:14,  2.02s/it]\r 58%|█████▊    | 652/1133 [18:46<13:18,  1.66s/it]\r 58%|█████▊    | 653/1133 [18:47<10:42,  1.34s/it]\r 58%|█████▊    | 654/1133 [18:48<10:43,  1.34s/it]\r 58%|█████▊    | 655/1133 [18:50<13:00,  1.63s/it]\r 58%|█████▊    | 656/1133 [18:51<10:03,  1.27s/it]\r 58%|█████▊    | 657/1133 [18:54<15:23,  1.94s/it]\r 58%|█████▊    | 658/1133 [18:57<17:05,  2.16s/it]\r 58%|█████▊    | 659/1133 [18:57<13:13,  1.67s/it]\r 58%|█████▊    | 660/1133 [18:58<10:04,  1.28s/it]\r 58%|█████▊    | 661/1133 [18:59<10:11,  1.30s/it]\r 58%|█████▊    | 662/1133 [19:01<10:38,  1.36s/it]\r 59%|█████▊    | 663/1133 [19:02<10:07,  1.29s/it]\r 59%|█████▊    | 664/1133 [19:03<10:16,  1.31s/it]\r 59%|█████▊    | 665/1133 [19:05<10:47,  1.38s/it]\r 59%|█████▉    | 666/1133 [19:06<11:40,  1.50s/it]\r 59%|█████▉    | 667/1133 [19:08<11:25,  1.47s/it]\r 59%|█████▉    | 668/1133 [19:09<10:40,  1.38s/it]\r 59%|█████▉    | 669/1133 [19:10<08:57,  1.16s/it]\r 59%|█████▉    | 670/1133 [19:12<10:52,  1.41s/it]\r 59%|█████▉    | 671/1133 [19:12<09:20,  1.21s/it]\r 59%|█████▉    | 672/1133 [19:13<08:25,  1.10s/it]\r 59%|█████▉    | 673/1133 [19:16<12:31,  1.63s/it]\r 59%|█████▉    | 674/1133 [19:18<12:29,  1.63s/it]\r 60%|█████▉    | 675/1133 [19:19<11:47,  1.54s/it]\r 60%|█████▉    | 676/1133 [19:19<08:55,  1.17s/it]\r 60%|█████▉    | 677/1133 [19:21<09:12,  1.21s/it]\r 60%|█████▉    | 678/1133 [19:22<09:15,  1.22s/it]\r 60%|█████▉    | 679/1133 [19:23<08:42,  1.15s/it]\r 60%|██████    | 680/1133 [19:24<08:43,  1.16s/it]\r 60%|██████    | 681/1133 [19:25<08:47,  1.17s/it]\r 60%|██████    | 682/1133 [19:26<08:37,  1.15s/it]\r 60%|██████    | 683/1133 [19:29<10:54,  1.45s/it]\r 60%|██████    | 684/1133 [19:29<09:19,  1.25s/it]\r 60%|██████    | 685/1133 [19:31<09:57,  1.33s/it]\r 61%|██████    | 686/1133 [19:31<07:51,  1.06s/it]\r 61%|██████    | 687/1133 [19:33<10:12,  1.37s/it]\r 61%|██████    | 688/1133 [19:34<08:17,  1.12s/it]\r 61%|██████    | 689/1133 [19:35<09:06,  1.23s/it]\r 61%|██████    | 690/1133 [19:36<07:48,  1.06s/it]\r 61%|██████    | 691/1133 [19:36<06:22,  1.15it/s]\r 61%|██████    | 692/1133 [19:38<07:03,  1.04it/s]\r 61%|██████    | 693/1133 [19:40<09:27,  1.29s/it]\r 61%|██████▏   | 694/1133 [19:42<12:30,  1.71s/it]\r 61%|██████▏   | 695/1133 [19:44<13:06,  1.80s/it]\r 61%|██████▏   | 696/1133 [19:46<12:39,  1.74s/it]\r 62%|██████▏   | 697/1133 [19:48<13:53,  1.91s/it]\r 62%|██████▏   | 698/1133 [19:52<18:15,  2.52s/it]\r 62%|██████▏   | 699/1133 [19:54<15:37,  2.16s/it]\r 62%|██████▏   | 700/1133 [19:56<15:34,  2.16s/it]\r 62%|██████▏   | 701/1133 [19:58<15:14,  2.12s/it]\r 62%|██████▏   | 702/1133 [20:04<23:40,  3.30s/it]\r 62%|██████▏   | 703/1133 [20:05<19:45,  2.76s/it]\r 62%|██████▏   | 704/1133 [20:06<15:53,  2.22s/it]\r 62%|██████▏   | 705/1133 [20:08<14:46,  2.07s/it]\r 62%|██████▏   | 706/1133 [20:11<17:23,  2.44s/it]\r 62%|██████▏   | 707/1133 [20:13<15:15,  2.15s/it]\r 62%|██████▏   | 708/1133 [20:16<16:37,  2.35s/it]\r 63%|██████▎   | 709/1133 [20:17<14:47,  2.09s/it]\r 63%|██████▎   | 710/1133 [20:19<14:22,  2.04s/it]\r 63%|██████▎   | 711/1133 [20:20<12:38,  1.80s/it]\r 63%|██████▎   | 712/1133 [20:23<14:24,  2.05s/it]\r 63%|██████▎   | 713/1133 [20:24<11:53,  1.70s/it]\r 63%|██████▎   | 714/1133 [20:25<10:52,  1.56s/it]\r 63%|██████▎   | 715/1133 [20:26<09:57,  1.43s/it]\r 63%|██████▎   | 716/1133 [20:27<09:00,  1.30s/it]\r 63%|██████▎   | 717/1133 [20:28<07:08,  1.03s/it]\r 63%|██████▎   | 718/1133 [20:29<07:36,  1.10s/it]\r 63%|██████▎   | 719/1133 [20:30<07:51,  1.14s/it]\r 64%|██████▎   | 720/1133 [20:32<09:14,  1.34s/it]\r 64%|██████▎   | 721/1133 [20:32<07:42,  1.12s/it]\r 64%|██████▎   | 722/1133 [20:35<10:01,  1.46s/it]\r 64%|██████▍   | 723/1133 [20:37<11:03,  1.62s/it]\r 64%|██████▍   | 724/1133 [20:40<13:41,  2.01s/it]\r 64%|██████▍   | 725/1133 [20:44<17:34,  2.59s/it]\r 64%|██████▍   | 726/1133 [20:45<15:23,  2.27s/it]\r 64%|██████▍   | 727/1133 [20:46<13:35,  2.01s/it]\r 64%|██████▍   | 728/1133 [20:50<16:39,  2.47s/it]\r 64%|██████▍   | 729/1133 [20:52<15:08,  2.25s/it]\r 64%|██████▍   | 730/1133 [20:52<11:39,  1.74s/it]\r 65%|██████▍   | 731/1133 [20:54<12:00,  1.79s/it]\r 65%|██████▍   | 732/1133 [20:55<10:07,  1.52s/it]\r 65%|██████▍   | 733/1133 [20:59<14:04,  2.11s/it]\r 65%|██████▍   | 734/1133 [20:59<11:42,  1.76s/it]\r 65%|██████▍   | 735/1133 [21:03<15:24,  2.32s/it]\r 65%|██████▍   | 736/1133 [21:05<15:14,  2.30s/it]\r 65%|██████▌   | 737/1133 [21:06<12:22,  1.87s/it]\r 65%|██████▌   | 738/1133 [21:09<14:15,  2.16s/it]\r 65%|██████▌   | 739/1133 [21:10<10:52,  1.66s/it]\r 65%|██████▌   | 740/1133 [21:11<10:36,  1.62s/it]\r 65%|██████▌   | 741/1133 [21:12<09:13,  1.41s/it]\r 65%|██████▌   | 742/1133 [21:13<09:13,  1.42s/it]\r 66%|██████▌   | 743/1133 [21:15<08:41,  1.34s/it]\r 66%|██████▌   | 744/1133 [21:16<08:59,  1.39s/it]\r 66%|██████▌   | 745/1133 [21:19<11:54,  1.84s/it]\r 66%|██████▌   | 746/1133 [21:22<14:35,  2.26s/it]\r 66%|██████▌   | 747/1133 [21:23<11:55,  1.85s/it]\r 66%|██████▌   | 748/1133 [21:27<14:46,  2.30s/it]\r 66%|██████▌   | 749/1133 [21:29<15:30,  2.42s/it]\r 66%|██████▌   | 750/1133 [21:31<13:54,  2.18s/it]\r 66%|██████▋   | 751/1133 [21:32<12:13,  1.92s/it]\r 66%|██████▋   | 752/1133 [21:33<10:58,  1.73s/it]\r 66%|██████▋   | 753/1133 [21:35<10:38,  1.68s/it]\r 67%|██████▋   | 754/1133 [21:40<16:00,  2.53s/it]\r 67%|██████▋   | 755/1133 [21:42<15:47,  2.51s/it]\r 67%|██████▋   | 756/1133 [21:43<13:15,  2.11s/it]\r 67%|██████▋   | 757/1133 [21:44<11:26,  1.83s/it]\r 67%|██████▋   | 758/1133 [21:48<14:42,  2.35s/it]\r 67%|██████▋   | 759/1133 [21:49<13:13,  2.12s/it]\r 67%|██████▋   | 760/1133 [21:50<10:19,  1.66s/it]\r 67%|██████▋   | 761/1133 [21:52<11:10,  1.80s/it]\r 67%|██████▋   | 762/1133 [21:53<08:47,  1.42s/it]\r 67%|██████▋   | 763/1133 [21:54<08:43,  1.41s/it]\r 67%|██████▋   | 764/1133 [21:55<08:27,  1.37s/it]\r 68%|██████▊   | 765/1133 [21:57<08:48,  1.44s/it]\r 68%|██████▊   | 766/1133 [22:00<12:07,  1.98s/it]\r 68%|██████▊   | 767/1133 [22:02<11:40,  1.91s/it]\r 68%|██████▊   | 768/1133 [22:06<15:15,  2.51s/it]\r 68%|██████▊   | 769/1133 [22:09<16:40,  2.75s/it]\r 68%|██████▊   | 770/1133 [22:10<13:25,  2.22s/it]\r 68%|██████▊   | 771/1133 [22:12<12:57,  2.15s/it]\r 68%|██████▊   | 772/1133 [22:15<13:18,  2.21s/it]\r 68%|██████▊   | 773/1133 [22:16<12:08,  2.02s/it]\r 68%|██████▊   | 774/1133 [22:17<10:45,  1.80s/it]\r 68%|██████▊   | 775/1133 [22:24<18:28,  3.10s/it]\r 68%|██████▊   | 776/1133 [22:24<14:24,  2.42s/it]\r 69%|██████▊   | 777/1133 [22:27<14:01,  2.36s/it]\r 69%|██████▊   | 778/1133 [22:27<11:17,  1.91s/it]\r 69%|██████▉   | 779/1133 [22:28<08:35,  1.46s/it]\r 69%|██████▉   | 780/1133 [22:29<07:52,  1.34s/it]\r 69%|██████▉   | 781/1133 [22:31<09:46,  1.67s/it]\r 69%|██████▉   | 782/1133 [22:32<07:43,  1.32s/it]\r 69%|██████▉   | 783/1133 [22:35<10:38,  1.83s/it]\r 69%|██████▉   | 784/1133 [22:37<10:21,  1.78s/it]\r 69%|██████▉   | 785/1133 [22:38<09:15,  1.60s/it]\r 69%|██████▉   | 786/1133 [22:39<08:07,  1.40s/it]\r 69%|██████▉   | 787/1133 [22:41<10:35,  1.84s/it]\r 70%|██████▉   | 788/1133 [22:42<09:04,  1.58s/it]\r 70%|██████▉   | 789/1133 [22:43<06:56,  1.21s/it]\r 70%|██████▉   | 790/1133 [22:47<11:32,  2.02s/it]\r 70%|██████▉   | 791/1133 [22:48<10:20,  1.81s/it]\r 70%|██████▉   | 792/1133 [22:50<11:04,  1.95s/it]\r 70%|██████▉   | 793/1133 [22:55<15:56,  2.81s/it]\r 70%|███████   | 794/1133 [22:56<12:00,  2.12s/it]\r 70%|███████   | 795/1133 [22:56<09:44,  1.73s/it]\r 70%|███████   | 796/1133 [22:57<07:36,  1.35s/it]\r 70%|███████   | 797/1133 [22:58<07:09,  1.28s/it]\r 70%|███████   | 798/1133 [22:59<06:10,  1.10s/it]\r 71%|███████   | 799/1133 [23:00<06:42,  1.20s/it]\r 71%|███████   | 800/1133 [23:02<07:06,  1.28s/it]\r 71%|███████   | 801/1133 [23:03<07:01,  1.27s/it]\r 71%|███████   | 802/1133 [23:05<08:08,  1.48s/it]\r 71%|███████   | 803/1133 [23:06<07:46,  1.41s/it]\r 71%|███████   | 804/1133 [23:09<10:12,  1.86s/it]\r 71%|███████   | 805/1133 [23:11<10:07,  1.85s/it]\r 71%|███████   | 806/1133 [23:13<11:21,  2.08s/it]\r 71%|███████   | 807/1133 [23:15<09:37,  1.77s/it]\r 71%|███████▏  | 808/1133 [23:16<08:41,  1.60s/it]\r 71%|███████▏  | 809/1133 [23:17<08:01,  1.49s/it]\r 71%|███████▏  | 810/1133 [23:18<06:38,  1.23s/it]\r 72%|███████▏  | 811/1133 [23:18<05:36,  1.04s/it]\r 72%|███████▏  | 812/1133 [23:20<06:59,  1.31s/it]\r 72%|███████▏  | 813/1133 [23:21<06:49,  1.28s/it]\r 72%|███████▏  | 814/1133 [23:22<05:40,  1.07s/it]\r 72%|███████▏  | 815/1133 [23:25<08:48,  1.66s/it]\r 72%|███████▏  | 816/1133 [23:27<08:54,  1.69s/it]\r 72%|███████▏  | 817/1133 [23:27<07:26,  1.41s/it]\r 72%|███████▏  | 818/1133 [23:29<07:39,  1.46s/it]\r 72%|███████▏  | 819/1133 [23:31<08:00,  1.53s/it]\r 72%|███████▏  | 820/1133 [23:32<06:55,  1.33s/it]\r 72%|███████▏  | 821/1133 [23:32<05:18,  1.02s/it]\r 73%|███████▎  | 822/1133 [23:33<05:13,  1.01s/it]\r 73%|███████▎  | 823/1133 [23:35<07:40,  1.49s/it]\r 73%|███████▎  | 824/1133 [23:37<07:14,  1.41s/it]\r 73%|███████▎  | 825/1133 [23:37<06:16,  1.22s/it]\r 73%|███████▎  | 826/1133 [23:40<08:34,  1.67s/it]\r 73%|███████▎  | 827/1133 [23:41<07:16,  1.43s/it]\r 73%|███████▎  | 828/1133 [23:42<05:59,  1.18s/it]\r 73%|███████▎  | 829/1133 [23:46<11:08,  2.20s/it]\r 73%|███████▎  | 830/1133 [23:49<11:37,  2.30s/it]\r 73%|███████▎  | 831/1133 [23:51<11:46,  2.34s/it]\r 73%|███████▎  | 832/1133 [23:52<09:55,  1.98s/it]\r 74%|███████▎  | 833/1133 [23:57<14:04,  2.82s/it]\r 74%|███████▎  | 834/1133 [23:58<11:18,  2.27s/it]\r 74%|███████▎  | 835/1133 [24:00<10:49,  2.18s/it]\r 74%|███████▍  | 836/1133 [24:02<10:47,  2.18s/it]\r 74%|███████▍  | 837/1133 [24:09<16:54,  3.43s/it]\r 74%|███████▍  | 838/1133 [24:12<17:28,  3.56s/it]\r 74%|███████▍  | 839/1133 [24:14<14:23,  2.94s/it]\r 74%|███████▍  | 840/1133 [24:17<13:53,  2.85s/it]\r 74%|███████▍  | 841/1133 [24:18<12:06,  2.49s/it]\r 74%|███████▍  | 842/1133 [24:21<12:51,  2.65s/it]\r 74%|███████▍  | 843/1133 [24:22<10:40,  2.21s/it]\r 74%|███████▍  | 844/1133 [24:25<10:29,  2.18s/it]\r 75%|███████▍  | 845/1133 [24:26<09:26,  1.97s/it]\r 75%|███████▍  | 846/1133 [24:29<10:10,  2.13s/it]\r 75%|███████▍  | 847/1133 [24:31<10:17,  2.16s/it]\r 75%|███████▍  | 848/1133 [24:34<11:40,  2.46s/it]\r 75%|███████▍  | 849/1133 [24:34<08:50,  1.87s/it]\r 75%|███████▌  | 850/1133 [24:37<09:35,  2.03s/it]\r 75%|███████▌  | 851/1133 [24:37<07:17,  1.55s/it]\r 75%|███████▌  | 852/1133 [24:38<06:37,  1.41s/it]\r 75%|███████▌  | 853/1133 [24:40<07:14,  1.55s/it]\r 75%|███████▌  | 854/1133 [24:42<07:23,  1.59s/it]\r 75%|███████▌  | 855/1133 [24:44<08:10,  1.76s/it]\r 76%|███████▌  | 856/1133 [24:48<11:11,  2.42s/it]\r 76%|███████▌  | 857/1133 [24:52<12:52,  2.80s/it]\r 76%|███████▌  | 858/1133 [24:53<10:49,  2.36s/it]\r 76%|███████▌  | 859/1133 [24:55<09:48,  2.15s/it]\r 76%|███████▌  | 860/1133 [24:56<08:13,  1.81s/it]\r 76%|███████▌  | 861/1133 [25:01<12:30,  2.76s/it]\r 76%|███████▌  | 862/1133 [25:03<11:39,  2.58s/it]\r 76%|███████▌  | 863/1133 [25:07<13:09,  2.93s/it]\r 76%|███████▋  | 864/1133 [25:08<10:45,  2.40s/it]\r 76%|███████▋  | 865/1133 [25:10<09:57,  2.23s/it]\r 76%|███████▋  | 866/1133 [25:13<11:35,  2.61s/it]\r 77%|███████▋  | 867/1133 [25:16<11:49,  2.67s/it]\r 77%|███████▋  | 868/1133 [25:17<09:45,  2.21s/it]\r 77%|███████▋  | 869/1133 [25:18<08:09,  1.86s/it]\r 77%|███████▋  | 870/1133 [25:19<07:10,  1.64s/it]\r 77%|███████▋  | 871/1133 [25:20<06:14,  1.43s/it]\r 77%|███████▋  | 872/1133 [25:22<07:03,  1.62s/it]\r 77%|███████▋  | 873/1133 [25:23<06:36,  1.52s/it]\r 77%|███████▋  | 874/1133 [25:25<06:00,  1.39s/it]\r 77%|███████▋  | 875/1133 [25:28<08:26,  1.96s/it]\r 77%|███████▋  | 876/1133 [25:31<09:19,  2.18s/it]\r 77%|███████▋  | 877/1133 [25:33<09:06,  2.13s/it]\r 77%|███████▋  | 878/1133 [25:35<09:09,  2.16s/it]\r 78%|███████▊  | 879/1133 [25:36<07:55,  1.87s/it]\r 78%|███████▊  | 880/1133 [25:37<06:31,  1.55s/it]\r 78%|███████▊  | 881/1133 [25:38<06:09,  1.46s/it]\r 78%|███████▊  | 882/1133 [25:40<06:59,  1.67s/it]\r 78%|███████▊  | 883/1133 [25:41<06:26,  1.55s/it]\r 78%|███████▊  | 884/1133 [25:43<06:42,  1.62s/it]\r 78%|███████▊  | 885/1133 [25:45<06:37,  1.60s/it]\r 78%|███████▊  | 886/1133 [25:46<05:44,  1.39s/it]\r 78%|███████▊  | 887/1133 [25:50<09:27,  2.31s/it]\r 78%|███████▊  | 888/1133 [25:51<07:37,  1.87s/it]\r 78%|███████▊  | 889/1133 [25:53<08:04,  1.99s/it]\r 79%|███████▊  | 890/1133 [25:55<07:15,  1.79s/it]\r 79%|███████▊  | 891/1133 [25:55<05:55,  1.47s/it]\r 79%|███████▊  | 892/1133 [25:59<08:24,  2.09s/it]\r 79%|███████▉  | 893/1133 [26:01<08:59,  2.25s/it]\r 79%|███████▉  | 894/1133 [26:02<06:46,  1.70s/it]\r 79%|███████▉  | 895/1133 [26:04<07:26,  1.88s/it]\r 79%|███████▉  | 896/1133 [26:06<07:01,  1.78s/it]\r 79%|███████▉  | 897/1133 [26:06<05:42,  1.45s/it]\r 79%|███████▉  | 898/1133 [26:08<05:44,  1.47s/it]\r 79%|███████▉  | 899/1133 [26:10<06:15,  1.60s/it]\r 79%|███████▉  | 900/1133 [26:12<06:30,  1.68s/it]\r 80%|███████▉  | 901/1133 [26:13<06:11,  1.60s/it]\r 80%|███████▉  | 902/1133 [26:14<05:35,  1.45s/it]\r 80%|███████▉  | 903/1133 [26:16<06:05,  1.59s/it]\r 80%|███████▉  | 904/1133 [26:18<06:09,  1.61s/it]\r 80%|███████▉  | 905/1133 [26:21<08:16,  2.18s/it]\r 80%|███████▉  | 906/1133 [26:22<06:44,  1.78s/it]\r 80%|████████  | 907/1133 [26:24<06:17,  1.67s/it]\r 80%|████████  | 908/1133 [26:25<06:29,  1.73s/it]\r 80%|████████  | 909/1133 [26:27<06:07,  1.64s/it]\r 80%|████████  | 910/1133 [26:28<05:13,  1.41s/it]\r 80%|████████  | 911/1133 [26:29<04:45,  1.29s/it]\r 80%|████████  | 912/1133 [26:30<04:43,  1.28s/it]\r 81%|████████  | 913/1133 [26:31<04:46,  1.30s/it]\r 81%|████████  | 914/1133 [26:33<04:43,  1.29s/it]\r 81%|████████  | 915/1133 [26:34<04:36,  1.27s/it]\r 81%|████████  | 916/1133 [26:36<06:04,  1.68s/it]\r 81%|████████  | 917/1133 [26:39<06:57,  1.94s/it]\r 81%|████████  | 918/1133 [26:42<08:02,  2.24s/it]\r 81%|████████  | 919/1133 [26:43<06:24,  1.79s/it]\r 81%|████████  | 920/1133 [26:43<05:01,  1.41s/it]\r 81%|████████▏ | 921/1133 [26:45<04:55,  1.39s/it]\r 81%|████████▏ | 922/1133 [26:45<04:21,  1.24s/it]\r 81%|████████▏ | 923/1133 [26:46<03:59,  1.14s/it]\r 82%|████████▏ | 924/1133 [26:47<03:47,  1.09s/it]\r 82%|████████▏ | 925/1133 [26:49<04:14,  1.23s/it]\r 82%|████████▏ | 926/1133 [26:50<04:30,  1.31s/it]\r 82%|████████▏ | 927/1133 [26:52<04:17,  1.25s/it]\r 82%|████████▏ | 928/1133 [26:52<03:49,  1.12s/it]\r 82%|████████▏ | 929/1133 [26:54<04:21,  1.28s/it]\r 82%|████████▏ | 930/1133 [26:56<05:17,  1.56s/it]\r 82%|████████▏ | 931/1133 [26:58<05:15,  1.56s/it]\r 82%|████████▏ | 932/1133 [26:59<05:22,  1.61s/it]\r 82%|████████▏ | 933/1133 [27:00<04:40,  1.40s/it]\r 82%|████████▏ | 934/1133 [27:01<03:50,  1.16s/it]\r 83%|████████▎ | 935/1133 [27:04<05:12,  1.58s/it]\r 83%|████████▎ | 936/1133 [27:05<04:49,  1.47s/it]\r 83%|████████▎ | 937/1133 [27:06<04:34,  1.40s/it]\r 83%|████████▎ | 938/1133 [27:07<04:33,  1.40s/it]\r 83%|████████▎ | 939/1133 [27:09<04:32,  1.40s/it]\r 83%|████████▎ | 940/1133 [27:11<04:48,  1.49s/it]\r 83%|████████▎ | 941/1133 [27:14<06:30,  2.03s/it]\r 83%|████████▎ | 942/1133 [27:15<05:36,  1.76s/it]\r 83%|████████▎ | 943/1133 [27:16<05:03,  1.59s/it]\r 83%|████████▎ | 944/1133 [27:21<08:32,  2.71s/it]\r 83%|████████▎ | 945/1133 [27:24<08:34,  2.73s/it]\r 83%|████████▎ | 946/1133 [27:27<08:25,  2.70s/it]\r 84%|████████▎ | 947/1133 [27:29<08:02,  2.59s/it]\r 84%|████████▎ | 948/1133 [27:33<08:54,  2.89s/it]\r 84%|████████▍ | 949/1133 [27:34<07:09,  2.33s/it]\r 84%|████████▍ | 950/1133 [27:35<05:36,  1.84s/it]\r 84%|████████▍ | 951/1133 [27:36<05:26,  1.79s/it]\r 84%|████████▍ | 952/1133 [27:37<04:52,  1.62s/it]\r 84%|████████▍ | 953/1133 [27:38<04:04,  1.36s/it]\r 84%|████████▍ | 954/1133 [27:39<03:13,  1.08s/it]\r 84%|████████▍ | 955/1133 [27:39<03:00,  1.01s/it]\r 84%|████████▍ | 956/1133 [27:41<03:08,  1.06s/it]\r 84%|████████▍ | 957/1133 [27:41<02:44,  1.07it/s]\r 85%|████████▍ | 958/1133 [27:43<02:58,  1.02s/it]\r 85%|████████▍ | 959/1133 [27:44<03:33,  1.23s/it]\r 85%|████████▍ | 960/1133 [27:46<03:47,  1.31s/it]\r 85%|████████▍ | 961/1133 [27:47<03:40,  1.28s/it]\r 85%|████████▍ | 962/1133 [27:51<05:53,  2.07s/it]\r 85%|████████▍ | 963/1133 [27:53<05:35,  1.97s/it]\r 85%|████████▌ | 964/1133 [27:53<04:35,  1.63s/it]\r 85%|████████▌ | 965/1133 [27:55<04:19,  1.54s/it]\r 85%|████████▌ | 966/1133 [27:55<03:31,  1.27s/it]\r 85%|████████▌ | 967/1133 [27:58<04:58,  1.80s/it]\r 85%|████████▌ | 968/1133 [27:59<04:07,  1.50s/it]\r 86%|████████▌ | 969/1133 [28:00<03:51,  1.41s/it]\r 86%|████████▌ | 970/1133 [28:01<03:23,  1.25s/it]\r 86%|████████▌ | 971/1133 [28:03<04:02,  1.50s/it]\r 86%|████████▌ | 972/1133 [28:05<03:50,  1.43s/it]\r 86%|████████▌ | 973/1133 [28:10<07:07,  2.67s/it]\r 86%|████████▌ | 974/1133 [28:11<05:29,  2.07s/it]\r 86%|████████▌ | 975/1133 [28:12<04:42,  1.79s/it]\r 86%|████████▌ | 976/1133 [28:13<03:53,  1.49s/it]\r 86%|████████▌ | 977/1133 [28:14<03:39,  1.41s/it]\r 86%|████████▋ | 978/1133 [28:15<03:40,  1.43s/it]\r 86%|████████▋ | 979/1133 [28:24<08:52,  3.45s/it]\r 86%|████████▋ | 980/1133 [28:25<06:56,  2.72s/it]\r 87%|████████▋ | 981/1133 [28:26<06:08,  2.42s/it]\r 87%|████████▋ | 982/1133 [28:28<05:36,  2.23s/it]\r 87%|████████▋ | 983/1133 [28:29<04:33,  1.82s/it]\r 87%|████████▋ | 984/1133 [28:30<03:46,  1.52s/it]\r 87%|████████▋ | 985/1133 [28:32<04:01,  1.63s/it]\r 87%|████████▋ | 986/1133 [28:34<04:47,  1.96s/it]\r 87%|████████▋ | 987/1133 [28:36<04:23,  1.80s/it]\r 87%|████████▋ | 988/1133 [28:38<04:47,  1.98s/it]\r 87%|████████▋ | 989/1133 [28:41<04:54,  2.04s/it]\r 87%|████████▋ | 990/1133 [28:47<07:59,  3.35s/it]\r 87%|████████▋ | 991/1133 [28:49<07:14,  3.06s/it]\r 88%|████████▊ | 992/1133 [28:51<05:52,  2.50s/it]\r 88%|████████▊ | 993/1133 [28:52<04:52,  2.09s/it]\r 88%|████████▊ | 994/1133 [28:55<05:30,  2.38s/it]\r 88%|████████▊ | 995/1133 [28:57<05:37,  2.45s/it]\r 88%|████████▊ | 996/1133 [28:58<04:38,  2.03s/it]\r 88%|████████▊ | 997/1133 [29:00<04:34,  2.02s/it]\r 88%|████████▊ | 998/1133 [29:02<04:09,  1.85s/it]\r 88%|████████▊ | 999/1133 [29:06<05:25,  2.43s/it]\r 88%|████████▊ | 1000/1133 [29:07<04:36,  2.08s/it]\r 88%|████████▊ | 1001/1133 [29:07<03:29,  1.58s/it]\r 88%|████████▊ | 1002/1133 [29:09<03:21,  1.54s/it]\r 89%|████████▊ | 1003/1133 [29:11<03:39,  1.69s/it]\r 89%|████████▊ | 1004/1133 [29:14<04:31,  2.10s/it]\r 89%|████████▊ | 1005/1133 [29:14<03:29,  1.64s/it]\r 89%|████████▉ | 1006/1133 [29:20<06:07,  2.90s/it]\r 89%|████████▉ | 1007/1133 [29:21<05:02,  2.40s/it]\r 89%|████████▉ | 1008/1133 [29:26<06:09,  2.95s/it]\r 89%|████████▉ | 1009/1133 [29:28<05:26,  2.63s/it]\r 89%|████████▉ | 1010/1133 [29:31<06:06,  2.98s/it]\r 89%|████████▉ | 1011/1133 [29:35<06:34,  3.23s/it]\r 89%|████████▉ | 1012/1133 [29:36<04:48,  2.39s/it]\r 89%|████████▉ | 1013/1133 [29:37<04:01,  2.01s/it]\r 89%|████████▉ | 1014/1133 [29:37<03:09,  1.59s/it]\r 90%|████████▉ | 1015/1133 [29:40<03:49,  1.95s/it]\r 90%|████████▉ | 1016/1133 [29:42<03:52,  1.98s/it]\r 90%|████████▉ | 1017/1133 [29:44<03:36,  1.86s/it]\r 90%|████████▉ | 1018/1133 [29:44<02:53,  1.51s/it]\r 90%|████████▉ | 1019/1133 [29:47<03:43,  1.96s/it]\r 90%|█████████ | 1020/1133 [29:51<04:23,  2.34s/it]\r 90%|█████████ | 1021/1133 [29:52<03:46,  2.03s/it]\r 90%|█████████ | 1022/1133 [29:54<03:50,  2.08s/it]\r 90%|█████████ | 1023/1133 [29:59<05:06,  2.78s/it]\r 90%|█████████ | 1024/1133 [30:00<04:14,  2.33s/it]\r 90%|█████████ | 1025/1133 [30:03<04:31,  2.52s/it]\r 91%|█████████ | 1026/1133 [30:05<04:08,  2.32s/it]\r 91%|█████████ | 1027/1133 [30:05<03:03,  1.73s/it]\r 91%|█████████ | 1028/1133 [30:06<02:39,  1.52s/it]\r 91%|█████████ | 1029/1133 [30:07<02:27,  1.42s/it]\r 91%|█████████ | 1030/1133 [30:09<02:39,  1.55s/it]\r 91%|█████████ | 1031/1133 [30:09<02:01,  1.19s/it]\r 91%|█████████ | 1032/1133 [30:11<02:13,  1.32s/it]\r 91%|█████████ | 1033/1133 [30:12<02:06,  1.27s/it]\r 91%|█████████▏| 1034/1133 [30:14<02:26,  1.48s/it]\r 91%|█████████▏| 1035/1133 [30:15<02:08,  1.31s/it]\r 91%|█████████▏| 1036/1133 [30:16<02:04,  1.28s/it]\r 92%|█████████▏| 1037/1133 [30:17<01:52,  1.17s/it]\r 92%|█████████▏| 1038/1133 [30:19<02:13,  1.40s/it]\r 92%|█████████▏| 1039/1133 [30:21<02:18,  1.47s/it]\r 92%|█████████▏| 1040/1133 [30:21<01:44,  1.12s/it]\r 92%|█████████▏| 1041/1133 [30:22<01:44,  1.13s/it]\r 92%|█████████▏| 1042/1133 [30:24<02:01,  1.34s/it]\r 92%|█████████▏| 1043/1133 [30:25<01:47,  1.19s/it]\r 92%|█████████▏| 1044/1133 [30:28<02:40,  1.81s/it]\r 92%|█████████▏| 1045/1133 [30:30<02:47,  1.90s/it]\r 92%|█████████▏| 1046/1133 [30:32<02:36,  1.80s/it]\r 92%|█████████▏| 1047/1133 [30:34<02:30,  1.75s/it]\r 92%|█████████▏| 1048/1133 [30:35<02:16,  1.60s/it]\r 93%|█████████▎| 1049/1133 [30:37<02:27,  1.76s/it]\r 93%|█████████▎| 1050/1133 [30:38<02:12,  1.60s/it]\r 93%|█████████▎| 1051/1133 [30:40<02:22,  1.74s/it]\r 93%|█████████▎| 1052/1133 [30:41<01:47,  1.33s/it]\r 93%|█████████▎| 1053/1133 [30:43<02:19,  1.74s/it]\r 93%|█████████▎| 1054/1133 [30:44<01:46,  1.35s/it]\r 93%|█████████▎| 1055/1133 [30:45<01:46,  1.36s/it]\r 93%|█████████▎| 1056/1133 [30:46<01:24,  1.10s/it]\r 93%|█████████▎| 1057/1133 [30:47<01:33,  1.24s/it]\r 93%|█████████▎| 1058/1133 [30:48<01:19,  1.06s/it]\r 93%|█████████▎| 1059/1133 [30:51<02:08,  1.73s/it]\r 94%|█████████▎| 1060/1133 [30:53<02:08,  1.76s/it]\r 94%|█████████▎| 1061/1133 [30:54<02:02,  1.70s/it]\r 94%|█████████▎| 1062/1133 [30:56<02:00,  1.70s/it]\r 94%|█████████▍| 1063/1133 [30:58<02:10,  1.86s/it]\r 94%|█████████▍| 1064/1133 [31:00<01:59,  1.73s/it]\r 94%|█████████▍| 1065/1133 [31:01<01:47,  1.58s/it]\r 94%|█████████▍| 1066/1133 [31:02<01:33,  1.40s/it]\r 94%|█████████▍| 1067/1133 [31:03<01:26,  1.31s/it]\r 94%|█████████▍| 1068/1133 [31:04<01:17,  1.20s/it]\r 94%|█████████▍| 1069/1133 [31:05<01:21,  1.27s/it]\r 94%|█████████▍| 1070/1133 [31:08<01:39,  1.58s/it]\r 95%|█████████▍| 1071/1133 [31:09<01:23,  1.34s/it]\r 95%|█████████▍| 1072/1133 [31:11<01:33,  1.53s/it]\r 95%|█████████▍| 1073/1133 [31:13<01:49,  1.82s/it]\r 95%|█████████▍| 1074/1133 [31:14<01:39,  1.69s/it]\r 95%|█████████▍| 1075/1133 [31:15<01:20,  1.39s/it]\r 95%|█████████▍| 1076/1133 [31:16<01:18,  1.37s/it]\r 95%|█████████▌| 1077/1133 [31:17<01:07,  1.21s/it]\r 95%|█████████▌| 1078/1133 [31:22<02:03,  2.25s/it]\r 95%|█████████▌| 1079/1133 [31:24<01:57,  2.18s/it]\r 95%|█████████▌| 1080/1133 [31:30<02:55,  3.30s/it]\r 95%|█████████▌| 1081/1133 [31:31<02:12,  2.55s/it]\r 95%|█████████▌| 1082/1133 [31:35<02:39,  3.12s/it]\r 96%|█████████▌| 1083/1133 [31:36<01:59,  2.39s/it]\r 96%|█████████▌| 1084/1133 [31:39<02:09,  2.64s/it]\r 96%|█████████▌| 1085/1133 [31:45<02:56,  3.68s/it]\r 96%|█████████▌| 1086/1133 [31:46<02:14,  2.87s/it]\r 96%|█████████▌| 1087/1133 [31:47<01:38,  2.15s/it]\r 96%|█████████▌| 1088/1133 [31:47<01:16,  1.70s/it]\r 96%|█████████▌| 1089/1133 [31:49<01:17,  1.77s/it]\r 96%|█████████▌| 1090/1133 [31:51<01:18,  1.82s/it]\r 96%|█████████▋| 1091/1133 [31:53<01:16,  1.81s/it]\r 96%|█████████▋| 1092/1133 [31:54<01:09,  1.70s/it]\r 96%|█████████▋| 1093/1133 [31:55<00:53,  1.33s/it]\r 97%|█████████▋| 1094/1133 [31:56<00:52,  1.35s/it]\r 97%|█████████▋| 1095/1133 [31:58<00:54,  1.44s/it]\r 97%|█████████▋| 1096/1133 [31:59<00:50,  1.37s/it]\r 97%|█████████▋| 1097/1133 [32:00<00:48,  1.36s/it]\r 97%|█████████▋| 1098/1133 [32:02<00:46,  1.32s/it]\r 97%|█████████▋| 1099/1133 [32:04<00:52,  1.56s/it]\r 97%|█████████▋| 1100/1133 [32:05<00:47,  1.45s/it]\r 97%|█████████▋| 1101/1133 [32:06<00:43,  1.35s/it]\r 97%|█████████▋| 1102/1133 [32:08<00:50,  1.64s/it]\r 97%|█████████▋| 1103/1133 [32:11<00:56,  1.88s/it]\r 97%|█████████▋| 1104/1133 [32:15<01:11,  2.47s/it]\r 98%|█████████▊| 1105/1133 [32:16<00:59,  2.14s/it]\r 98%|█████████▊| 1106/1133 [32:18<00:53,  1.96s/it]\r 98%|█████████▊| 1107/1133 [32:19<00:46,  1.78s/it]\r 98%|█████████▊| 1108/1133 [32:20<00:36,  1.44s/it]\r 98%|█████████▊| 1109/1133 [32:20<00:30,  1.26s/it]\r 98%|█████████▊| 1110/1133 [32:22<00:31,  1.36s/it]\r 98%|█████████▊| 1111/1133 [32:23<00:28,  1.29s/it]\r 98%|█████████▊| 1112/1133 [32:24<00:27,  1.31s/it]\r 98%|█████████▊| 1113/1133 [32:25<00:22,  1.15s/it]\r 98%|█████████▊| 1114/1133 [32:28<00:30,  1.62s/it]\r 98%|█████████▊| 1115/1133 [32:30<00:32,  1.80s/it]\r 98%|█████████▊| 1116/1133 [32:31<00:26,  1.57s/it]\r 99%|█████████▊| 1117/1133 [32:34<00:32,  2.01s/it]\r 99%|█████████▊| 1118/1133 [32:37<00:31,  2.10s/it]\r 99%|█████████▉| 1119/1133 [32:38<00:24,  1.78s/it]\r 99%|█████████▉| 1120/1133 [32:41<00:28,  2.17s/it]\r 99%|█████████▉| 1121/1133 [32:42<00:22,  1.85s/it]\r 99%|█████████▉| 1122/1133 [32:43<00:16,  1.54s/it]\r 99%|█████████▉| 1123/1133 [32:43<00:12,  1.26s/it]\r 99%|█████████▉| 1124/1133 [32:48<00:19,  2.21s/it]\r 99%|█████████▉| 1125/1133 [32:51<00:19,  2.43s/it]\r 99%|█████████▉| 1126/1133 [32:52<00:13,  2.00s/it]\r 99%|█████████▉| 1127/1133 [32:54<00:12,  2.09s/it]\r100%|█████████▉| 1128/1133 [32:57<00:12,  2.44s/it]\r100%|█████████▉| 1129/1133 [32:59<00:08,  2.24s/it]\r100%|█████████▉| 1130/1133 [33:01<00:06,  2.05s/it]\r100%|█████████▉| 1131/1133 [33:03<00:04,  2.06s/it]\r100%|█████████▉| 1132/1133 [33:04<00:01,  1.81s/it]\r100%|██████████| 1133/1133 [33:04<00:00,  1.47s/it]\r100%|██████████| 1133/1133 [33:04<00:00,  1.75s/it]"
     ]
    },
    {
     "output_type": "stream",
     "name": "stdout",
     "output_type": "stream",
     "text": [
      "CPU times: user 33min 3s, sys: 3.89 s, total: 33min 6s\nWall time: 33min 4s\n"
     ]
    },
    {
     "output_type": "stream",
     "name": "stderr",
     "output_type": "stream",
     "text": [
      "\n"
     ]
    }
   ],
   "source": [
    "%%time\n",
    "\n",
    "predictions = eval_model(model, tokenizer, datasets[\"test\"])"
   ]
  },
  {
   "cell_type": "code",
   "execution_count": 0,
   "metadata": {
    "application/vnd.databricks.v1+cell": {
     "cellMetadata": {
      "byteLimit": 2048000,
      "rowLimit": 10000
     },
     "inputWidgets": {},
     "nuid": "08959a5a-399e-4d95-9d7f-9baa380e2017",
     "showTitle": false,
     "title": ""
    }
   },
   "outputs": [
    {
     "output_type": "execute_result",
     "data": {
      "text/plain": [
       "{'accuracy': 0.00176522506619594,\n",
       " 'correct_ids': [364, 659],\n",
       " 'meteor': 0.37449710407725656,\n",
       " 'bleu_scores': {'bleu': 0.11183638574583862,\n",
       "  'precisions': [0.420306730097475,\n",
       "   0.1509714443753025,\n",
       "   0.07062929514625985,\n",
       "   0.03551871577526067],\n",
       "  'brevity_penalty': 0.995651386973693,\n",
       "  'length_ratio': 0.9956608148393508,\n",
       "  'translation_length': 30059,\n",
       "  'reference_length': 30190},\n",
       " 'rouge_scores': {'rouge1': 0.42145749325925663,\n",
       "  'rouge2': 0.17369013267758654,\n",
       "  'rougeL': 0.3640412935633255,\n",
       "  'rougeLsum': 0.36417627213739723}}"
      ]
     },
     "execution_count": 14,
     "metadata": {},
     "output_type": "execute_result"
    }
   ],
   "source": [
    "%python\n",
    "calc_metrics(datasets[\"test\"][\"english\"], predictions, debug=True)"
   ]
  },
  {
   "cell_type": "code",
   "execution_count": 0,
   "metadata": {
    "application/vnd.databricks.v1+cell": {
     "cellMetadata": {
      "byteLimit": 2048000,
      "rowLimit": 10000
     },
     "inputWidgets": {},
     "nuid": "375c172a-edb4-4074-be27-118ba5cedd92",
     "showTitle": false,
     "title": ""
    }
   },
   "outputs": [
    {
     "output_type": "stream",
     "name": "stdout",
     "output_type": "stream",
     "text": [
      "   index  ...                          unsloth/Qwen2-7B-Instruct\n0      0  ...  Old Geng raised his gun, squinting one of his ...\n\n[1 rows x 7 columns]\n"
     ]
    }
   ],
   "source": [
    "%python\n",
    "save_results(\n",
    "    model_name,\n",
    "    \"results/mac-results.csv\",\n",
    "    datasets[\"test\"],\n",
    "    predictions,\n",
    "    debug=True,\n",
    ")"
   ]
  },
  {
   "cell_type": "markdown",
   "metadata": {
    "application/vnd.databricks.v1+cell": {
     "cellMetadata": {
      "byteLimit": 2048000,
      "rowLimit": 10000
     },
     "inputWidgets": {},
     "nuid": "b937195f-4c8a-49af-9e2f-27238195ee6b",
     "showTitle": false,
     "title": ""
    },
    "id": "idAEIeSQ3xdS"
   },
   "source": [
    "<a name=\"Train\"></a>\n",
    "### Train the model\n",
    "Now let's use Huggingface TRL's `SFTTrainer`! More docs here: [TRL SFT docs](https://huggingface.co/docs/trl/sft_trainer). We do 60 steps to speed things up, but you can set `num_train_epochs=1` for a full run, and turn off `max_steps=None`. We also support TRL's `DPOTrainer`!"
   ]
  },
  {
   "cell_type": "code",
   "execution_count": 0,
   "metadata": {
    "application/vnd.databricks.v1+cell": {
     "cellMetadata": {
      "byteLimit": 2048000,
      "rowLimit": 10000
     },
     "inputWidgets": {},
     "nuid": "0ac35ae4-ffe0-4dac-9cab-1ac43814d739",
     "showTitle": false,
     "title": ""
    },
    "colab": {
     "base_uri": "https://localhost:8080/",
     "height": 122,
     "referenced_widgets": [
      "3cf2dd993b5e4d3daecf61e4bab5a404",
      "087b76a8b7514269b1f0ab29b062e444",
      "35b0e8c26d6640e9bd0ed7b242a423d8",
      "54ad89e05fd74576b9b8b5b5a10eaf8d",
      "a41dc44766444a998bec2d777f249d23",
      "a069d2ab23824f29aa320ac256e2cfe9",
      "06e806c82c7b4cbea31c5358dd9c3434",
      "2e5087c76f98437cb5dc729230358cba",
      "036fc5746f43416db18c19ad8fd36677",
      "fdb1941405ed4e4aa06019933892deb3",
      "668d5377ca56426a99753867e6e24862"
     ]
    },
    "id": "95_Nn-89DhsL",
    "outputId": "bce9db22-b022-4e43-de3f-c7ea4c9c3c4e"
   },
   "outputs": [
    {
     "output_type": "stream",
     "name": "stderr",
     "output_type": "stream",
     "text": [
      "[W CUDAAllocatorConfig.h:28] Warning: expandable_segments not supported on this platform (function operator())\ntorch.distributed process group is initialized, but parallel_mode != ParallelMode.DISTRIBUTED. In order to use Torch DDP, launch your script with `python -m torch.distributed.launch\n"
     ]
    },
    {
     "output_type": "display_data",
     "data": {
      "application/vnd.jupyter.widget-view+json": {
       "model_id": "c5cda0e424604aa7a7ac531bd64d11e9",
       "version_major": 2,
       "version_minor": 0
      },
      "text/plain": [
       "Map (num_proc=2):   0%|          | 0/4528 [00:00<?, ? examples/s]"
      ]
     },
     "metadata": {},
     "output_type": "display_data"
    }
   ],
   "source": [
    "%python\n",
    "from trl import SFTTrainer\n",
    "from transformers import TrainingArguments\n",
    "from unsloth import is_bfloat16_supported\n",
    "\n",
    "trainer = SFTTrainer(\n",
    "    model=model,\n",
    "    tokenizer=tokenizer,\n",
    "    train_dataset=datasets[\"train\"],\n",
    "    dataset_text_field=\"text\",\n",
    "    max_seq_length=max_seq_length,\n",
    "    dataset_num_proc=2,\n",
    "    packing=False,  # Can make training 5x faster for short sequences.\n",
    "    args=TrainingArguments(\n",
    "        per_device_train_batch_size=2,\n",
    "        gradient_accumulation_steps=4,\n",
    "        warmup_steps=5,\n",
    "        num_train_epochs=num_train_epochs,\n",
    "        learning_rate=2e-4,\n",
    "        fp16=not is_bfloat16_supported(),\n",
    "        bf16=is_bfloat16_supported(),\n",
    "        logging_steps=100,\n",
    "        optim=\"adamw_8bit\",\n",
    "        weight_decay=0.01,\n",
    "        lr_scheduler_type=\"linear\",\n",
    "        seed=3407,\n",
    "        output_dir=\"outputs\",\n",
    "    ),\n",
    ")"
   ]
  },
  {
   "cell_type": "code",
   "execution_count": 0,
   "metadata": {
    "application/vnd.databricks.v1+cell": {
     "cellMetadata": {
      "byteLimit": 2048000,
      "rowLimit": 10000
     },
     "inputWidgets": {},
     "nuid": "d1d50bc7-a740-4784-ac5b-ced5fa4f7616",
     "showTitle": false,
     "title": ""
    },
    "cellView": "form",
    "colab": {
     "base_uri": "https://localhost:8080/"
    },
    "id": "2ejIt2xSNKKp",
    "outputId": "c73d8dfa-f4a1-4a01-a6dc-018bf82516a2"
   },
   "outputs": [
    {
     "output_type": "stream",
     "name": "stdout",
     "output_type": "stream",
     "text": [
      "GPU = NVIDIA A100 80GB PCIe. Max memory = 79.151 GB.\n15.078 GB of memory reserved.\n"
     ]
    }
   ],
   "source": [
    "# @title Show current memory stats\n",
    "import torch\n",
    "\n",
    "gpu_stats = torch.cuda.get_device_properties(0)\n",
    "start_gpu_memory = round(torch.cuda.max_memory_reserved() / 1024 / 1024 / 1024, 3)\n",
    "max_memory = round(gpu_stats.total_memory / 1024 / 1024 / 1024, 3)\n",
    "print(f\"GPU = {gpu_stats.name}. Max memory = {max_memory} GB.\")\n",
    "print(f\"{start_gpu_memory} GB of memory reserved.\")"
   ]
  },
  {
   "cell_type": "code",
   "execution_count": 0,
   "metadata": {
    "application/vnd.databricks.v1+cell": {
     "cellMetadata": {
      "byteLimit": 2048000,
      "rowLimit": 10000
     },
     "inputWidgets": {},
     "nuid": "95e05329-1cb2-4325-a2a6-a4fc11b96b1d",
     "showTitle": false,
     "title": ""
    },
    "colab": {
     "base_uri": "https://localhost:8080/",
     "height": 1000
    },
    "id": "yqxqAZ7KJ4oL",
    "outputId": "69117b9b-b6f8-4d0e-c262-6998ba2c46bd"
   },
   "outputs": [
    {
     "output_type": "display_data",
     "data": {
      "text/plain": [
       "\u001B[0;31m---------------------------------------------------------------------------\u001B[0m\n",
       "\u001B[0;31mThe Python process exited with exit code 139 (SIGSEGV: Segmentation fault).\u001B[0m\n",
       "\u001B[0;31m\u001B[0m\n",
       "\u001B[0;31m\u001B[0m\n",
       "\u001B[0;31m\u001B[0m\n",
       "\u001B[0;31mThe last 10 KB of the process's stderr and stdout can be found below. See driver logs for full logs.\u001B[0m\n",
       "\u001B[0;31m---------------------------------------------------------------------------\u001B[0m\n",
       "\u001B[0;31mLast messages on stderr:\u001B[0m\n",
       "\u001B[0;31m/.ipykernel/9250/command-3235276842469315-271335705\", line 1 in <module>\u001B[0m\n",
       "\u001B[0;31m  File \"/databricks/python/lib/python3.11/site-packages/IPython/core/interactiveshell.py\", line 3526 in run_code\u001B[0m\n",
       "\u001B[0;31m  File \"/databricks/python/lib/python3.11/site-packages/IPython/core/interactiveshell.py\", line 3466 in run_ast_nodes\u001B[0m\n",
       "\u001B[0;31m  File \"/databricks/python/lib/python3.11/site-packages/IPython/core/interactiveshell.py\", line 3284 in run_cell_async\u001B[0m\n",
       "\u001B[0;31m  File \"/databricks/python/lib/python3.11/site-packages/IPython/core/async_helpers.py\", line 129 in _pseudo_sync_runner\u001B[0m\n",
       "\u001B[0;31m  File \"/databricks/python/lib/python3.11/site-packages/IPython/core/interactiveshell.py\", line 3079 in _run_cell\u001B[0m\n",
       "\u001B[0;31m  File \"/databricks/python/lib/python3.11/site-packages/IPython/core/interactiveshell.py\", line 3024 in run_cell\u001B[0m\n",
       "\u001B[0;31m  File \"/databricks/python/lib/python3.11/site-packages/ipykernel/zmqshell.py\", line 546 in run_cell\u001B[0m\n",
       "\u001B[0;31m  File \"/databricks/python/lib/python3.11/site-packages/ipykernel/ipkernel.py\", line 422 in do_execute\u001B[0m\n",
       "\u001B[0;31m  File \"/databricks/python_shell/dbruntime/DatabricksShell.py\", line 177 in do_execute\u001B[0m\n",
       "\u001B[0;31m  File \"/databricks/python/lib/python3.11/site-packages/ipykernel/kernelbase.py\", line 740 in execute_request\u001B[0m\n",
       "\u001B[0;31m  File \"/databricks/python/lib/python3.11/site-packages/ipykernel/kernelbase.py\", line 412 in dispatch_shell\u001B[0m\n",
       "\u001B[0;31m  File \"/databricks/python/lib/python3.11/site-packages/ipykernel/kernelbase.py\", line 505 in process_one\u001B[0m\n",
       "\u001B[0;31m  File \"/databricks/python/lib/python3.11/site-packages/ipykernel/kernelbase.py\", line 516 in dispatch_queue\u001B[0m\n",
       "\u001B[0;31m  File \"/usr/lib/python3.11/asyncio/events.py\", line 80 in _run\u001B[0m\n",
       "\u001B[0;31m  File \"/usr/lib/python3.11/asyncio/base_events.py\", line 1909 in _run_once\u001B[0m\n",
       "\u001B[0;31m  File \"/usr/lib/python3.11/asyncio/base_events.py\", line 604 in run_forever\u001B[0m\n",
       "\u001B[0;31m  File \"/databricks/python/lib/python3.11/site-packages/tornado/platform/asyncio.py\", line 195 in start\u001B[0m\n",
       "\u001B[0;31m  File \"/databricks/python/lib/python3.11/site-packages/ipykernel/kernelapp.py\", line 736 in start\u001B[0m\n",
       "\u001B[0;31m  File \"/databricks/python_shell/scripts/db_ipykernel_launcher.py\", line 178 in main\u001B[0m\n",
       "\u001B[0;31m  File \"/databricks/python_shell/scripts/db_ipykernel_launcher.py\", line 182 in <module>\u001B[0m\n",
       "\u001B[0;31m\u001B[0m\n",
       "\u001B[0;31mExtension modules: zmq.libzmq, zmq.backend.cython.context, zmq.backend.cython.message, zmq.backend.cython.socket, zmq.backend.cython._device, zmq.backend.cython._poll, zmq.backend.cython._proxy_steerable, zmq.backend.cython._version, zmq.backend.cython.error, zmq.backend.cython.utils, tornado.speedups, psutil._psutil_linux, psutil._psutil_posix, numpy.core._multiarray_umath, numpy.core._multiarray_tests, numpy.linalg._umath_linalg, numpy.fft._pocketfft_internal, numpy.random._common, numpy.random.bit_generator, numpy.random._bounded_integers, numpy.random._mt19937, numpy.random.mtrand, numpy.random._philox, numpy.random._pcg64, numpy.random._sfc64, numpy.random._generator, pandas._libs.tslibs.np_datetime, pandas._libs.tslibs.dtypes, pandas._libs.tslibs.base, pandas._libs.tslibs.nattype, pandas._libs.tslibs.timezones, pandas._libs.tslibs.tzconversion, pandas._libs.tslibs.ccalendar, pandas._libs.tslibs.fields, pandas._libs.tslibs.timedeltas, pandas._libs.tslibs.timestamps, pandas._libs.properties, pandas._libs.tslibs.offsets, pandas._libs.tslibs.parsing, pandas._libs.tslibs.conversion, pandas._libs.tslibs.period, pandas._libs.tslibs.vectorized, pandas._libs.ops_dispatch, pandas._libs.missing, pandas._libs.hashtable, pandas._libs.algos, pandas._libs.interval, pandas._libs.tslib, pandas._libs.lib, pandas._libs.hashing, pyarrow.lib, pyarrow._hdfsio, pandas._libs.ops, pyarrow._compute, pandas._libs.arrays, pandas._libs.index, pandas._libs.join, pandas._libs.sparse, pandas._libs.reduction, pandas._libs.indexing, pandas._libs.internals, pandas._libs.writers, pandas._libs.window.aggregations, pandas._libs.window.indexers, pandas._libs.reshape, pandas._libs.tslibs.strptime, pandas._libs.groupby, pandas._libs.testing, pandas._libs.parsers, pandas._libs.json, grpc._cython.cygrpc, _brotli, simplejson._speedups, _cffi_backend, ujson, matplotlib._c_internal_utils, PIL._imaging, matplotlib._path, kiwisolver._cext, matplotlib._image, yaml._yaml, scipy._lib._ccallback_c, scipy.sparse._sparsetools, _csparsetools, scipy.sparse._csparsetools, scipy.sparse.linalg._isolve._iterative, scipy.linalg._fblas, scipy.linalg._flapack, scipy.linalg.cython_lapack, scipy.linalg._cythonized_array_utils, scipy.linalg._solve_toeplitz, scipy.linalg._decomp_lu_cython, scipy.linalg._matfuncs_sqrtm_triu, scipy.linalg.cython_blas, scipy.linalg._matfuncs_expm, scipy.linalg._decomp_update, scipy.linalg._flinalg, scipy.sparse.linalg._dsolve._superlu, scipy.sparse.linalg._eigen.arpack._arpack, scipy.sparse.csgraph._tools, scipy.sparse.csgraph._shortest_path, scipy.sparse.csgraph._traversal, scipy.sparse.csgraph._min_spanning_tree, scipy.sparse.csgraph._flow, scipy.sparse.csgraph._matching, scipy.sparse.csgraph._reordering, snappy._snappy, lz4._version, lz4.frame._frame, pyarrow._parquet, pyarrow._fs, pyarrow._hdfs, pyarrow._gcsfs, pyarrow._s3fs, multidict._multidict, yarl._quoting_c, aiohttp._helpers, aiohttp._http_writer, aiohttp._http_parser, aiohttp._websocket, frozenlist._frozenlist, xxhash._xxhash, pyarrow._json, torch._C, torch._C._fft, torch._C._linalg, torch._C._nested, torch._C._nn, torch._C._sparse, torch._C._special, sentencepiece._sentencepiece, numpy.linalg.lapack_lite, scipy.spatial._ckdtree, scipy._lib.messagestream, scipy.spatial._qhull, scipy.spatial._voronoi, scipy.spatial._distance_wrap, scipy.spatial._hausdorff, scipy.special._ufuncs_cxx, scipy.special._ufuncs, scipy.special._specfun, scipy.special._comb, scipy.special._ellip_harm_2, scipy.spatial.transform._rotation, scipy.ndimage._nd_image, _ni_label, scipy.ndimage._ni_label, scipy.optimize._minpack2, scipy.optimize._group_columns, scipy.optimize._trlib._trlib, scipy.optimize._lbfgsb, _moduleTNC, scipy.optimize._moduleTNC, scipy.optimize._cobyla, scipy.optimize._slsqp, scipy.optimize._minpack, scipy.optimize._lsq.givens_elimination, scipy.optimize._zeros, scipy.optimize.__nnls, scipy.optimize._highs.cython.src._highs_wrapper, scipy.optimize._highs._highs_wrapper, scipy.optimize._highs.cython.src._highs_constants, scipy.optimize._highs._highs_constants, scipy.linalg._interpolative, scipy.optimize._bglu_dense, scipy.optimize._lsap, scipy.optimize._direct, scipy.integrate._odepack, scipy.integrate._quadpack, scipy.integrate._vode, scipy.integrate._dop, scipy.integrate._lsoda, scipy.special.cython_special, scipy.stats._stats, scipy.stats.beta_ufunc, scipy.stats._boost.beta_ufunc, scipy.stats.binom_ufunc, scipy.stats._boost.binom_ufunc, scipy.stats.nbinom_ufunc, scipy.stats._boost.nbinom_ufunc, scipy.stats.hypergeom_ufunc, scipy.stats._boost.hypergeom_ufunc, scipy.stats.ncf_ufunc, scipy.stats._boost.ncf_ufunc, scipy.stats.ncx2_ufunc, scipy.stats._boost.ncx2_ufunc, scipy.stats.nct_ufunc, scipy.stats._boost.nct_ufunc, scipy.stats.skewnorm_ufunc, scipy.stats._boost.skewnorm_ufunc, scipy.stats.invgauss_ufunc, scipy.stats._boost.invgauss_ufunc, scipy.interpolate._fitpack, scipy.interpolate.dfitpack, scipy.interpolate._bspl, scipy.interpolate._ppoly, scipy.interpolate.interpnd, scipy.interpolate._rbfinterp_pythran, scipy.interpolate._rgi_cython, scipy.stats._biasedurn, scipy.stats._levy_stable.levyst, scipy.stats._stats_pythran, scipy._lib._uarray._uarray, scipy.stats._statlib, scipy.stats._sobol, scipy.stats._qmc_cy, scipy.stats._mvn, scipy.stats._rcont.rcont, sklearn.__check_build._check_build, sklearn.utils._isfinite, sklearn.utils.murmurhash, sklearn.utils._openmp_helpers, Cython.Plex.Actions, Cython.Plex.Scanners, Cython.Compiler.Scanning, sklearn.utils._logistic_sigmoid, sklearn.utils.sparsefuncs_fast, sklearn._loss._loss, sklearn._isotonic, sklearn.metrics.cluster._expected_mutual_info_fast, sklearn.preprocessing._csr_polynomial_expansion, sklearn.preprocessing._target_encoder_fast, sklearn.metrics._dist_metrics, sklearn.metrics._pairwise_distances_reduction._datasets_pair, sklearn.utils._cython_blas, sklearn.metrics._pairwise_distances_reduction._base, sklearn.metrics._pairwise_distances_reduction._middle_term_computer, sklearn.utils._heap, sklearn.utils._sorting, sklearn.metrics._pairwise_distances_reduction._argkmin, sklearn.metrics._pairwise_distances_reduction._argkmin_classmode, sklearn.utils._vector_sentinel, sklearn.metrics._pairwise_distances_reduction._radius_neighbors, sklearn.metrics._pairwise_fast, sklearn.utils._random, sklearn.utils._seq_dataset, sklearn.linear_model._cd_fast, sklearn.utils.arrayfuncs, sklearn.svm._liblinear, sklearn.svm._libsvm, sklearn.svm._libsvm_sparse, sklearn.utils._weight_vector, sklearn.linear_model._sgd_fast, sklearn.linear_model._sag_fast, sklearn.utils._fast_dict, sklearn.cluster._hierarchical_fast, sklearn.cluster._k_means_common, sklearn.cluster._k_means_elkan, sklearn.cluster._k_means_lloyd, sklearn.cluster._k_means_minibatch, sklearn.neighbors._partition_nodes, sklearn.neighbors._ball_tree, sklearn.neighbors._kd_tree, sklearn.decomposition._online_lda_fast, sklearn.decomposition._cdnmf_fast, sklearn.cluster._dbscan_inner, sklearn.cluster._hdbscan._tree, sklearn.cluster._hdbscan._linkage, sklearn.cluster._hdbscan._reachability, sklearn.tree._utils, sklearn.tree._tree, sklearn.tree._splitter, sklearn.tree._criterion, sklearn.neighbors._quad_tree, sklearn.manifold._barnes_hut_tsne, sklearn.manifold._utils, scipy.io.matlab._mio_utils, scipy.io.matlab._streams, scipy.io.matlab._mio5_utils, sklearn.datasets._svmlight_format_fast, sklearn.feature_extraction._hashing_fast, sklearn.ensemble._gradient_boosting, sklearn.ensemble._hist_gradient_boosting.common, sklearn.ensemble._hist_gradient_boosting._gradient_boosting, sklearn.ensemble._hist_gradient_boosting._binning, sklearn.ensemble._hist_gradient_boosting._bitset, sklearn.ensemble._hist_gradient_boosting.histogram, sklearn.ensemble._hist_gradient_boosting._predictor, sklearn.ensemble._hist_gradient_boosting.splitting, sklearn.ensemble._hist_gradient_boosting.utils, h5py._errors, h5py.defs, h5py._objects, h5py.h5, h5py.utils, h5py.h5t, h5py.h5s, h5py.h5ac, h5py.h5p, h5py.h5r, h5py._proxy, h5py._conv, h5py.h5z, h5py.h5a, h5py.h5d, h5py.h5ds, h5py.h5g, h5py.h5i, h5py.h5f, h5py.h5fd, h5py.h5pl, h5py.h5o, h5py.h5l, h5py._selector, regex._regex, cuda_utils, __triton_launcher (total: 307)\u001B[0m\n",
       "\u001B[0;31m---------------------------------------------------------------------------\u001B[0m\n",
       "\u001B[0;31mLast messages on stdout:\u001B[0m\n",
       "\u001B[0;31mNOTE: When using the `ipython kernel` entry point, Ctrl-C will not work.\u001B[0m\n",
       "\u001B[0;31m\u001B[0m\n",
       "\u001B[0;31mTo exit, you will have to explicitly quit this process, by either sending\u001B[0m\n",
       "\u001B[0;31m\"quit\" from a client, or using Ctrl-\\ in UNIX-like environments.\u001B[0m\n",
       "\u001B[0;31m\u001B[0m\n",
       "\u001B[0;31mTo read more about this, see https://github.com/ipython/ipython/issues/2049\u001B[0m\n",
       "\u001B[0;31m\u001B[0m\n",
       "\u001B[0;31m\u001B[0m\n",
       "\u001B[0;31mTo connect another client to this kernel, use:\u001B[0m\n",
       "\u001B[0;31m    --existing /databricks/kernel-connections/2b793819de2df1295deed8eb8755e600387fe334694a09fb3a2add64b8ffa69f.json\u001B[0m\n",
       "\u001B[0;31mworkding dir: /Workspace/Users/donghao.huang@mastercard.com/novel-translation\u001B[0m\n",
       "\u001B[0;31mloading env vars from: /Workspace/Users/donghao.huang@mastercard.com/novel-translation/.env\u001B[0m\n",
       "\u001B[0;31m🦥 Unsloth: Will patch your computer to enable 2x faster free finetuning.\u001B[0m\n",
       "\u001B[0;31m==((====))==  Unsloth: Fast Qwen2 patching release 2024.6\u001B[0m\n",
       "\u001B[0;31m   \\\\   /|    GPU: NVIDIA A100 80GB PCIe. Max memory: 79.151 GB. Platform = Linux.\u001B[0m\n",
       "\u001B[0;31mO^O/ \\_/ \\    Pytorch: 2.3.0+cu121. CUDA = 8.0. CUDA Toolkit = 12.1.\u001B[0m\n",
       "\u001B[0;31m\\        /    Bfloat16 = TRUE. Xformers = 0.0.26.post1. FA = True.\u001B[0m\n",
       "\u001B[0;31m \"-____-\"     Free Apache license: http://github.com/unslothai/unsloth\u001B[0m\n",
       "\u001B[0;31mCPU times: user 15.5 s, sys: 3.93 s, total: 19.4 s\u001B[0m\n",
       "\u001B[0;31mWall time: 15.9 s\u001B[0m\n",
       "\u001B[0;31mCPU times: user 43.9 s, sys: 158 ms, total: 44 s\u001B[0m\n",
       "\u001B[0;31mWall time: 5.05 s\u001B[0m\n",
       "\u001B[0;31mloading train/test data files\u001B[0m\n",
       "\u001B[0;31mDatasetDict({\u001B[0m\n",
       "\u001B[0;31m    train: Dataset({\u001B[0m\n",
       "\u001B[0;31m        features: ['chinese', 'english', 'text', 'prompt'],\u001B[0m\n",
       "\u001B[0;31m        num_rows: 4528\u001B[0m\n",
       "\u001B[0;31m    })\u001B[0m\n",
       "\u001B[0;31m    test: Dataset({\u001B[0m\n",
       "\u001B[0;31m        features: ['chinese', 'english', 'text', 'prompt'],\u001B[0m\n",
       "\u001B[0;31m        num_rows: 1133\u001B[0m\n",
       "\u001B[0;31m    })\u001B[0m\n",
       "\u001B[0;31m})\u001B[0m\n",
       "\u001B[0;31m<|im_start|>system\u001B[0m\n",
       "\u001B[0;31mYou are an expert in translating Chinese to English.<|im_end|>\u001B[0m\n",
       "\u001B[0;31m<|im_start|>user\u001B[0m\n",
       "\u001B[0;31mPlease translate the following Chinese text into English and provide only the translated content, nothing else.\u001B[0m\n",
       "\u001B[0;31m然后他们到一间为游客开的通宵酒吧中去坐了两个多小时，沙瑞山一杯接着一杯地灌啤酒，变得更加健谈，而汪淼却早已心神不定，脑子里不断地浮现出那条绿色直线。<|im_end|>\u001B[0m\n",
       "\u001B[0;31m<|im_start|>assistant\u001B[0m\n",
       "\u001B[0;31m\u001B[0m\n",
       "\u001B[0;31m----------------------------------------\u001B[0m\n",
       "\u001B[0;31m<|im_start|>system\u001B[0m\n",
       "\u001B[0;31mYou are an expert in translating Chinese to English.<|im_end|>\u001B[0m\n",
       "\u001B[0;31m<|im_start|>user\u001B[0m\n",
       "\u001B[0;31mPlease translate the following Chinese text into English and provide only the translated content, nothing else.\u001B[0m\n",
       "\u001B[0;31m然后他们到一间为游客开的通宵酒吧中去坐了两个多小时，沙瑞山一杯接着一杯地灌啤酒，变得更加健谈，而汪淼却早已心神不定，脑子里不断地浮现出那条绿色直线。<|im_end|>\u001B[0m\n",
       "\u001B[0;31m<|im_start|>assistant\u001B[0m\n",
       "\u001B[0;31mThen they spent more than two hours at a 24-hour bar for tourists, where Sharisun drank beer one after another and became increasingly talkative. Meanwhile, Wang Miao was already restless, his mind constantly replaying that green line.<|im_end|>\u001B[0m\n",
       "\u001B[0;31mCPU times: user 2.63 s, sys: 188 ms, total: 2.82 s\u001B[0m\n",
       "\u001B[0;31mWall time: 3.49 s\u001B[0m\n",
       "\u001B[0;31mCPU times: user 33min 3s, sys: 3.89 s, total: 33min 6s\u001B[0m\n",
       "\u001B[0;31mWall time: 33min 4s\u001B[0m\n",
       "\u001B[0;31m   index  ...                          unsloth/Qwen2-7B-Instruct\u001B[0m\n",
       "\u001B[0;31m0      0  ...  Old Geng raised his gun, squinting one of his ...\u001B[0m\n",
       "\u001B[0;31m\u001B[0m\n",
       "\u001B[0;31m[1 rows x 7 columns]\u001B[0m\n",
       "\u001B[0;31mGPU = NVIDIA A100 80GB PCIe. Max memory = 79.151 GB.\u001B[0m\n",
       "\u001B[0;31m15.078 GB of memory reserved.\u001B[0m\n",
       "\u001B[0;31m[2024-06-18 09:22:01,273] [INFO] [real_accelerator.py:191:get_accelerator] Setting ds_accelerator to cuda (auto detect)\u001B[0m"
      ]
     },
     "metadata": {
      "application/vnd.databricks.v1+output": {
       "arguments": {},
       "data": "\u001B[0;31m---------------------------------------------------------------------------\u001B[0m\n\u001B[0;31mThe Python process exited with exit code 139 (SIGSEGV: Segmentation fault).\u001B[0m\n\u001B[0;31m\u001B[0m\n\u001B[0;31m\u001B[0m\n\u001B[0;31m\u001B[0m\n\u001B[0;31mThe last 10 KB of the process's stderr and stdout can be found below. See driver logs for full logs.\u001B[0m\n\u001B[0;31m---------------------------------------------------------------------------\u001B[0m\n\u001B[0;31mLast messages on stderr:\u001B[0m\n\u001B[0;31m/.ipykernel/9250/command-3235276842469315-271335705\", line 1 in <module>\u001B[0m\n\u001B[0;31m  File \"/databricks/python/lib/python3.11/site-packages/IPython/core/interactiveshell.py\", line 3526 in run_code\u001B[0m\n\u001B[0;31m  File \"/databricks/python/lib/python3.11/site-packages/IPython/core/interactiveshell.py\", line 3466 in run_ast_nodes\u001B[0m\n\u001B[0;31m  File \"/databricks/python/lib/python3.11/site-packages/IPython/core/interactiveshell.py\", line 3284 in run_cell_async\u001B[0m\n\u001B[0;31m  File \"/databricks/python/lib/python3.11/site-packages/IPython/core/async_helpers.py\", line 129 in _pseudo_sync_runner\u001B[0m\n\u001B[0;31m  File \"/databricks/python/lib/python3.11/site-packages/IPython/core/interactiveshell.py\", line 3079 in _run_cell\u001B[0m\n\u001B[0;31m  File \"/databricks/python/lib/python3.11/site-packages/IPython/core/interactiveshell.py\", line 3024 in run_cell\u001B[0m\n\u001B[0;31m  File \"/databricks/python/lib/python3.11/site-packages/ipykernel/zmqshell.py\", line 546 in run_cell\u001B[0m\n\u001B[0;31m  File \"/databricks/python/lib/python3.11/site-packages/ipykernel/ipkernel.py\", line 422 in do_execute\u001B[0m\n\u001B[0;31m  File \"/databricks/python_shell/dbruntime/DatabricksShell.py\", line 177 in do_execute\u001B[0m\n\u001B[0;31m  File \"/databricks/python/lib/python3.11/site-packages/ipykernel/kernelbase.py\", line 740 in execute_request\u001B[0m\n\u001B[0;31m  File \"/databricks/python/lib/python3.11/site-packages/ipykernel/kernelbase.py\", line 412 in dispatch_shell\u001B[0m\n\u001B[0;31m  File \"/databricks/python/lib/python3.11/site-packages/ipykernel/kernelbase.py\", line 505 in process_one\u001B[0m\n\u001B[0;31m  File \"/databricks/python/lib/python3.11/site-packages/ipykernel/kernelbase.py\", line 516 in dispatch_queue\u001B[0m\n\u001B[0;31m  File \"/usr/lib/python3.11/asyncio/events.py\", line 80 in _run\u001B[0m\n\u001B[0;31m  File \"/usr/lib/python3.11/asyncio/base_events.py\", line 1909 in _run_once\u001B[0m\n\u001B[0;31m  File \"/usr/lib/python3.11/asyncio/base_events.py\", line 604 in run_forever\u001B[0m\n\u001B[0;31m  File \"/databricks/python/lib/python3.11/site-packages/tornado/platform/asyncio.py\", line 195 in start\u001B[0m\n\u001B[0;31m  File \"/databricks/python/lib/python3.11/site-packages/ipykernel/kernelapp.py\", line 736 in start\u001B[0m\n\u001B[0;31m  File \"/databricks/python_shell/scripts/db_ipykernel_launcher.py\", line 178 in main\u001B[0m\n\u001B[0;31m  File \"/databricks/python_shell/scripts/db_ipykernel_launcher.py\", line 182 in <module>\u001B[0m\n\u001B[0;31m\u001B[0m\n\u001B[0;31mExtension modules: zmq.libzmq, zmq.backend.cython.context, zmq.backend.cython.message, zmq.backend.cython.socket, zmq.backend.cython._device, zmq.backend.cython._poll, zmq.backend.cython._proxy_steerable, zmq.backend.cython._version, zmq.backend.cython.error, zmq.backend.cython.utils, tornado.speedups, psutil._psutil_linux, psutil._psutil_posix, numpy.core._multiarray_umath, numpy.core._multiarray_tests, numpy.linalg._umath_linalg, numpy.fft._pocketfft_internal, numpy.random._common, numpy.random.bit_generator, numpy.random._bounded_integers, numpy.random._mt19937, numpy.random.mtrand, numpy.random._philox, numpy.random._pcg64, numpy.random._sfc64, numpy.random._generator, pandas._libs.tslibs.np_datetime, pandas._libs.tslibs.dtypes, pandas._libs.tslibs.base, pandas._libs.tslibs.nattype, pandas._libs.tslibs.timezones, pandas._libs.tslibs.tzconversion, pandas._libs.tslibs.ccalendar, pandas._libs.tslibs.fields, pandas._libs.tslibs.timedeltas, pandas._libs.tslibs.timestamps, pandas._libs.properties, pandas._libs.tslibs.offsets, pandas._libs.tslibs.parsing, pandas._libs.tslibs.conversion, pandas._libs.tslibs.period, pandas._libs.tslibs.vectorized, pandas._libs.ops_dispatch, pandas._libs.missing, pandas._libs.hashtable, pandas._libs.algos, pandas._libs.interval, pandas._libs.tslib, pandas._libs.lib, pandas._libs.hashing, pyarrow.lib, pyarrow._hdfsio, pandas._libs.ops, pyarrow._compute, pandas._libs.arrays, pandas._libs.index, pandas._libs.join, pandas._libs.sparse, pandas._libs.reduction, pandas._libs.indexing, pandas._libs.internals, pandas._libs.writers, pandas._libs.window.aggregations, pandas._libs.window.indexers, pandas._libs.reshape, pandas._libs.tslibs.strptime, pandas._libs.groupby, pandas._libs.testing, pandas._libs.parsers, pandas._libs.json, grpc._cython.cygrpc, _brotli, simplejson._speedups, _cffi_backend, ujson, matplotlib._c_internal_utils, PIL._imaging, matplotlib._path, kiwisolver._cext, matplotlib._image, yaml._yaml, scipy._lib._ccallback_c, scipy.sparse._sparsetools, _csparsetools, scipy.sparse._csparsetools, scipy.sparse.linalg._isolve._iterative, scipy.linalg._fblas, scipy.linalg._flapack, scipy.linalg.cython_lapack, scipy.linalg._cythonized_array_utils, scipy.linalg._solve_toeplitz, scipy.linalg._decomp_lu_cython, scipy.linalg._matfuncs_sqrtm_triu, scipy.linalg.cython_blas, scipy.linalg._matfuncs_expm, scipy.linalg._decomp_update, scipy.linalg._flinalg, scipy.sparse.linalg._dsolve._superlu, scipy.sparse.linalg._eigen.arpack._arpack, scipy.sparse.csgraph._tools, scipy.sparse.csgraph._shortest_path, scipy.sparse.csgraph._traversal, scipy.sparse.csgraph._min_spanning_tree, scipy.sparse.csgraph._flow, scipy.sparse.csgraph._matching, scipy.sparse.csgraph._reordering, snappy._snappy, lz4._version, lz4.frame._frame, pyarrow._parquet, pyarrow._fs, pyarrow._hdfs, pyarrow._gcsfs, pyarrow._s3fs, multidict._multidict, yarl._quoting_c, aiohttp._helpers, aiohttp._http_writer, aiohttp._http_parser, aiohttp._websocket, frozenlist._frozenlist, xxhash._xxhash, pyarrow._json, torch._C, torch._C._fft, torch._C._linalg, torch._C._nested, torch._C._nn, torch._C._sparse, torch._C._special, sentencepiece._sentencepiece, numpy.linalg.lapack_lite, scipy.spatial._ckdtree, scipy._lib.messagestream, scipy.spatial._qhull, scipy.spatial._voronoi, scipy.spatial._distance_wrap, scipy.spatial._hausdorff, scipy.special._ufuncs_cxx, scipy.special._ufuncs, scipy.special._specfun, scipy.special._comb, scipy.special._ellip_harm_2, scipy.spatial.transform._rotation, scipy.ndimage._nd_image, _ni_label, scipy.ndimage._ni_label, scipy.optimize._minpack2, scipy.optimize._group_columns, scipy.optimize._trlib._trlib, scipy.optimize._lbfgsb, _moduleTNC, scipy.optimize._moduleTNC, scipy.optimize._cobyla, scipy.optimize._slsqp, scipy.optimize._minpack, scipy.optimize._lsq.givens_elimination, scipy.optimize._zeros, scipy.optimize.__nnls, scipy.optimize._highs.cython.src._highs_wrapper, scipy.optimize._highs._highs_wrapper, scipy.optimize._highs.cython.src._highs_constants, scipy.optimize._highs._highs_constants, scipy.linalg._interpolative, scipy.optimize._bglu_dense, scipy.optimize._lsap, scipy.optimize._direct, scipy.integrate._odepack, scipy.integrate._quadpack, scipy.integrate._vode, scipy.integrate._dop, scipy.integrate._lsoda, scipy.special.cython_special, scipy.stats._stats, scipy.stats.beta_ufunc, scipy.stats._boost.beta_ufunc, scipy.stats.binom_ufunc, scipy.stats._boost.binom_ufunc, scipy.stats.nbinom_ufunc, scipy.stats._boost.nbinom_ufunc, scipy.stats.hypergeom_ufunc, scipy.stats._boost.hypergeom_ufunc, scipy.stats.ncf_ufunc, scipy.stats._boost.ncf_ufunc, scipy.stats.ncx2_ufunc, scipy.stats._boost.ncx2_ufunc, scipy.stats.nct_ufunc, scipy.stats._boost.nct_ufunc, scipy.stats.skewnorm_ufunc, scipy.stats._boost.skewnorm_ufunc, scipy.stats.invgauss_ufunc, scipy.stats._boost.invgauss_ufunc, scipy.interpolate._fitpack, scipy.interpolate.dfitpack, scipy.interpolate._bspl, scipy.interpolate._ppoly, scipy.interpolate.interpnd, scipy.interpolate._rbfinterp_pythran, scipy.interpolate._rgi_cython, scipy.stats._biasedurn, scipy.stats._levy_stable.levyst, scipy.stats._stats_pythran, scipy._lib._uarray._uarray, scipy.stats._statlib, scipy.stats._sobol, scipy.stats._qmc_cy, scipy.stats._mvn, scipy.stats._rcont.rcont, sklearn.__check_build._check_build, sklearn.utils._isfinite, sklearn.utils.murmurhash, sklearn.utils._openmp_helpers, Cython.Plex.Actions, Cython.Plex.Scanners, Cython.Compiler.Scanning, sklearn.utils._logistic_sigmoid, sklearn.utils.sparsefuncs_fast, sklearn._loss._loss, sklearn._isotonic, sklearn.metrics.cluster._expected_mutual_info_fast, sklearn.preprocessing._csr_polynomial_expansion, sklearn.preprocessing._target_encoder_fast, sklearn.metrics._dist_metrics, sklearn.metrics._pairwise_distances_reduction._datasets_pair, sklearn.utils._cython_blas, sklearn.metrics._pairwise_distances_reduction._base, sklearn.metrics._pairwise_distances_reduction._middle_term_computer, sklearn.utils._heap, sklearn.utils._sorting, sklearn.metrics._pairwise_distances_reduction._argkmin, sklearn.metrics._pairwise_distances_reduction._argkmin_classmode, sklearn.utils._vector_sentinel, sklearn.metrics._pairwise_distances_reduction._radius_neighbors, sklearn.metrics._pairwise_fast, sklearn.utils._random, sklearn.utils._seq_dataset, sklearn.linear_model._cd_fast, sklearn.utils.arrayfuncs, sklearn.svm._liblinear, sklearn.svm._libsvm, sklearn.svm._libsvm_sparse, sklearn.utils._weight_vector, sklearn.linear_model._sgd_fast, sklearn.linear_model._sag_fast, sklearn.utils._fast_dict, sklearn.cluster._hierarchical_fast, sklearn.cluster._k_means_common, sklearn.cluster._k_means_elkan, sklearn.cluster._k_means_lloyd, sklearn.cluster._k_means_minibatch, sklearn.neighbors._partition_nodes, sklearn.neighbors._ball_tree, sklearn.neighbors._kd_tree, sklearn.decomposition._online_lda_fast, sklearn.decomposition._cdnmf_fast, sklearn.cluster._dbscan_inner, sklearn.cluster._hdbscan._tree, sklearn.cluster._hdbscan._linkage, sklearn.cluster._hdbscan._reachability, sklearn.tree._utils, sklearn.tree._tree, sklearn.tree._splitter, sklearn.tree._criterion, sklearn.neighbors._quad_tree, sklearn.manifold._barnes_hut_tsne, sklearn.manifold._utils, scipy.io.matlab._mio_utils, scipy.io.matlab._streams, scipy.io.matlab._mio5_utils, sklearn.datasets._svmlight_format_fast, sklearn.feature_extraction._hashing_fast, sklearn.ensemble._gradient_boosting, sklearn.ensemble._hist_gradient_boosting.common, sklearn.ensemble._hist_gradient_boosting._gradient_boosting, sklearn.ensemble._hist_gradient_boosting._binning, sklearn.ensemble._hist_gradient_boosting._bitset, sklearn.ensemble._hist_gradient_boosting.histogram, sklearn.ensemble._hist_gradient_boosting._predictor, sklearn.ensemble._hist_gradient_boosting.splitting, sklearn.ensemble._hist_gradient_boosting.utils, h5py._errors, h5py.defs, h5py._objects, h5py.h5, h5py.utils, h5py.h5t, h5py.h5s, h5py.h5ac, h5py.h5p, h5py.h5r, h5py._proxy, h5py._conv, h5py.h5z, h5py.h5a, h5py.h5d, h5py.h5ds, h5py.h5g, h5py.h5i, h5py.h5f, h5py.h5fd, h5py.h5pl, h5py.h5o, h5py.h5l, h5py._selector, regex._regex, cuda_utils, __triton_launcher (total: 307)\u001B[0m\n\u001B[0;31m---------------------------------------------------------------------------\u001B[0m\n\u001B[0;31mLast messages on stdout:\u001B[0m\n\u001B[0;31mNOTE: When using the `ipython kernel` entry point, Ctrl-C will not work.\u001B[0m\n\u001B[0;31m\u001B[0m\n\u001B[0;31mTo exit, you will have to explicitly quit this process, by either sending\u001B[0m\n\u001B[0;31m\"quit\" from a client, or using Ctrl-\\ in UNIX-like environments.\u001B[0m\n\u001B[0;31m\u001B[0m\n\u001B[0;31mTo read more about this, see https://github.com/ipython/ipython/issues/2049\u001B[0m\n\u001B[0;31m\u001B[0m\n\u001B[0;31m\u001B[0m\n\u001B[0;31mTo connect another client to this kernel, use:\u001B[0m\n\u001B[0;31m    --existing /databricks/kernel-connections/2b793819de2df1295deed8eb8755e600387fe334694a09fb3a2add64b8ffa69f.json\u001B[0m\n\u001B[0;31mworkding dir: /Workspace/Users/donghao.huang@mastercard.com/novel-translation\u001B[0m\n\u001B[0;31mloading env vars from: /Workspace/Users/donghao.huang@mastercard.com/novel-translation/.env\u001B[0m\n\u001B[0;31m🦥 Unsloth: Will patch your computer to enable 2x faster free finetuning.\u001B[0m\n\u001B[0;31m==((====))==  Unsloth: Fast Qwen2 patching release 2024.6\u001B[0m\n\u001B[0;31m   \\\\   /|    GPU: NVIDIA A100 80GB PCIe. Max memory: 79.151 GB. Platform = Linux.\u001B[0m\n\u001B[0;31mO^O/ \\_/ \\    Pytorch: 2.3.0+cu121. CUDA = 8.0. CUDA Toolkit = 12.1.\u001B[0m\n\u001B[0;31m\\        /    Bfloat16 = TRUE. Xformers = 0.0.26.post1. FA = True.\u001B[0m\n\u001B[0;31m \"-____-\"     Free Apache license: http://github.com/unslothai/unsloth\u001B[0m\n\u001B[0;31mCPU times: user 15.5 s, sys: 3.93 s, total: 19.4 s\u001B[0m\n\u001B[0;31mWall time: 15.9 s\u001B[0m\n\u001B[0;31mCPU times: user 43.9 s, sys: 158 ms, total: 44 s\u001B[0m\n\u001B[0;31mWall time: 5.05 s\u001B[0m\n\u001B[0;31mloading train/test data files\u001B[0m\n\u001B[0;31mDatasetDict({\u001B[0m\n\u001B[0;31m    train: Dataset({\u001B[0m\n\u001B[0;31m        features: ['chinese', 'english', 'text', 'prompt'],\u001B[0m\n\u001B[0;31m        num_rows: 4528\u001B[0m\n\u001B[0;31m    })\u001B[0m\n\u001B[0;31m    test: Dataset({\u001B[0m\n\u001B[0;31m        features: ['chinese', 'english', 'text', 'prompt'],\u001B[0m\n\u001B[0;31m        num_rows: 1133\u001B[0m\n\u001B[0;31m    })\u001B[0m\n\u001B[0;31m})\u001B[0m\n\u001B[0;31m<|im_start|>system\u001B[0m\n\u001B[0;31mYou are an expert in translating Chinese to English.<|im_end|>\u001B[0m\n\u001B[0;31m<|im_start|>user\u001B[0m\n\u001B[0;31mPlease translate the following Chinese text into English and provide only the translated content, nothing else.\u001B[0m\n\u001B[0;31m然后他们到一间为游客开的通宵酒吧中去坐了两个多小时，沙瑞山一杯接着一杯地灌啤酒，变得更加健谈，而汪淼却早已心神不定，脑子里不断地浮现出那条绿色直线。<|im_end|>\u001B[0m\n\u001B[0;31m<|im_start|>assistant\u001B[0m\n\u001B[0;31m\u001B[0m\n\u001B[0;31m----------------------------------------\u001B[0m\n\u001B[0;31m<|im_start|>system\u001B[0m\n\u001B[0;31mYou are an expert in translating Chinese to English.<|im_end|>\u001B[0m\n\u001B[0;31m<|im_start|>user\u001B[0m\n\u001B[0;31mPlease translate the following Chinese text into English and provide only the translated content, nothing else.\u001B[0m\n\u001B[0;31m然后他们到一间为游客开的通宵酒吧中去坐了两个多小时，沙瑞山一杯接着一杯地灌啤酒，变得更加健谈，而汪淼却早已心神不定，脑子里不断地浮现出那条绿色直线。<|im_end|>\u001B[0m\n\u001B[0;31m<|im_start|>assistant\u001B[0m\n\u001B[0;31mThen they spent more than two hours at a 24-hour bar for tourists, where Sharisun drank beer one after another and became increasingly talkative. Meanwhile, Wang Miao was already restless, his mind constantly replaying that green line.<|im_end|>\u001B[0m\n\u001B[0;31mCPU times: user 2.63 s, sys: 188 ms, total: 2.82 s\u001B[0m\n\u001B[0;31mWall time: 3.49 s\u001B[0m\n\u001B[0;31mCPU times: user 33min 3s, sys: 3.89 s, total: 33min 6s\u001B[0m\n\u001B[0;31mWall time: 33min 4s\u001B[0m\n\u001B[0;31m   index  ...                          unsloth/Qwen2-7B-Instruct\u001B[0m\n\u001B[0;31m0      0  ...  Old Geng raised his gun, squinting one of his ...\u001B[0m\n\u001B[0;31m\u001B[0m\n\u001B[0;31m[1 rows x 7 columns]\u001B[0m\n\u001B[0;31mGPU = NVIDIA A100 80GB PCIe. Max memory = 79.151 GB.\u001B[0m\n\u001B[0;31m15.078 GB of memory reserved.\u001B[0m\n\u001B[0;31m[2024-06-18 09:22:01,273] [INFO] [real_accelerator.py:191:get_accelerator] Setting ds_accelerator to cuda (auto detect)\u001B[0m",
       "errorSummary": "<span class='ansi-red-fg'>Fatal error</span>: The Python kernel is unresponsive.",
       "errorTraceType": "ansi",
       "metadata": {},
       "type": "ipynbError"
      }
     },
     "output_type": "display_data"
    }
   ],
   "source": [
    "%%time\n",
    "\n",
    "trainer_stats = trainer.train()"
   ]
  },
  {
   "cell_type": "code",
   "execution_count": 0,
   "metadata": {
    "application/vnd.databricks.v1+cell": {
     "cellMetadata": {
      "byteLimit": 2048000,
      "rowLimit": 10000
     },
     "inputWidgets": {},
     "nuid": "bee9ac81-f793-4141-b661-6c8a233984e5",
     "showTitle": false,
     "title": ""
    },
    "cellView": "form",
    "colab": {
     "base_uri": "https://localhost:8080/"
    },
    "id": "pCqnaKmlO1U9",
    "outputId": "98f78253-86cf-4673-ff2b-923460c2b3fd"
   },
   "outputs": [
    {
     "output_type": "display_data",
     "data": {
      "text/plain": [
       ""
      ]
     },
     "metadata": {
      "application/vnd.databricks.v1+output": {
       "arguments": {},
       "data": "",
       "errorSummary": "Command skipped",
       "errorTraceType": "ansi",
       "metadata": {},
       "type": "ipynbError"
      }
     },
     "output_type": "display_data"
    }
   ],
   "source": [
    "%python\n",
    "# @title Show final memory and time stats\n",
    "used_memory = round(torch.cuda.max_memory_reserved() / 1024 / 1024 / 1024, 3)\n",
    "used_memory_for_lora = round(used_memory - start_gpu_memory, 3)\n",
    "used_percentage = round(used_memory / max_memory * 100, 3)\n",
    "lora_percentage = round(used_memory_for_lora / max_memory * 100, 3)\n",
    "print(f\"{trainer_stats.metrics['train_runtime']} seconds used for training.\")\n",
    "print(\n",
    "    f\"{round(trainer_stats.metrics['train_runtime']/60, 2)} minutes used for training.\"\n",
    ")\n",
    "print(f\"Peak reserved memory = {used_memory} GB.\")\n",
    "print(f\"Peak reserved memory for training = {used_memory_for_lora} GB.\")\n",
    "print(f\"Peak reserved memory % of max memory = {used_percentage} %.\")\n",
    "print(f\"Peak reserved memory for training % of max memory = {lora_percentage} %.\")"
   ]
  },
  {
   "cell_type": "markdown",
   "metadata": {
    "application/vnd.databricks.v1+cell": {
     "cellMetadata": {
      "byteLimit": 2048000,
      "rowLimit": 10000
     },
     "inputWidgets": {},
     "nuid": "46987d11-d9f9-47fb-b037-02b5a8e0dd21",
     "showTitle": false,
     "title": ""
    }
   },
   "source": [
    "<a name=\"Inference\"></a>\n",
    "### Inference\n",
    "Let's run the model! You can change the instruction and input - leave the output blank!"
   ]
  },
  {
   "cell_type": "code",
   "execution_count": 0,
   "metadata": {
    "application/vnd.databricks.v1+cell": {
     "cellMetadata": {
      "byteLimit": 2048000,
      "rowLimit": 10000
     },
     "inputWidgets": {},
     "nuid": "913c7e4b-30fe-4777-b6fe-d7f70c4a1af9",
     "showTitle": false,
     "title": ""
    }
   },
   "outputs": [
    {
     "output_type": "display_data",
     "data": {
      "text/plain": [
       ""
      ]
     },
     "metadata": {
      "application/vnd.databricks.v1+output": {
       "arguments": {},
       "data": "",
       "errorSummary": "Command skipped",
       "errorTraceType": "ansi",
       "metadata": {},
       "type": "ipynbError"
      }
     },
     "output_type": "display_data"
    }
   ],
   "source": [
    "%python\n",
    "%%time\n",
    "\n",
    "prompt1 = datasets[\"test\"][\"prompt\"][0]\n",
    "print(prompt1)\n",
    "print(\"--\" * 20)\n",
    "test_model(model, tokenizer, prompt1)"
   ]
  },
  {
   "cell_type": "code",
   "execution_count": 0,
   "metadata": {
    "application/vnd.databricks.v1+cell": {
     "cellMetadata": {
      "byteLimit": 2048000,
      "rowLimit": 10000
     },
     "inputWidgets": {},
     "nuid": "c9282748-e564-4687-977c-db442fb04940",
     "showTitle": false,
     "title": ""
    }
   },
   "outputs": [
    {
     "output_type": "display_data",
     "data": {
      "text/plain": [
       ""
      ]
     },
     "metadata": {
      "application/vnd.databricks.v1+output": {
       "arguments": {},
       "data": "",
       "errorSummary": "Command skipped",
       "errorTraceType": "ansi",
       "metadata": {},
       "type": "ipynbError"
      }
     },
     "output_type": "display_data"
    }
   ],
   "source": [
    "%python\n",
    "print(datasets[\"test\"][\"english\"][0])"
   ]
  },
  {
   "cell_type": "code",
   "execution_count": 0,
   "metadata": {
    "application/vnd.databricks.v1+cell": {
     "cellMetadata": {
      "byteLimit": 2048000,
      "rowLimit": 10000
     },
     "inputWidgets": {},
     "nuid": "f6c31c4b-268c-4a97-bd3b-8e9ca4149226",
     "showTitle": false,
     "title": ""
    }
   },
   "outputs": [
    {
     "output_type": "display_data",
     "data": {
      "text/plain": [
       ""
      ]
     },
     "metadata": {
      "application/vnd.databricks.v1+output": {
       "arguments": {},
       "data": "",
       "errorSummary": "Command skipped",
       "errorTraceType": "ansi",
       "metadata": {},
       "type": "ipynbError"
      }
     },
     "output_type": "display_data"
    }
   ],
   "source": [
    "%python\n",
    "%%time\n",
    "\n",
    "predictions = eval_model(model, tokenizer, datasets[\"test\"])"
   ]
  },
  {
   "cell_type": "code",
   "execution_count": 0,
   "metadata": {
    "application/vnd.databricks.v1+cell": {
     "cellMetadata": {
      "byteLimit": 2048000,
      "rowLimit": 10000
     },
     "inputWidgets": {},
     "nuid": "f460bcfd-fae0-4ad7-865b-32055dde1b92",
     "showTitle": false,
     "title": ""
    }
   },
   "outputs": [
    {
     "output_type": "display_data",
     "data": {
      "text/plain": [
       ""
      ]
     },
     "metadata": {
      "application/vnd.databricks.v1+output": {
       "arguments": {},
       "data": "",
       "errorSummary": "Command skipped",
       "errorTraceType": "ansi",
       "metadata": {},
       "type": "ipynbError"
      }
     },
     "output_type": "display_data"
    }
   ],
   "source": [
    "%python\n",
    "calc_metrics(datasets[\"test\"][\"english\"], predictions, debug=True)"
   ]
  },
  {
   "cell_type": "code",
   "execution_count": 0,
   "metadata": {
    "application/vnd.databricks.v1+cell": {
     "cellMetadata": {
      "byteLimit": 2048000,
      "rowLimit": 10000
     },
     "inputWidgets": {},
     "nuid": "5adbb289-b54d-4fcd-98d4-815c1d21f0be",
     "showTitle": false,
     "title": ""
    }
   },
   "outputs": [
    {
     "output_type": "display_data",
     "data": {
      "text/plain": [
       ""
      ]
     },
     "metadata": {
      "application/vnd.databricks.v1+output": {
       "arguments": {},
       "data": "",
       "errorSummary": "Command skipped",
       "errorTraceType": "ansi",
       "metadata": {},
       "type": "ipynbError"
      }
     },
     "output_type": "display_data"
    }
   ],
   "source": [
    "%python\n",
    "from translation_engine import save_results\n",
    "\n",
    "save_results(model_name + \"(finetuned)\", \"results/mac-results.csv\", datasets[\"test\"], predictions, debug=True)"
   ]
  },
  {
   "cell_type": "markdown",
   "metadata": {
    "application/vnd.databricks.v1+cell": {
     "cellMetadata": {
      "byteLimit": 2048000,
      "rowLimit": 10000
     },
     "inputWidgets": {},
     "nuid": "8c52cf89-5a34-4725-b83f-6dd43ef3d2cc",
     "showTitle": false,
     "title": ""
    },
    "id": "uMuVrWbjAzhc"
   },
   "source": [
    "<a name=\"Save\"></a>\n",
    "### Saving, uploading finetuned models\n",
    "To save the final model as LoRA adapters, either use Huggingface's `push_to_hub` for an online save or `save_pretrained` for a local save."
   ]
  },
  {
   "cell_type": "code",
   "execution_count": 0,
   "metadata": {
    "application/vnd.databricks.v1+cell": {
     "cellMetadata": {
      "byteLimit": 2048000,
      "rowLimit": 10000
     },
     "inputWidgets": {},
     "nuid": "34641c58-22b4-4afe-a1a1-ff0293c939a6",
     "showTitle": false,
     "title": ""
    }
   },
   "outputs": [
    {
     "output_type": "display_data",
     "data": {
      "text/plain": [
       ""
      ]
     },
     "metadata": {
      "application/vnd.databricks.v1+output": {
       "arguments": {},
       "data": "",
       "errorSummary": "Command skipped",
       "errorTraceType": "ansi",
       "metadata": {},
       "type": "ipynbError"
      }
     },
     "output_type": "display_data"
    }
   ],
   "source": [
    "%python\n",
    "def save_model(model, tokenizer, save_method, publish=True):\n",
    "    model.save_pretrained_merged(\n",
    "        local_model + save_method,\n",
    "        tokenizer,\n",
    "        save_method=save_method,\n",
    "    )\n",
    "\n",
    "    if publish:\n",
    "        model.push_to_hub_merged(\n",
    "            hub_model + save_method,\n",
    "            tokenizer,\n",
    "            save_method=save_method,\n",
    "            token=token,\n",
    "        )"
   ]
  },
  {
   "cell_type": "code",
   "execution_count": 0,
   "metadata": {
    "application/vnd.databricks.v1+cell": {
     "cellMetadata": {
      "byteLimit": 2048000,
      "rowLimit": 10000
     },
     "inputWidgets": {},
     "nuid": "c178208e-678c-417a-a587-8c12598c2489",
     "showTitle": false,
     "title": ""
    }
   },
   "outputs": [
    {
     "output_type": "display_data",
     "data": {
      "text/plain": [
       ""
      ]
     },
     "metadata": {
      "application/vnd.databricks.v1+output": {
       "arguments": {},
       "data": "",
       "errorSummary": "Command skipped",
       "errorTraceType": "ansi",
       "metadata": {},
       "type": "ipynbError"
      }
     },
     "output_type": "display_data"
    }
   ],
   "source": [
    "%python\n",
    "save_model(model, tokenizer, \"merged_4bit_forced\")"
   ]
  },
  {
   "cell_type": "code",
   "execution_count": 0,
   "metadata": {
    "application/vnd.databricks.v1+cell": {
     "cellMetadata": {
      "byteLimit": 2048000,
      "rowLimit": 10000
     },
     "inputWidgets": {},
     "nuid": "ee77211f-222f-46a5-b9e3-2fe926c08f2a",
     "showTitle": false,
     "title": ""
    }
   },
   "outputs": [
    {
     "output_type": "display_data",
     "data": {
      "text/plain": [
       ""
      ]
     },
     "metadata": {
      "application/vnd.databricks.v1+output": {
       "arguments": {},
       "data": "",
       "errorSummary": "Command skipped",
       "errorTraceType": "ansi",
       "metadata": {},
       "type": "ipynbError"
      }
     },
     "output_type": "display_data"
    }
   ],
   "source": [
    "def save_model_gguf(model, tokenizer, quantization_method, publish=True):\n",
    "    model.save_pretrained_gguf(\n",
    "        local_model + quantization_method,\n",
    "        tokenizer,\n",
    "        quantization_method=quantization_method,\n",
    "    )\n",
    "\n",
    "    if publish:\n",
    "        model.push_to_hub_gguf(\n",
    "            hub_model + \"gguf-\" + quantization_method,\n",
    "            tokenizer,\n",
    "            quantization_method=quantization_method,\n",
    "            token=token,\n",
    "        )"
   ]
  },
  {
   "cell_type": "code",
   "execution_count": 0,
   "metadata": {
    "application/vnd.databricks.v1+cell": {
     "cellMetadata": {
      "byteLimit": 2048000,
      "rowLimit": 10000
     },
     "inputWidgets": {},
     "nuid": "f4e4637a-3968-4b38-a3c9-5648692d3633",
     "showTitle": false,
     "title": ""
    }
   },
   "outputs": [
    {
     "output_type": "display_data",
     "data": {
      "text/plain": [
       ""
      ]
     },
     "metadata": {
      "application/vnd.databricks.v1+output": {
       "arguments": {},
       "data": "",
       "errorSummary": "Command skipped",
       "errorTraceType": "ansi",
       "metadata": {},
       "type": "ipynbError"
      }
     },
     "output_type": "display_data"
    }
   ],
   "source": [
    "save_model_gguf(model, tokenizer, quantization_method=\"q4_k_m\")"
   ]
  },
  {
   "cell_type": "code",
   "execution_count": 0,
   "metadata": {
    "application/vnd.databricks.v1+cell": {
     "cellMetadata": {
      "byteLimit": 2048000,
      "rowLimit": 10000
     },
     "inputWidgets": {},
     "nuid": "6efc61d0-6e6b-4ff7-be13-b74740d19d4b",
     "showTitle": false,
     "title": ""
    }
   },
   "outputs": [
    {
     "output_type": "display_data",
     "data": {
      "text/plain": [
       ""
      ]
     },
     "metadata": {
      "application/vnd.databricks.v1+output": {
       "arguments": {},
       "data": "",
       "errorSummary": "Command skipped",
       "errorTraceType": "ansi",
       "metadata": {},
       "type": "ipynbError"
      }
     },
     "output_type": "display_data"
    }
   ],
   "source": [
    "%python\n",
    "%%time\n",
    "\n",
    "# Empty VRAM\n",
    "del model\n",
    "del trainer\n",
    "\n",
    "# clear memory\n",
    "import torch\n",
    "torch.cuda.empty_cache()\n",
    "\n",
    "# garbage collect\n",
    "import gc\n",
    "gc.collect()\n",
    "gc.collect()"
   ]
  },
  {
   "cell_type": "markdown",
   "metadata": {
    "application/vnd.databricks.v1+cell": {
     "cellMetadata": {
      "byteLimit": 2048000,
      "rowLimit": 10000
     },
     "inputWidgets": {},
     "nuid": "98241435-5abb-4524-9516-e790c39f8659",
     "showTitle": false,
     "title": ""
    },
    "id": "Zt9CHJqO6p30"
   },
   "source": [
    "And we're done! If you have any questions on Unsloth, we have a [Discord](https://discord.gg/u54VK8m8tk) channel! If you find any bugs or want to keep updated with the latest LLM stuff, or need help, join projects etc, feel free to join our Discord!\n",
    "\n",
    "Some other links:\n",
    "1. Zephyr DPO 2x faster [free Colab](https://colab.research.google.com/drive/15vttTpzzVXv_tJwEk-hIcQ0S9FcEWvwP?usp=sharing)\n",
    "2. Llama 7b 2x faster [free Colab](https://colab.research.google.com/drive/1lBzz5KeZJKXjvivbYvmGarix9Ao6Wxe5?usp=sharing)\n",
    "3. TinyLlama 4x faster full Alpaca 52K in 1 hour [free Colab](https://colab.research.google.com/drive/1AZghoNBQaMDgWJpi4RbffGM1h6raLUj9?usp=sharing)\n",
    "4. CodeLlama 34b 2x faster [A100 on Colab](https://colab.research.google.com/drive/1y7A0AxE3y8gdj4AVkl2aZX47Xu3P1wJT?usp=sharing)\n",
    "5. Mistral 7b [free Kaggle version](https://www.kaggle.com/code/danielhanchen/kaggle-mistral-7b-unsloth-notebook)\n",
    "6. We also did a [blog](https://huggingface.co/blog/unsloth-trl) with 🤗 HuggingFace, and we're in the TRL [docs](https://huggingface.co/docs/trl/main/en/sft_trainer#accelerate-fine-tuning-2x-using-unsloth)!\n",
    "7. `ChatML` for ShareGPT datasets, [conversational notebook](https://colab.research.google.com/drive/1Aau3lgPzeZKQ-98h69CCu1UJcvIBLmy2?usp=sharing)\n",
    "8. Text completions like novel writing [notebook](https://colab.research.google.com/drive/1ef-tab5bhkvWmBOObepl1WgJvfvSzn5Q?usp=sharing)\n",
    "9. [**NEW**] We make Phi-3 Medium / Mini **2x faster**! See our [Phi-3 Medium notebook](https://colab.research.google.com/drive/1hhdhBa1j_hsymiW9m-WzxQtgqTH_NHqi?usp=sharing)\n",
    "\n",
    "<div class=\"align-center\">\n",
    "  <a href=\"https://github.com/unslothai/unsloth\"><img src=\"https://github.com/unslothai/unsloth/raw/main/images/unsloth%20new%20logo.png\" width=\"115\"></a>\n",
    "  <a href=\"https://discord.gg/u54VK8m8tk\"><img src=\"https://github.com/unslothai/unsloth/raw/main/images/Discord.png\" width=\"145\"></a>\n",
    "  <a href=\"https://ko-fi.com/unsloth\"><img src=\"https://github.com/unslothai/unsloth/raw/main/images/Kofi button.png\" width=\"145\"></a></a> Support our work if you can! Thanks!\n",
    "</div>"
   ]
  }
 ],
 "metadata": {
  "accelerator": "GPU",
  "application/vnd.databricks.v1+notebook": {
   "dashboards": [],
   "environmentMetadata": null,
   "language": "python",
   "notebookMetadata": {
    "mostRecentlyExecutedCommandWithImplicitDF": {
     "commandId": -1,
     "dataframes": [
      "_sqldf"
     ]
    },
    "pythonIndentUnit": 4
   },
   "notebookName": "08_MAC_+_Qwen2-7B-Instructin_Unsloth_train",
   "widgets": {}
  },
  "colab": {
   "gpuType": "T4",
   "provenance": []
  },
  "kernelspec": {
   "display_name": "Python 3",
   "name": "python3"
  },
  "language_info": {
   "codemirror_mode": {
    "name": "ipython",
    "version": 3
   },
   "file_extension": ".py",
   "mimetype": "text/x-python",
   "name": "python",
   "nbconvert_exporter": "python",
   "pygments_lexer": "ipython3",
   "version": "3.11.9"
  },
  "widgets": {
   "application/vnd.jupyter.widget-state+json": {
    "036fc5746f43416db18c19ad8fd36677": {
     "model_module": "@jupyter-widgets/controls",
     "model_module_version": "1.5.0",
     "model_name": "ProgressStyleModel",
     "state": {
      "_model_module": "@jupyter-widgets/controls",
      "_model_module_version": "1.5.0",
      "_model_name": "ProgressStyleModel",
      "_view_count": null,
      "_view_module": "@jupyter-widgets/base",
      "_view_module_version": "1.2.0",
      "_view_name": "StyleView",
      "bar_color": null,
      "description_width": ""
     }
    },
    "06e806c82c7b4cbea31c5358dd9c3434": {
     "model_module": "@jupyter-widgets/controls",
     "model_module_version": "1.5.0",
     "model_name": "DescriptionStyleModel",
     "state": {
      "_model_module": "@jupyter-widgets/controls",
      "_model_module_version": "1.5.0",
      "_model_name": "DescriptionStyleModel",
      "_view_count": null,
      "_view_module": "@jupyter-widgets/base",
      "_view_module_version": "1.2.0",
      "_view_name": "StyleView",
      "description_width": ""
     }
    },
    "087b76a8b7514269b1f0ab29b062e444": {
     "model_module": "@jupyter-widgets/controls",
     "model_module_version": "1.5.0",
     "model_name": "HTMLModel",
     "state": {
      "_dom_classes": [],
      "_model_module": "@jupyter-widgets/controls",
      "_model_module_version": "1.5.0",
      "_model_name": "HTMLModel",
      "_view_count": null,
      "_view_module": "@jupyter-widgets/controls",
      "_view_module_version": "1.5.0",
      "_view_name": "HTMLView",
      "description": "",
      "description_tooltip": null,
      "layout": "IPY_MODEL_a069d2ab23824f29aa320ac256e2cfe9",
      "placeholder": "​",
      "style": "IPY_MODEL_06e806c82c7b4cbea31c5358dd9c3434",
      "value": "Map (num_proc=2): 100%"
     }
    },
    "09b76013aa9e45efb6deb23a7a0d0925": {
     "model_module": "@jupyter-widgets/controls",
     "model_module_version": "1.5.0",
     "model_name": "HTMLModel",
     "state": {
      "_dom_classes": [],
      "_model_module": "@jupyter-widgets/controls",
      "_model_module_version": "1.5.0",
      "_model_name": "HTMLModel",
      "_view_count": null,
      "_view_module": "@jupyter-widgets/controls",
      "_view_module_version": "1.5.0",
      "_view_name": "HTMLView",
      "description": "",
      "description_tooltip": null,
      "layout": "IPY_MODEL_dea41c5260884aa6879b5e1d1697b14f",
      "placeholder": "​",
      "style": "IPY_MODEL_89965917796a4f81b899fdc7685f33df",
      "value": "config.json: 100%"
     }
    },
    "0a92c56bfa134ef583220d7ef0b13e17": {
     "model_module": "@jupyter-widgets/controls",
     "model_module_version": "1.5.0",
     "model_name": "DescriptionStyleModel",
     "state": {
      "_model_module": "@jupyter-widgets/controls",
      "_model_module_version": "1.5.0",
      "_model_name": "DescriptionStyleModel",
      "_view_count": null,
      "_view_module": "@jupyter-widgets/base",
      "_view_module_version": "1.2.0",
      "_view_name": "StyleView",
      "description_width": ""
     }
    },
    "0c34be936c8145d3ab41282f30a70713": {
     "model_module": "@jupyter-widgets/base",
     "model_module_version": "1.2.0",
     "model_name": "LayoutModel",
     "state": {
      "_model_module": "@jupyter-widgets/base",
      "_model_module_version": "1.2.0",
      "_model_name": "LayoutModel",
      "_view_count": null,
      "_view_module": "@jupyter-widgets/base",
      "_view_module_version": "1.2.0",
      "_view_name": "LayoutView",
      "align_content": null,
      "align_items": null,
      "align_self": null,
      "border": null,
      "bottom": null,
      "display": null,
      "flex": null,
      "flex_flow": null,
      "grid_area": null,
      "grid_auto_columns": null,
      "grid_auto_flow": null,
      "grid_auto_rows": null,
      "grid_column": null,
      "grid_gap": null,
      "grid_row": null,
      "grid_template_areas": null,
      "grid_template_columns": null,
      "grid_template_rows": null,
      "height": null,
      "justify_content": null,
      "justify_items": null,
      "left": null,
      "margin": null,
      "max_height": null,
      "max_width": null,
      "min_height": null,
      "min_width": null,
      "object_fit": null,
      "object_position": null,
      "order": null,
      "overflow": null,
      "overflow_x": null,
      "overflow_y": null,
      "padding": null,
      "right": null,
      "top": null,
      "visibility": null,
      "width": null
     }
    },
    "0f8b6bfe16894500838793f2491d403f": {
     "model_module": "@jupyter-widgets/base",
     "model_module_version": "1.2.0",
     "model_name": "LayoutModel",
     "state": {
      "_model_module": "@jupyter-widgets/base",
      "_model_module_version": "1.2.0",
      "_model_name": "LayoutModel",
      "_view_count": null,
      "_view_module": "@jupyter-widgets/base",
      "_view_module_version": "1.2.0",
      "_view_name": "LayoutView",
      "align_content": null,
      "align_items": null,
      "align_self": null,
      "border": null,
      "bottom": null,
      "display": null,
      "flex": null,
      "flex_flow": null,
      "grid_area": null,
      "grid_auto_columns": null,
      "grid_auto_flow": null,
      "grid_auto_rows": null,
      "grid_column": null,
      "grid_gap": null,
      "grid_row": null,
      "grid_template_areas": null,
      "grid_template_columns": null,
      "grid_template_rows": null,
      "height": null,
      "justify_content": null,
      "justify_items": null,
      "left": null,
      "margin": null,
      "max_height": null,
      "max_width": null,
      "min_height": null,
      "min_width": null,
      "object_fit": null,
      "object_position": null,
      "order": null,
      "overflow": null,
      "overflow_x": null,
      "overflow_y": null,
      "padding": null,
      "right": null,
      "top": null,
      "visibility": null,
      "width": null
     }
    },
    "177c78fce95d4b4ab33057c5a048d693": {
     "model_module": "@jupyter-widgets/controls",
     "model_module_version": "1.5.0",
     "model_name": "DescriptionStyleModel",
     "state": {
      "_model_module": "@jupyter-widgets/controls",
      "_model_module_version": "1.5.0",
      "_model_name": "DescriptionStyleModel",
      "_view_count": null,
      "_view_module": "@jupyter-widgets/base",
      "_view_module_version": "1.2.0",
      "_view_name": "StyleView",
      "description_width": ""
     }
    },
    "1f44c9ce1adf470cbb19784493ed209f": {
     "model_module": "@jupyter-widgets/controls",
     "model_module_version": "1.5.0",
     "model_name": "HTMLModel",
     "state": {
      "_dom_classes": [],
      "_model_module": "@jupyter-widgets/controls",
      "_model_module_version": "1.5.0",
      "_model_name": "HTMLModel",
      "_view_count": null,
      "_view_module": "@jupyter-widgets/controls",
      "_view_module_version": "1.5.0",
      "_view_name": "HTMLView",
      "description": "",
      "description_tooltip": null,
      "layout": "IPY_MODEL_0c34be936c8145d3ab41282f30a70713",
      "placeholder": "​",
      "style": "IPY_MODEL_0a92c56bfa134ef583220d7ef0b13e17",
      "value": "model.safetensors: 100%"
     }
    },
    "201b59ccd9f845e197029b57e424aefc": {
     "model_module": "@jupyter-widgets/controls",
     "model_module_version": "1.5.0",
     "model_name": "DescriptionStyleModel",
     "state": {
      "_model_module": "@jupyter-widgets/controls",
      "_model_module_version": "1.5.0",
      "_model_name": "DescriptionStyleModel",
      "_view_count": null,
      "_view_module": "@jupyter-widgets/base",
      "_view_module_version": "1.2.0",
      "_view_name": "StyleView",
      "description_width": ""
     }
    },
    "2157f01726d748f8a9ae4a00664430da": {
     "model_module": "@jupyter-widgets/controls",
     "model_module_version": "1.5.0",
     "model_name": "DescriptionStyleModel",
     "state": {
      "_model_module": "@jupyter-widgets/controls",
      "_model_module_version": "1.5.0",
      "_model_name": "DescriptionStyleModel",
      "_view_count": null,
      "_view_module": "@jupyter-widgets/base",
      "_view_module_version": "1.2.0",
      "_view_name": "StyleView",
      "description_width": ""
     }
    },
    "21db8a77b00d4a4e82fdfa608657531f": {
     "model_module": "@jupyter-widgets/base",
     "model_module_version": "1.2.0",
     "model_name": "LayoutModel",
     "state": {
      "_model_module": "@jupyter-widgets/base",
      "_model_module_version": "1.2.0",
      "_model_name": "LayoutModel",
      "_view_count": null,
      "_view_module": "@jupyter-widgets/base",
      "_view_module_version": "1.2.0",
      "_view_name": "LayoutView",
      "align_content": null,
      "align_items": null,
      "align_self": null,
      "border": null,
      "bottom": null,
      "display": null,
      "flex": null,
      "flex_flow": null,
      "grid_area": null,
      "grid_auto_columns": null,
      "grid_auto_flow": null,
      "grid_auto_rows": null,
      "grid_column": null,
      "grid_gap": null,
      "grid_row": null,
      "grid_template_areas": null,
      "grid_template_columns": null,
      "grid_template_rows": null,
      "height": null,
      "justify_content": null,
      "justify_items": null,
      "left": null,
      "margin": null,
      "max_height": null,
      "max_width": null,
      "min_height": null,
      "min_width": null,
      "object_fit": null,
      "object_position": null,
      "order": null,
      "overflow": null,
      "overflow_x": null,
      "overflow_y": null,
      "padding": null,
      "right": null,
      "top": null,
      "visibility": null,
      "width": null
     }
    },
    "26e4202cca81496a90d15a0dd4ca9cf1": {
     "model_module": "@jupyter-widgets/controls",
     "model_module_version": "1.5.0",
     "model_name": "HBoxModel",
     "state": {
      "_dom_classes": [],
      "_model_module": "@jupyter-widgets/controls",
      "_model_module_version": "1.5.0",
      "_model_name": "HBoxModel",
      "_view_count": null,
      "_view_module": "@jupyter-widgets/controls",
      "_view_module_version": "1.5.0",
      "_view_name": "HBoxView",
      "box_style": "",
      "children": [
       "IPY_MODEL_ba90fdb8822d47dab7ba203bee297f37",
       "IPY_MODEL_61560ff6a36b44f4a9dfdae5c52791d4",
       "IPY_MODEL_95fbe66647904c06a20f640630d6dc0e"
      ],
      "layout": "IPY_MODEL_57182a263d324a3dbf1471c74290a0d5"
     }
    },
    "27155728b6b84cb199c91c940095d0a8": {
     "model_module": "@jupyter-widgets/controls",
     "model_module_version": "1.5.0",
     "model_name": "HBoxModel",
     "state": {
      "_dom_classes": [],
      "_model_module": "@jupyter-widgets/controls",
      "_model_module_version": "1.5.0",
      "_model_name": "HBoxModel",
      "_view_count": null,
      "_view_module": "@jupyter-widgets/controls",
      "_view_module_version": "1.5.0",
      "_view_name": "HBoxView",
      "box_style": "",
      "children": [
       "IPY_MODEL_6b91feeed5464877991ac2c207aebe7c",
       "IPY_MODEL_cca8113c54c0495daedce1327bf9c68b",
       "IPY_MODEL_2e63a29e2f7247bba5beede9a568c99f"
      ],
      "layout": "IPY_MODEL_5c9d781c28944f3eb86e2a6d44efdf18"
     }
    },
    "271ddaa553a042d09b6db7b450643d8f": {
     "model_module": "@jupyter-widgets/controls",
     "model_module_version": "1.5.0",
     "model_name": "ProgressStyleModel",
     "state": {
      "_model_module": "@jupyter-widgets/controls",
      "_model_module_version": "1.5.0",
      "_model_name": "ProgressStyleModel",
      "_view_count": null,
      "_view_module": "@jupyter-widgets/base",
      "_view_module_version": "1.2.0",
      "_view_name": "StyleView",
      "bar_color": null,
      "description_width": ""
     }
    },
    "2a58d04b428c46f4b3dbadd3bc6cd529": {
     "model_module": "@jupyter-widgets/base",
     "model_module_version": "1.2.0",
     "model_name": "LayoutModel",
     "state": {
      "_model_module": "@jupyter-widgets/base",
      "_model_module_version": "1.2.0",
      "_model_name": "LayoutModel",
      "_view_count": null,
      "_view_module": "@jupyter-widgets/base",
      "_view_module_version": "1.2.0",
      "_view_name": "LayoutView",
      "align_content": null,
      "align_items": null,
      "align_self": null,
      "border": null,
      "bottom": null,
      "display": null,
      "flex": null,
      "flex_flow": null,
      "grid_area": null,
      "grid_auto_columns": null,
      "grid_auto_flow": null,
      "grid_auto_rows": null,
      "grid_column": null,
      "grid_gap": null,
      "grid_row": null,
      "grid_template_areas": null,
      "grid_template_columns": null,
      "grid_template_rows": null,
      "height": null,
      "justify_content": null,
      "justify_items": null,
      "left": null,
      "margin": null,
      "max_height": null,
      "max_width": null,
      "min_height": null,
      "min_width": null,
      "object_fit": null,
      "object_position": null,
      "order": null,
      "overflow": null,
      "overflow_x": null,
      "overflow_y": null,
      "padding": null,
      "right": null,
      "top": null,
      "visibility": null,
      "width": null
     }
    },
    "2d18ddf6482c4d97829ac0e5a7b9868f": {
     "model_module": "@jupyter-widgets/controls",
     "model_module_version": "1.5.0",
     "model_name": "HBoxModel",
     "state": {
      "_dom_classes": [],
      "_model_module": "@jupyter-widgets/controls",
      "_model_module_version": "1.5.0",
      "_model_name": "HBoxModel",
      "_view_count": null,
      "_view_module": "@jupyter-widgets/controls",
      "_view_module_version": "1.5.0",
      "_view_name": "HBoxView",
      "box_style": "",
      "children": [
       "IPY_MODEL_9f679ad3ec7f4fe8ad0510ffb57bc2ab",
       "IPY_MODEL_f2df530d22c74977b249dd9fb5f4829b",
       "IPY_MODEL_89b2ef0dbfea47ab8e6f8d659e3351d1"
      ],
      "layout": "IPY_MODEL_3056b148aa9f4e6e8aa3b61d26886255"
     }
    },
    "2e5087c76f98437cb5dc729230358cba": {
     "model_module": "@jupyter-widgets/base",
     "model_module_version": "1.2.0",
     "model_name": "LayoutModel",
     "state": {
      "_model_module": "@jupyter-widgets/base",
      "_model_module_version": "1.2.0",
      "_model_name": "LayoutModel",
      "_view_count": null,
      "_view_module": "@jupyter-widgets/base",
      "_view_module_version": "1.2.0",
      "_view_name": "LayoutView",
      "align_content": null,
      "align_items": null,
      "align_self": null,
      "border": null,
      "bottom": null,
      "display": null,
      "flex": null,
      "flex_flow": null,
      "grid_area": null,
      "grid_auto_columns": null,
      "grid_auto_flow": null,
      "grid_auto_rows": null,
      "grid_column": null,
      "grid_gap": null,
      "grid_row": null,
      "grid_template_areas": null,
      "grid_template_columns": null,
      "grid_template_rows": null,
      "height": null,
      "justify_content": null,
      "justify_items": null,
      "left": null,
      "margin": null,
      "max_height": null,
      "max_width": null,
      "min_height": null,
      "min_width": null,
      "object_fit": null,
      "object_position": null,
      "order": null,
      "overflow": null,
      "overflow_x": null,
      "overflow_y": null,
      "padding": null,
      "right": null,
      "top": null,
      "visibility": null,
      "width": null
     }
    },
    "2e63a29e2f7247bba5beede9a568c99f": {
     "model_module": "@jupyter-widgets/controls",
     "model_module_version": "1.5.0",
     "model_name": "HTMLModel",
     "state": {
      "_dom_classes": [],
      "_model_module": "@jupyter-widgets/controls",
      "_model_module_version": "1.5.0",
      "_model_name": "HTMLModel",
      "_view_count": null,
      "_view_module": "@jupyter-widgets/controls",
      "_view_module_version": "1.5.0",
      "_view_name": "HTMLView",
      "description": "",
      "description_tooltip": null,
      "layout": "IPY_MODEL_b993eaec6b224440bf80c0958c6fb536",
      "placeholder": "​",
      "style": "IPY_MODEL_de868e26e7154f62aa86223a539ad421",
      "value": " 464/464 [00:00&lt;00:00, 27.1kB/s]"
     }
    },
    "2f6c70dd266c4816bfad3fd3d192929a": {
     "model_module": "@jupyter-widgets/controls",
     "model_module_version": "1.5.0",
     "model_name": "ProgressStyleModel",
     "state": {
      "_model_module": "@jupyter-widgets/controls",
      "_model_module_version": "1.5.0",
      "_model_name": "ProgressStyleModel",
      "_view_count": null,
      "_view_module": "@jupyter-widgets/base",
      "_view_module_version": "1.2.0",
      "_view_name": "StyleView",
      "bar_color": null,
      "description_width": ""
     }
    },
    "30307300bc4e4baf96560e30969a82b6": {
     "model_module": "@jupyter-widgets/controls",
     "model_module_version": "1.5.0",
     "model_name": "HTMLModel",
     "state": {
      "_dom_classes": [],
      "_model_module": "@jupyter-widgets/controls",
      "_model_module_version": "1.5.0",
      "_model_name": "HTMLModel",
      "_view_count": null,
      "_view_module": "@jupyter-widgets/controls",
      "_view_module_version": "1.5.0",
      "_view_name": "HTMLView",
      "description": "",
      "description_tooltip": null,
      "layout": "IPY_MODEL_e36a3f9eff0e4cf68834d66b0213ae96",
      "placeholder": "​",
      "style": "IPY_MODEL_a0037bdccf254159becde630bee3d1db",
      "value": "generation_config.json: 100%"
     }
    },
    "3056b148aa9f4e6e8aa3b61d26886255": {
     "model_module": "@jupyter-widgets/base",
     "model_module_version": "1.2.0",
     "model_name": "LayoutModel",
     "state": {
      "_model_module": "@jupyter-widgets/base",
      "_model_module_version": "1.2.0",
      "_model_name": "LayoutModel",
      "_view_count": null,
      "_view_module": "@jupyter-widgets/base",
      "_view_module_version": "1.2.0",
      "_view_name": "LayoutView",
      "align_content": null,
      "align_items": null,
      "align_self": null,
      "border": null,
      "bottom": null,
      "display": null,
      "flex": null,
      "flex_flow": null,
      "grid_area": null,
      "grid_auto_columns": null,
      "grid_auto_flow": null,
      "grid_auto_rows": null,
      "grid_column": null,
      "grid_gap": null,
      "grid_row": null,
      "grid_template_areas": null,
      "grid_template_columns": null,
      "grid_template_rows": null,
      "height": null,
      "justify_content": null,
      "justify_items": null,
      "left": null,
      "margin": null,
      "max_height": null,
      "max_width": null,
      "min_height": null,
      "min_width": null,
      "object_fit": null,
      "object_position": null,
      "order": null,
      "overflow": null,
      "overflow_x": null,
      "overflow_y": null,
      "padding": null,
      "right": null,
      "top": null,
      "visibility": null,
      "width": null
     }
    },
    "30cdc32298134cb0be4d41615b9e5774": {
     "model_module": "@jupyter-widgets/base",
     "model_module_version": "1.2.0",
     "model_name": "LayoutModel",
     "state": {
      "_model_module": "@jupyter-widgets/base",
      "_model_module_version": "1.2.0",
      "_model_name": "LayoutModel",
      "_view_count": null,
      "_view_module": "@jupyter-widgets/base",
      "_view_module_version": "1.2.0",
      "_view_name": "LayoutView",
      "align_content": null,
      "align_items": null,
      "align_self": null,
      "border": null,
      "bottom": null,
      "display": null,
      "flex": null,
      "flex_flow": null,
      "grid_area": null,
      "grid_auto_columns": null,
      "grid_auto_flow": null,
      "grid_auto_rows": null,
      "grid_column": null,
      "grid_gap": null,
      "grid_row": null,
      "grid_template_areas": null,
      "grid_template_columns": null,
      "grid_template_rows": null,
      "height": null,
      "justify_content": null,
      "justify_items": null,
      "left": null,
      "margin": null,
      "max_height": null,
      "max_width": null,
      "min_height": null,
      "min_width": null,
      "object_fit": null,
      "object_position": null,
      "order": null,
      "overflow": null,
      "overflow_x": null,
      "overflow_y": null,
      "padding": null,
      "right": null,
      "top": null,
      "visibility": null,
      "width": null
     }
    },
    "3572201bd4d74a58b7a665f9bdfdcdba": {
     "model_module": "@jupyter-widgets/controls",
     "model_module_version": "1.5.0",
     "model_name": "ProgressStyleModel",
     "state": {
      "_model_module": "@jupyter-widgets/controls",
      "_model_module_version": "1.5.0",
      "_model_name": "ProgressStyleModel",
      "_view_count": null,
      "_view_module": "@jupyter-widgets/base",
      "_view_module_version": "1.2.0",
      "_view_name": "StyleView",
      "bar_color": null,
      "description_width": ""
     }
    },
    "35b0e8c26d6640e9bd0ed7b242a423d8": {
     "model_module": "@jupyter-widgets/controls",
     "model_module_version": "1.5.0",
     "model_name": "FloatProgressModel",
     "state": {
      "_dom_classes": [],
      "_model_module": "@jupyter-widgets/controls",
      "_model_module_version": "1.5.0",
      "_model_name": "FloatProgressModel",
      "_view_count": null,
      "_view_module": "@jupyter-widgets/controls",
      "_view_module_version": "1.5.0",
      "_view_name": "ProgressView",
      "bar_style": "success",
      "description": "",
      "description_tooltip": null,
      "layout": "IPY_MODEL_2e5087c76f98437cb5dc729230358cba",
      "max": 51760,
      "min": 0,
      "orientation": "horizontal",
      "style": "IPY_MODEL_036fc5746f43416db18c19ad8fd36677",
      "value": 51760
     }
    },
    "36166c7bcb854b34aca1f41a5d6ea50b": {
     "model_module": "@jupyter-widgets/controls",
     "model_module_version": "1.5.0",
     "model_name": "ProgressStyleModel",
     "state": {
      "_model_module": "@jupyter-widgets/controls",
      "_model_module_version": "1.5.0",
      "_model_name": "ProgressStyleModel",
      "_view_count": null,
      "_view_module": "@jupyter-widgets/base",
      "_view_module_version": "1.2.0",
      "_view_name": "StyleView",
      "bar_color": null,
      "description_width": ""
     }
    },
    "370692d819df41828b48c4ad446f977b": {
     "model_module": "@jupyter-widgets/base",
     "model_module_version": "1.2.0",
     "model_name": "LayoutModel",
     "state": {
      "_model_module": "@jupyter-widgets/base",
      "_model_module_version": "1.2.0",
      "_model_name": "LayoutModel",
      "_view_count": null,
      "_view_module": "@jupyter-widgets/base",
      "_view_module_version": "1.2.0",
      "_view_name": "LayoutView",
      "align_content": null,
      "align_items": null,
      "align_self": null,
      "border": null,
      "bottom": null,
      "display": null,
      "flex": null,
      "flex_flow": null,
      "grid_area": null,
      "grid_auto_columns": null,
      "grid_auto_flow": null,
      "grid_auto_rows": null,
      "grid_column": null,
      "grid_gap": null,
      "grid_row": null,
      "grid_template_areas": null,
      "grid_template_columns": null,
      "grid_template_rows": null,
      "height": null,
      "justify_content": null,
      "justify_items": null,
      "left": null,
      "margin": null,
      "max_height": null,
      "max_width": null,
      "min_height": null,
      "min_width": null,
      "object_fit": null,
      "object_position": null,
      "order": null,
      "overflow": null,
      "overflow_x": null,
      "overflow_y": null,
      "padding": null,
      "right": null,
      "top": null,
      "visibility": null,
      "width": null
     }
    },
    "39b29a75374b45c0a22506010be2b84e": {
     "model_module": "@jupyter-widgets/controls",
     "model_module_version": "1.5.0",
     "model_name": "FloatProgressModel",
     "state": {
      "_dom_classes": [],
      "_model_module": "@jupyter-widgets/controls",
      "_model_module_version": "1.5.0",
      "_model_name": "FloatProgressModel",
      "_view_count": null,
      "_view_module": "@jupyter-widgets/controls",
      "_view_module_version": "1.5.0",
      "_view_name": "ProgressView",
      "bar_style": "success",
      "description": "",
      "description_tooltip": null,
      "layout": "IPY_MODEL_30cdc32298134cb0be4d41615b9e5774",
      "max": 1179,
      "min": 0,
      "orientation": "horizontal",
      "style": "IPY_MODEL_47928317548c454bba6358ab132e8dee",
      "value": 1179
     }
    },
    "3cf2dd993b5e4d3daecf61e4bab5a404": {
     "model_module": "@jupyter-widgets/controls",
     "model_module_version": "1.5.0",
     "model_name": "HBoxModel",
     "state": {
      "_dom_classes": [],
      "_model_module": "@jupyter-widgets/controls",
      "_model_module_version": "1.5.0",
      "_model_name": "HBoxModel",
      "_view_count": null,
      "_view_module": "@jupyter-widgets/controls",
      "_view_module_version": "1.5.0",
      "_view_name": "HBoxView",
      "box_style": "",
      "children": [
       "IPY_MODEL_087b76a8b7514269b1f0ab29b062e444",
       "IPY_MODEL_35b0e8c26d6640e9bd0ed7b242a423d8",
       "IPY_MODEL_54ad89e05fd74576b9b8b5b5a10eaf8d"
      ],
      "layout": "IPY_MODEL_a41dc44766444a998bec2d777f249d23"
     }
    },
    "43dec2ede91341f5af60eb522e18e984": {
     "model_module": "@jupyter-widgets/base",
     "model_module_version": "1.2.0",
     "model_name": "LayoutModel",
     "state": {
      "_model_module": "@jupyter-widgets/base",
      "_model_module_version": "1.2.0",
      "_model_name": "LayoutModel",
      "_view_count": null,
      "_view_module": "@jupyter-widgets/base",
      "_view_module_version": "1.2.0",
      "_view_name": "LayoutView",
      "align_content": null,
      "align_items": null,
      "align_self": null,
      "border": null,
      "bottom": null,
      "display": null,
      "flex": null,
      "flex_flow": null,
      "grid_area": null,
      "grid_auto_columns": null,
      "grid_auto_flow": null,
      "grid_auto_rows": null,
      "grid_column": null,
      "grid_gap": null,
      "grid_row": null,
      "grid_template_areas": null,
      "grid_template_columns": null,
      "grid_template_rows": null,
      "height": null,
      "justify_content": null,
      "justify_items": null,
      "left": null,
      "margin": null,
      "max_height": null,
      "max_width": null,
      "min_height": null,
      "min_width": null,
      "object_fit": null,
      "object_position": null,
      "order": null,
      "overflow": null,
      "overflow_x": null,
      "overflow_y": null,
      "padding": null,
      "right": null,
      "top": null,
      "visibility": null,
      "width": null
     }
    },
    "4463edd481c1467f914c7dcd6c6e6ffc": {
     "model_module": "@jupyter-widgets/base",
     "model_module_version": "1.2.0",
     "model_name": "LayoutModel",
     "state": {
      "_model_module": "@jupyter-widgets/base",
      "_model_module_version": "1.2.0",
      "_model_name": "LayoutModel",
      "_view_count": null,
      "_view_module": "@jupyter-widgets/base",
      "_view_module_version": "1.2.0",
      "_view_name": "LayoutView",
      "align_content": null,
      "align_items": null,
      "align_self": null,
      "border": null,
      "bottom": null,
      "display": null,
      "flex": null,
      "flex_flow": null,
      "grid_area": null,
      "grid_auto_columns": null,
      "grid_auto_flow": null,
      "grid_auto_rows": null,
      "grid_column": null,
      "grid_gap": null,
      "grid_row": null,
      "grid_template_areas": null,
      "grid_template_columns": null,
      "grid_template_rows": null,
      "height": null,
      "justify_content": null,
      "justify_items": null,
      "left": null,
      "margin": null,
      "max_height": null,
      "max_width": null,
      "min_height": null,
      "min_width": null,
      "object_fit": null,
      "object_position": null,
      "order": null,
      "overflow": null,
      "overflow_x": null,
      "overflow_y": null,
      "padding": null,
      "right": null,
      "top": null,
      "visibility": null,
      "width": null
     }
    },
    "47928317548c454bba6358ab132e8dee": {
     "model_module": "@jupyter-widgets/controls",
     "model_module_version": "1.5.0",
     "model_name": "ProgressStyleModel",
     "state": {
      "_model_module": "@jupyter-widgets/controls",
      "_model_module_version": "1.5.0",
      "_model_name": "ProgressStyleModel",
      "_view_count": null,
      "_view_module": "@jupyter-widgets/base",
      "_view_module_version": "1.2.0",
      "_view_name": "StyleView",
      "bar_color": null,
      "description_width": ""
     }
    },
    "49277aeeac16434a865a4d12308b1abc": {
     "model_module": "@jupyter-widgets/base",
     "model_module_version": "1.2.0",
     "model_name": "LayoutModel",
     "state": {
      "_model_module": "@jupyter-widgets/base",
      "_model_module_version": "1.2.0",
      "_model_name": "LayoutModel",
      "_view_count": null,
      "_view_module": "@jupyter-widgets/base",
      "_view_module_version": "1.2.0",
      "_view_name": "LayoutView",
      "align_content": null,
      "align_items": null,
      "align_self": null,
      "border": null,
      "bottom": null,
      "display": null,
      "flex": null,
      "flex_flow": null,
      "grid_area": null,
      "grid_auto_columns": null,
      "grid_auto_flow": null,
      "grid_auto_rows": null,
      "grid_column": null,
      "grid_gap": null,
      "grid_row": null,
      "grid_template_areas": null,
      "grid_template_columns": null,
      "grid_template_rows": null,
      "height": null,
      "justify_content": null,
      "justify_items": null,
      "left": null,
      "margin": null,
      "max_height": null,
      "max_width": null,
      "min_height": null,
      "min_width": null,
      "object_fit": null,
      "object_position": null,
      "order": null,
      "overflow": null,
      "overflow_x": null,
      "overflow_y": null,
      "padding": null,
      "right": null,
      "top": null,
      "visibility": null,
      "width": null
     }
    },
    "4ae7e449e4ea4c729b5f34607c18ebae": {
     "model_module": "@jupyter-widgets/base",
     "model_module_version": "1.2.0",
     "model_name": "LayoutModel",
     "state": {
      "_model_module": "@jupyter-widgets/base",
      "_model_module_version": "1.2.0",
      "_model_name": "LayoutModel",
      "_view_count": null,
      "_view_module": "@jupyter-widgets/base",
      "_view_module_version": "1.2.0",
      "_view_name": "LayoutView",
      "align_content": null,
      "align_items": null,
      "align_self": null,
      "border": null,
      "bottom": null,
      "display": null,
      "flex": null,
      "flex_flow": null,
      "grid_area": null,
      "grid_auto_columns": null,
      "grid_auto_flow": null,
      "grid_auto_rows": null,
      "grid_column": null,
      "grid_gap": null,
      "grid_row": null,
      "grid_template_areas": null,
      "grid_template_columns": null,
      "grid_template_rows": null,
      "height": null,
      "justify_content": null,
      "justify_items": null,
      "left": null,
      "margin": null,
      "max_height": null,
      "max_width": null,
      "min_height": null,
      "min_width": null,
      "object_fit": null,
      "object_position": null,
      "order": null,
      "overflow": null,
      "overflow_x": null,
      "overflow_y": null,
      "padding": null,
      "right": null,
      "top": null,
      "visibility": null,
      "width": null
     }
    },
    "4b2061b8a73c43ffb0c2f83daf0d0183": {
     "model_module": "@jupyter-widgets/base",
     "model_module_version": "1.2.0",
     "model_name": "LayoutModel",
     "state": {
      "_model_module": "@jupyter-widgets/base",
      "_model_module_version": "1.2.0",
      "_model_name": "LayoutModel",
      "_view_count": null,
      "_view_module": "@jupyter-widgets/base",
      "_view_module_version": "1.2.0",
      "_view_name": "LayoutView",
      "align_content": null,
      "align_items": null,
      "align_self": null,
      "border": null,
      "bottom": null,
      "display": null,
      "flex": null,
      "flex_flow": null,
      "grid_area": null,
      "grid_auto_columns": null,
      "grid_auto_flow": null,
      "grid_auto_rows": null,
      "grid_column": null,
      "grid_gap": null,
      "grid_row": null,
      "grid_template_areas": null,
      "grid_template_columns": null,
      "grid_template_rows": null,
      "height": null,
      "justify_content": null,
      "justify_items": null,
      "left": null,
      "margin": null,
      "max_height": null,
      "max_width": null,
      "min_height": null,
      "min_width": null,
      "object_fit": null,
      "object_position": null,
      "order": null,
      "overflow": null,
      "overflow_x": null,
      "overflow_y": null,
      "padding": null,
      "right": null,
      "top": null,
      "visibility": null,
      "width": null
     }
    },
    "4c4c88d4c701450692fa0f6b0c5764b0": {
     "model_module": "@jupyter-widgets/base",
     "model_module_version": "1.2.0",
     "model_name": "LayoutModel",
     "state": {
      "_model_module": "@jupyter-widgets/base",
      "_model_module_version": "1.2.0",
      "_model_name": "LayoutModel",
      "_view_count": null,
      "_view_module": "@jupyter-widgets/base",
      "_view_module_version": "1.2.0",
      "_view_name": "LayoutView",
      "align_content": null,
      "align_items": null,
      "align_self": null,
      "border": null,
      "bottom": null,
      "display": null,
      "flex": null,
      "flex_flow": null,
      "grid_area": null,
      "grid_auto_columns": null,
      "grid_auto_flow": null,
      "grid_auto_rows": null,
      "grid_column": null,
      "grid_gap": null,
      "grid_row": null,
      "grid_template_areas": null,
      "grid_template_columns": null,
      "grid_template_rows": null,
      "height": null,
      "justify_content": null,
      "justify_items": null,
      "left": null,
      "margin": null,
      "max_height": null,
      "max_width": null,
      "min_height": null,
      "min_width": null,
      "object_fit": null,
      "object_position": null,
      "order": null,
      "overflow": null,
      "overflow_x": null,
      "overflow_y": null,
      "padding": null,
      "right": null,
      "top": null,
      "visibility": null,
      "width": null
     }
    },
    "4c666f4ace3943f8b80ecd20e7503236": {
     "model_module": "@jupyter-widgets/controls",
     "model_module_version": "1.5.0",
     "model_name": "DescriptionStyleModel",
     "state": {
      "_model_module": "@jupyter-widgets/controls",
      "_model_module_version": "1.5.0",
      "_model_name": "DescriptionStyleModel",
      "_view_count": null,
      "_view_module": "@jupyter-widgets/base",
      "_view_module_version": "1.2.0",
      "_view_name": "StyleView",
      "description_width": ""
     }
    },
    "4ccedf0d93094e63b57a0f8a434fba06": {
     "model_module": "@jupyter-widgets/controls",
     "model_module_version": "1.5.0",
     "model_name": "FloatProgressModel",
     "state": {
      "_dom_classes": [],
      "_model_module": "@jupyter-widgets/controls",
      "_model_module_version": "1.5.0",
      "_model_name": "FloatProgressModel",
      "_view_count": null,
      "_view_module": "@jupyter-widgets/controls",
      "_view_module_version": "1.5.0",
      "_view_name": "ProgressView",
      "bar_style": "success",
      "description": "",
      "description_tooltip": null,
      "layout": "IPY_MODEL_4463edd481c1467f914c7dcd6c6e6ffc",
      "max": 44307561,
      "min": 0,
      "orientation": "horizontal",
      "style": "IPY_MODEL_6d3b9a05db0b4dadb638c686faa0c40a",
      "value": 44307561
     }
    },
    "4dcf6ff672d24983a1877a8431709aa9": {
     "model_module": "@jupyter-widgets/controls",
     "model_module_version": "1.5.0",
     "model_name": "HTMLModel",
     "state": {
      "_dom_classes": [],
      "_model_module": "@jupyter-widgets/controls",
      "_model_module_version": "1.5.0",
      "_model_name": "HTMLModel",
      "_view_count": null,
      "_view_module": "@jupyter-widgets/controls",
      "_view_module_version": "1.5.0",
      "_view_name": "HTMLView",
      "description": "",
      "description_tooltip": null,
      "layout": "IPY_MODEL_5807d5fb827d490fb3bc698f801ffff5",
      "placeholder": "​",
      "style": "IPY_MODEL_c4f2b06a82fd4987b8b659524a7b503b",
      "value": "Generating train split: 100%"
     }
    },
    "4ea63adfce694725bdba878aef709dd3": {
     "model_module": "@jupyter-widgets/base",
     "model_module_version": "1.2.0",
     "model_name": "LayoutModel",
     "state": {
      "_model_module": "@jupyter-widgets/base",
      "_model_module_version": "1.2.0",
      "_model_name": "LayoutModel",
      "_view_count": null,
      "_view_module": "@jupyter-widgets/base",
      "_view_module_version": "1.2.0",
      "_view_name": "LayoutView",
      "align_content": null,
      "align_items": null,
      "align_self": null,
      "border": null,
      "bottom": null,
      "display": null,
      "flex": null,
      "flex_flow": null,
      "grid_area": null,
      "grid_auto_columns": null,
      "grid_auto_flow": null,
      "grid_auto_rows": null,
      "grid_column": null,
      "grid_gap": null,
      "grid_row": null,
      "grid_template_areas": null,
      "grid_template_columns": null,
      "grid_template_rows": null,
      "height": null,
      "justify_content": null,
      "justify_items": null,
      "left": null,
      "margin": null,
      "max_height": null,
      "max_width": null,
      "min_height": null,
      "min_width": null,
      "object_fit": null,
      "object_position": null,
      "order": null,
      "overflow": null,
      "overflow_x": null,
      "overflow_y": null,
      "padding": null,
      "right": null,
      "top": null,
      "visibility": null,
      "width": null
     }
    },
    "5234566b1bfc4655b8d582ea5b46ed9f": {
     "model_module": "@jupyter-widgets/controls",
     "model_module_version": "1.5.0",
     "model_name": "DescriptionStyleModel",
     "state": {
      "_model_module": "@jupyter-widgets/controls",
      "_model_module_version": "1.5.0",
      "_model_name": "DescriptionStyleModel",
      "_view_count": null,
      "_view_module": "@jupyter-widgets/base",
      "_view_module_version": "1.2.0",
      "_view_name": "StyleView",
      "description_width": ""
     }
    },
    "54ad89e05fd74576b9b8b5b5a10eaf8d": {
     "model_module": "@jupyter-widgets/controls",
     "model_module_version": "1.5.0",
     "model_name": "HTMLModel",
     "state": {
      "_dom_classes": [],
      "_model_module": "@jupyter-widgets/controls",
      "_model_module_version": "1.5.0",
      "_model_name": "HTMLModel",
      "_view_count": null,
      "_view_module": "@jupyter-widgets/controls",
      "_view_module_version": "1.5.0",
      "_view_name": "HTMLView",
      "description": "",
      "description_tooltip": null,
      "layout": "IPY_MODEL_fdb1941405ed4e4aa06019933892deb3",
      "placeholder": "​",
      "style": "IPY_MODEL_668d5377ca56426a99753867e6e24862",
      "value": " 51760/51760 [01:02&lt;00:00, 1131.51 examples/s]"
     }
    },
    "56aee4853b7740e6a977254f5d1fa66d": {
     "model_module": "@jupyter-widgets/controls",
     "model_module_version": "1.5.0",
     "model_name": "ProgressStyleModel",
     "state": {
      "_model_module": "@jupyter-widgets/controls",
      "_model_module_version": "1.5.0",
      "_model_name": "ProgressStyleModel",
      "_view_count": null,
      "_view_module": "@jupyter-widgets/base",
      "_view_module_version": "1.2.0",
      "_view_name": "StyleView",
      "bar_color": null,
      "description_width": ""
     }
    },
    "57182a263d324a3dbf1471c74290a0d5": {
     "model_module": "@jupyter-widgets/base",
     "model_module_version": "1.2.0",
     "model_name": "LayoutModel",
     "state": {
      "_model_module": "@jupyter-widgets/base",
      "_model_module_version": "1.2.0",
      "_model_name": "LayoutModel",
      "_view_count": null,
      "_view_module": "@jupyter-widgets/base",
      "_view_module_version": "1.2.0",
      "_view_name": "LayoutView",
      "align_content": null,
      "align_items": null,
      "align_self": null,
      "border": null,
      "bottom": null,
      "display": null,
      "flex": null,
      "flex_flow": null,
      "grid_area": null,
      "grid_auto_columns": null,
      "grid_auto_flow": null,
      "grid_auto_rows": null,
      "grid_column": null,
      "grid_gap": null,
      "grid_row": null,
      "grid_template_areas": null,
      "grid_template_columns": null,
      "grid_template_rows": null,
      "height": null,
      "justify_content": null,
      "justify_items": null,
      "left": null,
      "margin": null,
      "max_height": null,
      "max_width": null,
      "min_height": null,
      "min_width": null,
      "object_fit": null,
      "object_position": null,
      "order": null,
      "overflow": null,
      "overflow_x": null,
      "overflow_y": null,
      "padding": null,
      "right": null,
      "top": null,
      "visibility": null,
      "width": null
     }
    },
    "5807d5fb827d490fb3bc698f801ffff5": {
     "model_module": "@jupyter-widgets/base",
     "model_module_version": "1.2.0",
     "model_name": "LayoutModel",
     "state": {
      "_model_module": "@jupyter-widgets/base",
      "_model_module_version": "1.2.0",
      "_model_name": "LayoutModel",
      "_view_count": null,
      "_view_module": "@jupyter-widgets/base",
      "_view_module_version": "1.2.0",
      "_view_name": "LayoutView",
      "align_content": null,
      "align_items": null,
      "align_self": null,
      "border": null,
      "bottom": null,
      "display": null,
      "flex": null,
      "flex_flow": null,
      "grid_area": null,
      "grid_auto_columns": null,
      "grid_auto_flow": null,
      "grid_auto_rows": null,
      "grid_column": null,
      "grid_gap": null,
      "grid_row": null,
      "grid_template_areas": null,
      "grid_template_columns": null,
      "grid_template_rows": null,
      "height": null,
      "justify_content": null,
      "justify_items": null,
      "left": null,
      "margin": null,
      "max_height": null,
      "max_width": null,
      "min_height": null,
      "min_width": null,
      "object_fit": null,
      "object_position": null,
      "order": null,
      "overflow": null,
      "overflow_x": null,
      "overflow_y": null,
      "padding": null,
      "right": null,
      "top": null,
      "visibility": null,
      "width": null
     }
    },
    "5c9d781c28944f3eb86e2a6d44efdf18": {
     "model_module": "@jupyter-widgets/base",
     "model_module_version": "1.2.0",
     "model_name": "LayoutModel",
     "state": {
      "_model_module": "@jupyter-widgets/base",
      "_model_module_version": "1.2.0",
      "_model_name": "LayoutModel",
      "_view_count": null,
      "_view_module": "@jupyter-widgets/base",
      "_view_module_version": "1.2.0",
      "_view_name": "LayoutView",
      "align_content": null,
      "align_items": null,
      "align_self": null,
      "border": null,
      "bottom": null,
      "display": null,
      "flex": null,
      "flex_flow": null,
      "grid_area": null,
      "grid_auto_columns": null,
      "grid_auto_flow": null,
      "grid_auto_rows": null,
      "grid_column": null,
      "grid_gap": null,
      "grid_row": null,
      "grid_template_areas": null,
      "grid_template_columns": null,
      "grid_template_rows": null,
      "height": null,
      "justify_content": null,
      "justify_items": null,
      "left": null,
      "margin": null,
      "max_height": null,
      "max_width": null,
      "min_height": null,
      "min_width": null,
      "object_fit": null,
      "object_position": null,
      "order": null,
      "overflow": null,
      "overflow_x": null,
      "overflow_y": null,
      "padding": null,
      "right": null,
      "top": null,
      "visibility": null,
      "width": null
     }
    },
    "5f40db8173dd4d76b6ef5ed6d9ec8b6e": {
     "model_module": "@jupyter-widgets/base",
     "model_module_version": "1.2.0",
     "model_name": "LayoutModel",
     "state": {
      "_model_module": "@jupyter-widgets/base",
      "_model_module_version": "1.2.0",
      "_model_name": "LayoutModel",
      "_view_count": null,
      "_view_module": "@jupyter-widgets/base",
      "_view_module_version": "1.2.0",
      "_view_name": "LayoutView",
      "align_content": null,
      "align_items": null,
      "align_self": null,
      "border": null,
      "bottom": null,
      "display": null,
      "flex": null,
      "flex_flow": null,
      "grid_area": null,
      "grid_auto_columns": null,
      "grid_auto_flow": null,
      "grid_auto_rows": null,
      "grid_column": null,
      "grid_gap": null,
      "grid_row": null,
      "grid_template_areas": null,
      "grid_template_columns": null,
      "grid_template_rows": null,
      "height": null,
      "justify_content": null,
      "justify_items": null,
      "left": null,
      "margin": null,
      "max_height": null,
      "max_width": null,
      "min_height": null,
      "min_width": null,
      "object_fit": null,
      "object_position": null,
      "order": null,
      "overflow": null,
      "overflow_x": null,
      "overflow_y": null,
      "padding": null,
      "right": null,
      "top": null,
      "visibility": null,
      "width": null
     }
    },
    "61560ff6a36b44f4a9dfdae5c52791d4": {
     "model_module": "@jupyter-widgets/controls",
     "model_module_version": "1.5.0",
     "model_name": "FloatProgressModel",
     "state": {
      "_dom_classes": [],
      "_model_module": "@jupyter-widgets/controls",
      "_model_module_version": "1.5.0",
      "_model_name": "FloatProgressModel",
      "_view_count": null,
      "_view_module": "@jupyter-widgets/controls",
      "_view_module_version": "1.5.0",
      "_view_name": "ProgressView",
      "bar_style": "success",
      "description": "",
      "description_tooltip": null,
      "layout": "IPY_MODEL_db19fc8d37db4e45a5790a876836d8c4",
      "max": 11610,
      "min": 0,
      "orientation": "horizontal",
      "style": "IPY_MODEL_36166c7bcb854b34aca1f41a5d6ea50b",
      "value": 11610
     }
    },
    "6578fd7acdb54c4c93528ea431fd0144": {
     "model_module": "@jupyter-widgets/controls",
     "model_module_version": "1.5.0",
     "model_name": "HTMLModel",
     "state": {
      "_dom_classes": [],
      "_model_module": "@jupyter-widgets/controls",
      "_model_module_version": "1.5.0",
      "_model_name": "HTMLModel",
      "_view_count": null,
      "_view_module": "@jupyter-widgets/controls",
      "_view_module_version": "1.5.0",
      "_view_name": "HTMLView",
      "description": "",
      "description_tooltip": null,
      "layout": "IPY_MODEL_370692d819df41828b48c4ad446f977b",
      "placeholder": "​",
      "style": "IPY_MODEL_a0bf9160eb2647409b3200270914b90f",
      "value": " 50.6k/50.6k [00:00&lt;00:00, 2.71MB/s]"
     }
    },
    "668d5377ca56426a99753867e6e24862": {
     "model_module": "@jupyter-widgets/controls",
     "model_module_version": "1.5.0",
     "model_name": "DescriptionStyleModel",
     "state": {
      "_model_module": "@jupyter-widgets/controls",
      "_model_module_version": "1.5.0",
      "_model_name": "DescriptionStyleModel",
      "_view_count": null,
      "_view_module": "@jupyter-widgets/base",
      "_view_module_version": "1.2.0",
      "_view_name": "StyleView",
      "description_width": ""
     }
    },
    "697f027529b54ee9956bae78a11e0611": {
     "model_module": "@jupyter-widgets/controls",
     "model_module_version": "1.5.0",
     "model_name": "DescriptionStyleModel",
     "state": {
      "_model_module": "@jupyter-widgets/controls",
      "_model_module_version": "1.5.0",
      "_model_name": "DescriptionStyleModel",
      "_view_count": null,
      "_view_module": "@jupyter-widgets/base",
      "_view_module_version": "1.2.0",
      "_view_name": "StyleView",
      "description_width": ""
     }
    },
    "69ac12aec0714318bf2c83d4f4e745f5": {
     "model_module": "@jupyter-widgets/controls",
     "model_module_version": "1.5.0",
     "model_name": "DescriptionStyleModel",
     "state": {
      "_model_module": "@jupyter-widgets/controls",
      "_model_module_version": "1.5.0",
      "_model_name": "DescriptionStyleModel",
      "_view_count": null,
      "_view_module": "@jupyter-widgets/base",
      "_view_module_version": "1.2.0",
      "_view_name": "StyleView",
      "description_width": ""
     }
    },
    "6b2012c3f88547af8884a9ea90e3164b": {
     "model_module": "@jupyter-widgets/controls",
     "model_module_version": "1.5.0",
     "model_name": "HTMLModel",
     "state": {
      "_dom_classes": [],
      "_model_module": "@jupyter-widgets/controls",
      "_model_module_version": "1.5.0",
      "_model_name": "HTMLModel",
      "_view_count": null,
      "_view_module": "@jupyter-widgets/controls",
      "_view_module_version": "1.5.0",
      "_view_name": "HTMLView",
      "description": "",
      "description_tooltip": null,
      "layout": "IPY_MODEL_938f45f1b3e24118b815d96ae34ba86a",
      "placeholder": "​",
      "style": "IPY_MODEL_9367047a800747f79c6b225d92397846",
      "value": " 44.3M/44.3M [00:01&lt;00:00, 31.0MB/s]"
     }
    },
    "6b91feeed5464877991ac2c207aebe7c": {
     "model_module": "@jupyter-widgets/controls",
     "model_module_version": "1.5.0",
     "model_name": "HTMLModel",
     "state": {
      "_dom_classes": [],
      "_model_module": "@jupyter-widgets/controls",
      "_model_module_version": "1.5.0",
      "_model_name": "HTMLModel",
      "_view_count": null,
      "_view_module": "@jupyter-widgets/controls",
      "_view_module_version": "1.5.0",
      "_view_name": "HTMLView",
      "description": "",
      "description_tooltip": null,
      "layout": "IPY_MODEL_4b2061b8a73c43ffb0c2f83daf0d0183",
      "placeholder": "​",
      "style": "IPY_MODEL_69ac12aec0714318bf2c83d4f4e745f5",
      "value": "special_tokens_map.json: 100%"
     }
    },
    "6d3b9a05db0b4dadb638c686faa0c40a": {
     "model_module": "@jupyter-widgets/controls",
     "model_module_version": "1.5.0",
     "model_name": "ProgressStyleModel",
     "state": {
      "_model_module": "@jupyter-widgets/controls",
      "_model_module_version": "1.5.0",
      "_model_name": "ProgressStyleModel",
      "_view_count": null,
      "_view_module": "@jupyter-widgets/base",
      "_view_module_version": "1.2.0",
      "_view_name": "StyleView",
      "bar_color": null,
      "description_width": ""
     }
    },
    "6dbbedeca9314e66ae50e44ffa31a414": {
     "model_module": "@jupyter-widgets/controls",
     "model_module_version": "1.5.0",
     "model_name": "ProgressStyleModel",
     "state": {
      "_model_module": "@jupyter-widgets/controls",
      "_model_module_version": "1.5.0",
      "_model_name": "ProgressStyleModel",
      "_view_count": null,
      "_view_module": "@jupyter-widgets/base",
      "_view_module_version": "1.2.0",
      "_view_name": "StyleView",
      "bar_color": null,
      "description_width": ""
     }
    },
    "6e34619b45934040b6092e6fb01ea7fe": {
     "model_module": "@jupyter-widgets/base",
     "model_module_version": "1.2.0",
     "model_name": "LayoutModel",
     "state": {
      "_model_module": "@jupyter-widgets/base",
      "_model_module_version": "1.2.0",
      "_model_name": "LayoutModel",
      "_view_count": null,
      "_view_module": "@jupyter-widgets/base",
      "_view_module_version": "1.2.0",
      "_view_name": "LayoutView",
      "align_content": null,
      "align_items": null,
      "align_self": null,
      "border": null,
      "bottom": null,
      "display": null,
      "flex": null,
      "flex_flow": null,
      "grid_area": null,
      "grid_auto_columns": null,
      "grid_auto_flow": null,
      "grid_auto_rows": null,
      "grid_column": null,
      "grid_gap": null,
      "grid_row": null,
      "grid_template_areas": null,
      "grid_template_columns": null,
      "grid_template_rows": null,
      "height": null,
      "justify_content": null,
      "justify_items": null,
      "left": null,
      "margin": null,
      "max_height": null,
      "max_width": null,
      "min_height": null,
      "min_width": null,
      "object_fit": null,
      "object_position": null,
      "order": null,
      "overflow": null,
      "overflow_x": null,
      "overflow_y": null,
      "padding": null,
      "right": null,
      "top": null,
      "visibility": null,
      "width": null
     }
    },
    "71ce208e20d6483abb9ed923510c86d7": {
     "model_module": "@jupyter-widgets/controls",
     "model_module_version": "1.5.0",
     "model_name": "HTMLModel",
     "state": {
      "_dom_classes": [],
      "_model_module": "@jupyter-widgets/controls",
      "_model_module_version": "1.5.0",
      "_model_name": "HTMLModel",
      "_view_count": null,
      "_view_module": "@jupyter-widgets/controls",
      "_view_module_version": "1.5.0",
      "_view_name": "HTMLView",
      "description": "",
      "description_tooltip": null,
      "layout": "IPY_MODEL_d69dc491b3ab44d7852b21873ed7bb7f",
      "placeholder": "​",
      "style": "IPY_MODEL_f401d53bf28e44eb906bce6c05412662",
      "value": " 51760/51760 [00:01&lt;00:00, 45512.81 examples/s]"
     }
    },
    "7358cdad832342c983e31efb8754ab78": {
     "model_module": "@jupyter-widgets/base",
     "model_module_version": "1.2.0",
     "model_name": "LayoutModel",
     "state": {
      "_model_module": "@jupyter-widgets/base",
      "_model_module_version": "1.2.0",
      "_model_name": "LayoutModel",
      "_view_count": null,
      "_view_module": "@jupyter-widgets/base",
      "_view_module_version": "1.2.0",
      "_view_name": "LayoutView",
      "align_content": null,
      "align_items": null,
      "align_self": null,
      "border": null,
      "bottom": null,
      "display": null,
      "flex": null,
      "flex_flow": null,
      "grid_area": null,
      "grid_auto_columns": null,
      "grid_auto_flow": null,
      "grid_auto_rows": null,
      "grid_column": null,
      "grid_gap": null,
      "grid_row": null,
      "grid_template_areas": null,
      "grid_template_columns": null,
      "grid_template_rows": null,
      "height": null,
      "justify_content": null,
      "justify_items": null,
      "left": null,
      "margin": null,
      "max_height": null,
      "max_width": null,
      "min_height": null,
      "min_width": null,
      "object_fit": null,
      "object_position": null,
      "order": null,
      "overflow": null,
      "overflow_x": null,
      "overflow_y": null,
      "padding": null,
      "right": null,
      "top": null,
      "visibility": null,
      "width": null
     }
    },
    "73e352a3404f4c7dad0737f57d29e92f": {
     "model_module": "@jupyter-widgets/controls",
     "model_module_version": "1.5.0",
     "model_name": "HBoxModel",
     "state": {
      "_dom_classes": [],
      "_model_module": "@jupyter-widgets/controls",
      "_model_module_version": "1.5.0",
      "_model_name": "HBoxModel",
      "_view_count": null,
      "_view_module": "@jupyter-widgets/controls",
      "_view_module_version": "1.5.0",
      "_view_name": "HBoxView",
      "box_style": "",
      "children": [
       "IPY_MODEL_988a0e8c1f89446086858da0a891a79c",
       "IPY_MODEL_4ccedf0d93094e63b57a0f8a434fba06",
       "IPY_MODEL_6b2012c3f88547af8884a9ea90e3164b"
      ],
      "layout": "IPY_MODEL_7e29cb8dd4df4d5b94407cd8fd3f2011"
     }
    },
    "74501720ac7e4dbb911a4a99b3633bc6": {
     "model_module": "@jupyter-widgets/controls",
     "model_module_version": "1.5.0",
     "model_name": "DescriptionStyleModel",
     "state": {
      "_model_module": "@jupyter-widgets/controls",
      "_model_module_version": "1.5.0",
      "_model_name": "DescriptionStyleModel",
      "_view_count": null,
      "_view_module": "@jupyter-widgets/base",
      "_view_module_version": "1.2.0",
      "_view_name": "StyleView",
      "description_width": ""
     }
    },
    "78e5400bff924a92a4cc61c4ff18b182": {
     "model_module": "@jupyter-widgets/controls",
     "model_module_version": "1.5.0",
     "model_name": "HTMLModel",
     "state": {
      "_dom_classes": [],
      "_model_module": "@jupyter-widgets/controls",
      "_model_module_version": "1.5.0",
      "_model_name": "HTMLModel",
      "_view_count": null,
      "_view_module": "@jupyter-widgets/controls",
      "_view_module_version": "1.5.0",
      "_view_name": "HTMLView",
      "description": "",
      "description_tooltip": null,
      "layout": "IPY_MODEL_b9b313fd861948f5aba25b24b1518d30",
      "placeholder": "​",
      "style": "IPY_MODEL_4c666f4ace3943f8b80ecd20e7503236",
      "value": " 1.18k/1.18k [00:00&lt;00:00, 31.3kB/s]"
     }
    },
    "7975adbc2ec5489ea7fa0167e620d85c": {
     "model_module": "@jupyter-widgets/controls",
     "model_module_version": "1.5.0",
     "model_name": "FloatProgressModel",
     "state": {
      "_dom_classes": [],
      "_model_module": "@jupyter-widgets/controls",
      "_model_module_version": "1.5.0",
      "_model_name": "FloatProgressModel",
      "_view_count": null,
      "_view_module": "@jupyter-widgets/controls",
      "_view_module_version": "1.5.0",
      "_view_name": "ProgressView",
      "bar_style": "success",
      "description": "",
      "description_tooltip": null,
      "layout": "IPY_MODEL_6e34619b45934040b6092e6fb01ea7fe",
      "max": 51760,
      "min": 0,
      "orientation": "horizontal",
      "style": "IPY_MODEL_271ddaa553a042d09b6db7b450643d8f",
      "value": 51760
     }
    },
    "7e29cb8dd4df4d5b94407cd8fd3f2011": {
     "model_module": "@jupyter-widgets/base",
     "model_module_version": "1.2.0",
     "model_name": "LayoutModel",
     "state": {
      "_model_module": "@jupyter-widgets/base",
      "_model_module_version": "1.2.0",
      "_model_name": "LayoutModel",
      "_view_count": null,
      "_view_module": "@jupyter-widgets/base",
      "_view_module_version": "1.2.0",
      "_view_name": "LayoutView",
      "align_content": null,
      "align_items": null,
      "align_self": null,
      "border": null,
      "bottom": null,
      "display": null,
      "flex": null,
      "flex_flow": null,
      "grid_area": null,
      "grid_auto_columns": null,
      "grid_auto_flow": null,
      "grid_auto_rows": null,
      "grid_column": null,
      "grid_gap": null,
      "grid_row": null,
      "grid_template_areas": null,
      "grid_template_columns": null,
      "grid_template_rows": null,
      "height": null,
      "justify_content": null,
      "justify_items": null,
      "left": null,
      "margin": null,
      "max_height": null,
      "max_width": null,
      "min_height": null,
      "min_width": null,
      "object_fit": null,
      "object_position": null,
      "order": null,
      "overflow": null,
      "overflow_x": null,
      "overflow_y": null,
      "padding": null,
      "right": null,
      "top": null,
      "visibility": null,
      "width": null
     }
    },
    "810ff6c0e17d4fa09a30fef27eacff90": {
     "model_module": "@jupyter-widgets/controls",
     "model_module_version": "1.5.0",
     "model_name": "ProgressStyleModel",
     "state": {
      "_model_module": "@jupyter-widgets/controls",
      "_model_module_version": "1.5.0",
      "_model_name": "ProgressStyleModel",
      "_view_count": null,
      "_view_module": "@jupyter-widgets/base",
      "_view_module_version": "1.2.0",
      "_view_name": "StyleView",
      "bar_color": null,
      "description_width": ""
     }
    },
    "89965917796a4f81b899fdc7685f33df": {
     "model_module": "@jupyter-widgets/controls",
     "model_module_version": "1.5.0",
     "model_name": "DescriptionStyleModel",
     "state": {
      "_model_module": "@jupyter-widgets/controls",
      "_model_module_version": "1.5.0",
      "_model_name": "DescriptionStyleModel",
      "_view_count": null,
      "_view_module": "@jupyter-widgets/base",
      "_view_module_version": "1.2.0",
      "_view_name": "StyleView",
      "description_width": ""
     }
    },
    "89b2ef0dbfea47ab8e6f8d659e3351d1": {
     "model_module": "@jupyter-widgets/controls",
     "model_module_version": "1.5.0",
     "model_name": "HTMLModel",
     "state": {
      "_dom_classes": [],
      "_model_module": "@jupyter-widgets/controls",
      "_model_module_version": "1.5.0",
      "_model_name": "HTMLModel",
      "_view_count": null,
      "_view_module": "@jupyter-widgets/controls",
      "_view_module_version": "1.5.0",
      "_view_name": "HTMLView",
      "description": "",
      "description_tooltip": null,
      "layout": "IPY_MODEL_b8908fa0df3743ecb9d12983a739104f",
      "placeholder": "​",
      "style": "IPY_MODEL_177c78fce95d4b4ab33057c5a048d693",
      "value": " 9.09M/9.09M [00:00&lt;00:00, 32.6MB/s]"
     }
    },
    "8b3505352a5a42bf910428c40ce40465": {
     "model_module": "@jupyter-widgets/controls",
     "model_module_version": "1.5.0",
     "model_name": "HTMLModel",
     "state": {
      "_dom_classes": [],
      "_model_module": "@jupyter-widgets/controls",
      "_model_module_version": "1.5.0",
      "_model_name": "HTMLModel",
      "_view_count": null,
      "_view_module": "@jupyter-widgets/controls",
      "_view_module_version": "1.5.0",
      "_view_name": "HTMLView",
      "description": "",
      "description_tooltip": null,
      "layout": "IPY_MODEL_49277aeeac16434a865a4d12308b1abc",
      "placeholder": "​",
      "style": "IPY_MODEL_2157f01726d748f8a9ae4a00664430da",
      "value": " 5.70G/5.70G [01:02&lt;00:00, 30.1MB/s]"
     }
    },
    "8fc142b628fb40568730234de1cafde2": {
     "model_module": "@jupyter-widgets/controls",
     "model_module_version": "1.5.0",
     "model_name": "FloatProgressModel",
     "state": {
      "_dom_classes": [],
      "_model_module": "@jupyter-widgets/controls",
      "_model_module_version": "1.5.0",
      "_model_name": "FloatProgressModel",
      "_view_count": null,
      "_view_module": "@jupyter-widgets/controls",
      "_view_module_version": "1.5.0",
      "_view_name": "ProgressView",
      "bar_style": "success",
      "description": "",
      "description_tooltip": null,
      "layout": "IPY_MODEL_4ae7e449e4ea4c729b5f34607c18ebae",
      "max": 172,
      "min": 0,
      "orientation": "horizontal",
      "style": "IPY_MODEL_3572201bd4d74a58b7a665f9bdfdcdba",
      "value": 172
     }
    },
    "9367047a800747f79c6b225d92397846": {
     "model_module": "@jupyter-widgets/controls",
     "model_module_version": "1.5.0",
     "model_name": "DescriptionStyleModel",
     "state": {
      "_model_module": "@jupyter-widgets/controls",
      "_model_module_version": "1.5.0",
      "_model_name": "DescriptionStyleModel",
      "_view_count": null,
      "_view_module": "@jupyter-widgets/base",
      "_view_module_version": "1.2.0",
      "_view_name": "StyleView",
      "description_width": ""
     }
    },
    "938f45f1b3e24118b815d96ae34ba86a": {
     "model_module": "@jupyter-widgets/base",
     "model_module_version": "1.2.0",
     "model_name": "LayoutModel",
     "state": {
      "_model_module": "@jupyter-widgets/base",
      "_model_module_version": "1.2.0",
      "_model_name": "LayoutModel",
      "_view_count": null,
      "_view_module": "@jupyter-widgets/base",
      "_view_module_version": "1.2.0",
      "_view_name": "LayoutView",
      "align_content": null,
      "align_items": null,
      "align_self": null,
      "border": null,
      "bottom": null,
      "display": null,
      "flex": null,
      "flex_flow": null,
      "grid_area": null,
      "grid_auto_columns": null,
      "grid_auto_flow": null,
      "grid_auto_rows": null,
      "grid_column": null,
      "grid_gap": null,
      "grid_row": null,
      "grid_template_areas": null,
      "grid_template_columns": null,
      "grid_template_rows": null,
      "height": null,
      "justify_content": null,
      "justify_items": null,
      "left": null,
      "margin": null,
      "max_height": null,
      "max_width": null,
      "min_height": null,
      "min_width": null,
      "object_fit": null,
      "object_position": null,
      "order": null,
      "overflow": null,
      "overflow_x": null,
      "overflow_y": null,
      "padding": null,
      "right": null,
      "top": null,
      "visibility": null,
      "width": null
     }
    },
    "95fbe66647904c06a20f640630d6dc0e": {
     "model_module": "@jupyter-widgets/controls",
     "model_module_version": "1.5.0",
     "model_name": "HTMLModel",
     "state": {
      "_dom_classes": [],
      "_model_module": "@jupyter-widgets/controls",
      "_model_module_version": "1.5.0",
      "_model_name": "HTMLModel",
      "_view_count": null,
      "_view_module": "@jupyter-widgets/controls",
      "_view_module_version": "1.5.0",
      "_view_name": "HTMLView",
      "description": "",
      "description_tooltip": null,
      "layout": "IPY_MODEL_b0a370dc20654b279b9680692e34418e",
      "placeholder": "​",
      "style": "IPY_MODEL_cfeb365ddf7548d58b2557f22737fcf5",
      "value": " 11.6k/11.6k [00:00&lt;00:00, 716kB/s]"
     }
    },
    "988a0e8c1f89446086858da0a891a79c": {
     "model_module": "@jupyter-widgets/controls",
     "model_module_version": "1.5.0",
     "model_name": "HTMLModel",
     "state": {
      "_dom_classes": [],
      "_model_module": "@jupyter-widgets/controls",
      "_model_module_version": "1.5.0",
      "_model_name": "HTMLModel",
      "_view_count": null,
      "_view_module": "@jupyter-widgets/controls",
      "_view_module_version": "1.5.0",
      "_view_name": "HTMLView",
      "description": "",
      "description_tooltip": null,
      "layout": "IPY_MODEL_ad2be500fc164c0f86f33e914ef8e6a0",
      "placeholder": "​",
      "style": "IPY_MODEL_5234566b1bfc4655b8d582ea5b46ed9f",
      "value": "Downloading data: 100%"
     }
    },
    "98c58f23f4d549518832cb2d18f796e8": {
     "model_module": "@jupyter-widgets/controls",
     "model_module_version": "1.5.0",
     "model_name": "HBoxModel",
     "state": {
      "_dom_classes": [],
      "_model_module": "@jupyter-widgets/controls",
      "_model_module_version": "1.5.0",
      "_model_name": "HBoxModel",
      "_view_count": null,
      "_view_module": "@jupyter-widgets/controls",
      "_view_module_version": "1.5.0",
      "_view_name": "HBoxView",
      "box_style": "",
      "children": [
       "IPY_MODEL_09b76013aa9e45efb6deb23a7a0d0925",
       "IPY_MODEL_39b29a75374b45c0a22506010be2b84e",
       "IPY_MODEL_78e5400bff924a92a4cc61c4ff18b182"
      ],
      "layout": "IPY_MODEL_2a58d04b428c46f4b3dbadd3bc6cd529"
     }
    },
    "99fdbb0300c14c139d1937c646f0cfe7": {
     "model_module": "@jupyter-widgets/controls",
     "model_module_version": "1.5.0",
     "model_name": "HTMLModel",
     "state": {
      "_dom_classes": [],
      "_model_module": "@jupyter-widgets/controls",
      "_model_module_version": "1.5.0",
      "_model_name": "HTMLModel",
      "_view_count": null,
      "_view_module": "@jupyter-widgets/controls",
      "_view_module_version": "1.5.0",
      "_view_name": "HTMLView",
      "description": "",
      "description_tooltip": null,
      "layout": "IPY_MODEL_7358cdad832342c983e31efb8754ab78",
      "placeholder": "​",
      "style": "IPY_MODEL_e9adf418296e436fb48bb9f78885598b",
      "value": " 51760/51760 [00:01&lt;00:00, 38665.95 examples/s]"
     }
    },
    "9f679ad3ec7f4fe8ad0510ffb57bc2ab": {
     "model_module": "@jupyter-widgets/controls",
     "model_module_version": "1.5.0",
     "model_name": "HTMLModel",
     "state": {
      "_dom_classes": [],
      "_model_module": "@jupyter-widgets/controls",
      "_model_module_version": "1.5.0",
      "_model_name": "HTMLModel",
      "_view_count": null,
      "_view_module": "@jupyter-widgets/controls",
      "_view_module_version": "1.5.0",
      "_view_name": "HTMLView",
      "description": "",
      "description_tooltip": null,
      "layout": "IPY_MODEL_4ea63adfce694725bdba878aef709dd3",
      "placeholder": "​",
      "style": "IPY_MODEL_74501720ac7e4dbb911a4a99b3633bc6",
      "value": "tokenizer.json: 100%"
     }
    },
    "a0037bdccf254159becde630bee3d1db": {
     "model_module": "@jupyter-widgets/controls",
     "model_module_version": "1.5.0",
     "model_name": "DescriptionStyleModel",
     "state": {
      "_model_module": "@jupyter-widgets/controls",
      "_model_module_version": "1.5.0",
      "_model_name": "DescriptionStyleModel",
      "_view_count": null,
      "_view_module": "@jupyter-widgets/base",
      "_view_module_version": "1.2.0",
      "_view_name": "StyleView",
      "description_width": ""
     }
    },
    "a069d2ab23824f29aa320ac256e2cfe9": {
     "model_module": "@jupyter-widgets/base",
     "model_module_version": "1.2.0",
     "model_name": "LayoutModel",
     "state": {
      "_model_module": "@jupyter-widgets/base",
      "_model_module_version": "1.2.0",
      "_model_name": "LayoutModel",
      "_view_count": null,
      "_view_module": "@jupyter-widgets/base",
      "_view_module_version": "1.2.0",
      "_view_name": "LayoutView",
      "align_content": null,
      "align_items": null,
      "align_self": null,
      "border": null,
      "bottom": null,
      "display": null,
      "flex": null,
      "flex_flow": null,
      "grid_area": null,
      "grid_auto_columns": null,
      "grid_auto_flow": null,
      "grid_auto_rows": null,
      "grid_column": null,
      "grid_gap": null,
      "grid_row": null,
      "grid_template_areas": null,
      "grid_template_columns": null,
      "grid_template_rows": null,
      "height": null,
      "justify_content": null,
      "justify_items": null,
      "left": null,
      "margin": null,
      "max_height": null,
      "max_width": null,
      "min_height": null,
      "min_width": null,
      "object_fit": null,
      "object_position": null,
      "order": null,
      "overflow": null,
      "overflow_x": null,
      "overflow_y": null,
      "padding": null,
      "right": null,
      "top": null,
      "visibility": null,
      "width": null
     }
    },
    "a0bf9160eb2647409b3200270914b90f": {
     "model_module": "@jupyter-widgets/controls",
     "model_module_version": "1.5.0",
     "model_name": "DescriptionStyleModel",
     "state": {
      "_model_module": "@jupyter-widgets/controls",
      "_model_module_version": "1.5.0",
      "_model_name": "DescriptionStyleModel",
      "_view_count": null,
      "_view_module": "@jupyter-widgets/base",
      "_view_module_version": "1.2.0",
      "_view_name": "StyleView",
      "description_width": ""
     }
    },
    "a41dc44766444a998bec2d777f249d23": {
     "model_module": "@jupyter-widgets/base",
     "model_module_version": "1.2.0",
     "model_name": "LayoutModel",
     "state": {
      "_model_module": "@jupyter-widgets/base",
      "_model_module_version": "1.2.0",
      "_model_name": "LayoutModel",
      "_view_count": null,
      "_view_module": "@jupyter-widgets/base",
      "_view_module_version": "1.2.0",
      "_view_name": "LayoutView",
      "align_content": null,
      "align_items": null,
      "align_self": null,
      "border": null,
      "bottom": null,
      "display": null,
      "flex": null,
      "flex_flow": null,
      "grid_area": null,
      "grid_auto_columns": null,
      "grid_auto_flow": null,
      "grid_auto_rows": null,
      "grid_column": null,
      "grid_gap": null,
      "grid_row": null,
      "grid_template_areas": null,
      "grid_template_columns": null,
      "grid_template_rows": null,
      "height": null,
      "justify_content": null,
      "justify_items": null,
      "left": null,
      "margin": null,
      "max_height": null,
      "max_width": null,
      "min_height": null,
      "min_width": null,
      "object_fit": null,
      "object_position": null,
      "order": null,
      "overflow": null,
      "overflow_x": null,
      "overflow_y": null,
      "padding": null,
      "right": null,
      "top": null,
      "visibility": null,
      "width": null
     }
    },
    "a8464a4c711e4e00aafdfc919b60d07e": {
     "model_module": "@jupyter-widgets/controls",
     "model_module_version": "1.5.0",
     "model_name": "HTMLModel",
     "state": {
      "_dom_classes": [],
      "_model_module": "@jupyter-widgets/controls",
      "_model_module_version": "1.5.0",
      "_model_name": "HTMLModel",
      "_view_count": null,
      "_view_module": "@jupyter-widgets/controls",
      "_view_module_version": "1.5.0",
      "_view_name": "HTMLView",
      "description": "",
      "description_tooltip": null,
      "layout": "IPY_MODEL_fb995c740590427b882572c81d4e848c",
      "placeholder": "​",
      "style": "IPY_MODEL_201b59ccd9f845e197029b57e424aefc",
      "value": " 172/172 [00:00&lt;00:00, 12.0kB/s]"
     }
    },
    "a9f0cc51fc3d4d7b874c32dcf1c5bdf2": {
     "model_module": "@jupyter-widgets/base",
     "model_module_version": "1.2.0",
     "model_name": "LayoutModel",
     "state": {
      "_model_module": "@jupyter-widgets/base",
      "_model_module_version": "1.2.0",
      "_model_name": "LayoutModel",
      "_view_count": null,
      "_view_module": "@jupyter-widgets/base",
      "_view_module_version": "1.2.0",
      "_view_name": "LayoutView",
      "align_content": null,
      "align_items": null,
      "align_self": null,
      "border": null,
      "bottom": null,
      "display": null,
      "flex": null,
      "flex_flow": null,
      "grid_area": null,
      "grid_auto_columns": null,
      "grid_auto_flow": null,
      "grid_auto_rows": null,
      "grid_column": null,
      "grid_gap": null,
      "grid_row": null,
      "grid_template_areas": null,
      "grid_template_columns": null,
      "grid_template_rows": null,
      "height": null,
      "justify_content": null,
      "justify_items": null,
      "left": null,
      "margin": null,
      "max_height": null,
      "max_width": null,
      "min_height": null,
      "min_width": null,
      "object_fit": null,
      "object_position": null,
      "order": null,
      "overflow": null,
      "overflow_x": null,
      "overflow_y": null,
      "padding": null,
      "right": null,
      "top": null,
      "visibility": null,
      "width": null
     }
    },
    "ad2be500fc164c0f86f33e914ef8e6a0": {
     "model_module": "@jupyter-widgets/base",
     "model_module_version": "1.2.0",
     "model_name": "LayoutModel",
     "state": {
      "_model_module": "@jupyter-widgets/base",
      "_model_module_version": "1.2.0",
      "_model_name": "LayoutModel",
      "_view_count": null,
      "_view_module": "@jupyter-widgets/base",
      "_view_module_version": "1.2.0",
      "_view_name": "LayoutView",
      "align_content": null,
      "align_items": null,
      "align_self": null,
      "border": null,
      "bottom": null,
      "display": null,
      "flex": null,
      "flex_flow": null,
      "grid_area": null,
      "grid_auto_columns": null,
      "grid_auto_flow": null,
      "grid_auto_rows": null,
      "grid_column": null,
      "grid_gap": null,
      "grid_row": null,
      "grid_template_areas": null,
      "grid_template_columns": null,
      "grid_template_rows": null,
      "height": null,
      "justify_content": null,
      "justify_items": null,
      "left": null,
      "margin": null,
      "max_height": null,
      "max_width": null,
      "min_height": null,
      "min_width": null,
      "object_fit": null,
      "object_position": null,
      "order": null,
      "overflow": null,
      "overflow_x": null,
      "overflow_y": null,
      "padding": null,
      "right": null,
      "top": null,
      "visibility": null,
      "width": null
     }
    },
    "b0240cd9a4554b29ae11f8051984a1c6": {
     "model_module": "@jupyter-widgets/controls",
     "model_module_version": "1.5.0",
     "model_name": "HTMLModel",
     "state": {
      "_dom_classes": [],
      "_model_module": "@jupyter-widgets/controls",
      "_model_module_version": "1.5.0",
      "_model_name": "HTMLModel",
      "_view_count": null,
      "_view_module": "@jupyter-widgets/controls",
      "_view_module_version": "1.5.0",
      "_view_name": "HTMLView",
      "description": "",
      "description_tooltip": null,
      "layout": "IPY_MODEL_edaf890370314a218f138015faa0b05d",
      "placeholder": "​",
      "style": "IPY_MODEL_697f027529b54ee9956bae78a11e0611",
      "value": "Map: 100%"
     }
    },
    "b0a370dc20654b279b9680692e34418e": {
     "model_module": "@jupyter-widgets/base",
     "model_module_version": "1.2.0",
     "model_name": "LayoutModel",
     "state": {
      "_model_module": "@jupyter-widgets/base",
      "_model_module_version": "1.2.0",
      "_model_name": "LayoutModel",
      "_view_count": null,
      "_view_module": "@jupyter-widgets/base",
      "_view_module_version": "1.2.0",
      "_view_name": "LayoutView",
      "align_content": null,
      "align_items": null,
      "align_self": null,
      "border": null,
      "bottom": null,
      "display": null,
      "flex": null,
      "flex_flow": null,
      "grid_area": null,
      "grid_auto_columns": null,
      "grid_auto_flow": null,
      "grid_auto_rows": null,
      "grid_column": null,
      "grid_gap": null,
      "grid_row": null,
      "grid_template_areas": null,
      "grid_template_columns": null,
      "grid_template_rows": null,
      "height": null,
      "justify_content": null,
      "justify_items": null,
      "left": null,
      "margin": null,
      "max_height": null,
      "max_width": null,
      "min_height": null,
      "min_width": null,
      "object_fit": null,
      "object_position": null,
      "order": null,
      "overflow": null,
      "overflow_x": null,
      "overflow_y": null,
      "padding": null,
      "right": null,
      "top": null,
      "visibility": null,
      "width": null
     }
    },
    "b518dcee69074b87be73957cd810e7ed": {
     "model_module": "@jupyter-widgets/controls",
     "model_module_version": "1.5.0",
     "model_name": "HTMLModel",
     "state": {
      "_dom_classes": [],
      "_model_module": "@jupyter-widgets/controls",
      "_model_module_version": "1.5.0",
      "_model_name": "HTMLModel",
      "_view_count": null,
      "_view_module": "@jupyter-widgets/controls",
      "_view_module_version": "1.5.0",
      "_view_name": "HTMLView",
      "description": "",
      "description_tooltip": null,
      "layout": "IPY_MODEL_d891f8d0b1fc462f8008d02bb2a15692",
      "placeholder": "​",
      "style": "IPY_MODEL_cced8fd7e998472794f3f3e3018956a5",
      "value": "tokenizer_config.json: 100%"
     }
    },
    "b8908fa0df3743ecb9d12983a739104f": {
     "model_module": "@jupyter-widgets/base",
     "model_module_version": "1.2.0",
     "model_name": "LayoutModel",
     "state": {
      "_model_module": "@jupyter-widgets/base",
      "_model_module_version": "1.2.0",
      "_model_name": "LayoutModel",
      "_view_count": null,
      "_view_module": "@jupyter-widgets/base",
      "_view_module_version": "1.2.0",
      "_view_name": "LayoutView",
      "align_content": null,
      "align_items": null,
      "align_self": null,
      "border": null,
      "bottom": null,
      "display": null,
      "flex": null,
      "flex_flow": null,
      "grid_area": null,
      "grid_auto_columns": null,
      "grid_auto_flow": null,
      "grid_auto_rows": null,
      "grid_column": null,
      "grid_gap": null,
      "grid_row": null,
      "grid_template_areas": null,
      "grid_template_columns": null,
      "grid_template_rows": null,
      "height": null,
      "justify_content": null,
      "justify_items": null,
      "left": null,
      "margin": null,
      "max_height": null,
      "max_width": null,
      "min_height": null,
      "min_width": null,
      "object_fit": null,
      "object_position": null,
      "order": null,
      "overflow": null,
      "overflow_x": null,
      "overflow_y": null,
      "padding": null,
      "right": null,
      "top": null,
      "visibility": null,
      "width": null
     }
    },
    "b993eaec6b224440bf80c0958c6fb536": {
     "model_module": "@jupyter-widgets/base",
     "model_module_version": "1.2.0",
     "model_name": "LayoutModel",
     "state": {
      "_model_module": "@jupyter-widgets/base",
      "_model_module_version": "1.2.0",
      "_model_name": "LayoutModel",
      "_view_count": null,
      "_view_module": "@jupyter-widgets/base",
      "_view_module_version": "1.2.0",
      "_view_name": "LayoutView",
      "align_content": null,
      "align_items": null,
      "align_self": null,
      "border": null,
      "bottom": null,
      "display": null,
      "flex": null,
      "flex_flow": null,
      "grid_area": null,
      "grid_auto_columns": null,
      "grid_auto_flow": null,
      "grid_auto_rows": null,
      "grid_column": null,
      "grid_gap": null,
      "grid_row": null,
      "grid_template_areas": null,
      "grid_template_columns": null,
      "grid_template_rows": null,
      "height": null,
      "justify_content": null,
      "justify_items": null,
      "left": null,
      "margin": null,
      "max_height": null,
      "max_width": null,
      "min_height": null,
      "min_width": null,
      "object_fit": null,
      "object_position": null,
      "order": null,
      "overflow": null,
      "overflow_x": null,
      "overflow_y": null,
      "padding": null,
      "right": null,
      "top": null,
      "visibility": null,
      "width": null
     }
    },
    "b9b313fd861948f5aba25b24b1518d30": {
     "model_module": "@jupyter-widgets/base",
     "model_module_version": "1.2.0",
     "model_name": "LayoutModel",
     "state": {
      "_model_module": "@jupyter-widgets/base",
      "_model_module_version": "1.2.0",
      "_model_name": "LayoutModel",
      "_view_count": null,
      "_view_module": "@jupyter-widgets/base",
      "_view_module_version": "1.2.0",
      "_view_name": "LayoutView",
      "align_content": null,
      "align_items": null,
      "align_self": null,
      "border": null,
      "bottom": null,
      "display": null,
      "flex": null,
      "flex_flow": null,
      "grid_area": null,
      "grid_auto_columns": null,
      "grid_auto_flow": null,
      "grid_auto_rows": null,
      "grid_column": null,
      "grid_gap": null,
      "grid_row": null,
      "grid_template_areas": null,
      "grid_template_columns": null,
      "grid_template_rows": null,
      "height": null,
      "justify_content": null,
      "justify_items": null,
      "left": null,
      "margin": null,
      "max_height": null,
      "max_width": null,
      "min_height": null,
      "min_width": null,
      "object_fit": null,
      "object_position": null,
      "order": null,
      "overflow": null,
      "overflow_x": null,
      "overflow_y": null,
      "padding": null,
      "right": null,
      "top": null,
      "visibility": null,
      "width": null
     }
    },
    "ba90fdb8822d47dab7ba203bee297f37": {
     "model_module": "@jupyter-widgets/controls",
     "model_module_version": "1.5.0",
     "model_name": "HTMLModel",
     "state": {
      "_dom_classes": [],
      "_model_module": "@jupyter-widgets/controls",
      "_model_module_version": "1.5.0",
      "_model_name": "HTMLModel",
      "_view_count": null,
      "_view_module": "@jupyter-widgets/controls",
      "_view_module_version": "1.5.0",
      "_view_name": "HTMLView",
      "description": "",
      "description_tooltip": null,
      "layout": "IPY_MODEL_0f8b6bfe16894500838793f2491d403f",
      "placeholder": "​",
      "style": "IPY_MODEL_bb19f6c747754682a514373a3a0535ba",
      "value": "Downloading readme: 100%"
     }
    },
    "bb19f6c747754682a514373a3a0535ba": {
     "model_module": "@jupyter-widgets/controls",
     "model_module_version": "1.5.0",
     "model_name": "DescriptionStyleModel",
     "state": {
      "_model_module": "@jupyter-widgets/controls",
      "_model_module_version": "1.5.0",
      "_model_name": "DescriptionStyleModel",
      "_view_count": null,
      "_view_module": "@jupyter-widgets/base",
      "_view_module_version": "1.2.0",
      "_view_name": "StyleView",
      "description_width": ""
     }
    },
    "bc883d4cf13e4f8b8a4fe5f410cb6efd": {
     "model_module": "@jupyter-widgets/controls",
     "model_module_version": "1.5.0",
     "model_name": "FloatProgressModel",
     "state": {
      "_dom_classes": [],
      "_model_module": "@jupyter-widgets/controls",
      "_model_module_version": "1.5.0",
      "_model_name": "FloatProgressModel",
      "_view_count": null,
      "_view_module": "@jupyter-widgets/controls",
      "_view_module_version": "1.5.0",
      "_view_name": "ProgressView",
      "bar_style": "success",
      "description": "",
      "description_tooltip": null,
      "layout": "IPY_MODEL_e9159e03e61f4f56978ece9c3bca49b2",
      "max": 51760,
      "min": 0,
      "orientation": "horizontal",
      "style": "IPY_MODEL_810ff6c0e17d4fa09a30fef27eacff90",
      "value": 51760
     }
    },
    "c161d94df0f04feba9542237e0856c22": {
     "model_module": "@jupyter-widgets/base",
     "model_module_version": "1.2.0",
     "model_name": "LayoutModel",
     "state": {
      "_model_module": "@jupyter-widgets/base",
      "_model_module_version": "1.2.0",
      "_model_name": "LayoutModel",
      "_view_count": null,
      "_view_module": "@jupyter-widgets/base",
      "_view_module_version": "1.2.0",
      "_view_name": "LayoutView",
      "align_content": null,
      "align_items": null,
      "align_self": null,
      "border": null,
      "bottom": null,
      "display": null,
      "flex": null,
      "flex_flow": null,
      "grid_area": null,
      "grid_auto_columns": null,
      "grid_auto_flow": null,
      "grid_auto_rows": null,
      "grid_column": null,
      "grid_gap": null,
      "grid_row": null,
      "grid_template_areas": null,
      "grid_template_columns": null,
      "grid_template_rows": null,
      "height": null,
      "justify_content": null,
      "justify_items": null,
      "left": null,
      "margin": null,
      "max_height": null,
      "max_width": null,
      "min_height": null,
      "min_width": null,
      "object_fit": null,
      "object_position": null,
      "order": null,
      "overflow": null,
      "overflow_x": null,
      "overflow_y": null,
      "padding": null,
      "right": null,
      "top": null,
      "visibility": null,
      "width": null
     }
    },
    "c22f71b1f85843209d7e5321506b9cb9": {
     "model_module": "@jupyter-widgets/controls",
     "model_module_version": "1.5.0",
     "model_name": "HBoxModel",
     "state": {
      "_dom_classes": [],
      "_model_module": "@jupyter-widgets/controls",
      "_model_module_version": "1.5.0",
      "_model_name": "HBoxModel",
      "_view_count": null,
      "_view_module": "@jupyter-widgets/controls",
      "_view_module_version": "1.5.0",
      "_view_name": "HBoxView",
      "box_style": "",
      "children": [
       "IPY_MODEL_1f44c9ce1adf470cbb19784493ed209f",
       "IPY_MODEL_f1addc4479d849879e743cf9089e6540",
       "IPY_MODEL_8b3505352a5a42bf910428c40ce40465"
      ],
      "layout": "IPY_MODEL_4c4c88d4c701450692fa0f6b0c5764b0"
     }
    },
    "c4f2b06a82fd4987b8b659524a7b503b": {
     "model_module": "@jupyter-widgets/controls",
     "model_module_version": "1.5.0",
     "model_name": "DescriptionStyleModel",
     "state": {
      "_model_module": "@jupyter-widgets/controls",
      "_model_module_version": "1.5.0",
      "_model_name": "DescriptionStyleModel",
      "_view_count": null,
      "_view_module": "@jupyter-widgets/base",
      "_view_module_version": "1.2.0",
      "_view_name": "StyleView",
      "description_width": ""
     }
    },
    "cca8113c54c0495daedce1327bf9c68b": {
     "model_module": "@jupyter-widgets/controls",
     "model_module_version": "1.5.0",
     "model_name": "FloatProgressModel",
     "state": {
      "_dom_classes": [],
      "_model_module": "@jupyter-widgets/controls",
      "_model_module_version": "1.5.0",
      "_model_name": "FloatProgressModel",
      "_view_count": null,
      "_view_module": "@jupyter-widgets/controls",
      "_view_module_version": "1.5.0",
      "_view_name": "ProgressView",
      "bar_style": "success",
      "description": "",
      "description_tooltip": null,
      "layout": "IPY_MODEL_e02f9b7849c64531835eb77b860d1c93",
      "max": 464,
      "min": 0,
      "orientation": "horizontal",
      "style": "IPY_MODEL_56aee4853b7740e6a977254f5d1fa66d",
      "value": 464
     }
    },
    "cced8fd7e998472794f3f3e3018956a5": {
     "model_module": "@jupyter-widgets/controls",
     "model_module_version": "1.5.0",
     "model_name": "DescriptionStyleModel",
     "state": {
      "_model_module": "@jupyter-widgets/controls",
      "_model_module_version": "1.5.0",
      "_model_name": "DescriptionStyleModel",
      "_view_count": null,
      "_view_module": "@jupyter-widgets/base",
      "_view_module_version": "1.2.0",
      "_view_name": "StyleView",
      "description_width": ""
     }
    },
    "cf245afeb1c04f29a24d291608c3d157": {
     "model_module": "@jupyter-widgets/controls",
     "model_module_version": "1.5.0",
     "model_name": "HBoxModel",
     "state": {
      "_dom_classes": [],
      "_model_module": "@jupyter-widgets/controls",
      "_model_module_version": "1.5.0",
      "_model_name": "HBoxModel",
      "_view_count": null,
      "_view_module": "@jupyter-widgets/controls",
      "_view_module_version": "1.5.0",
      "_view_name": "HBoxView",
      "box_style": "",
      "children": [
       "IPY_MODEL_b518dcee69074b87be73957cd810e7ed",
       "IPY_MODEL_e29104486d594b2992d7285e0ef77371",
       "IPY_MODEL_6578fd7acdb54c4c93528ea431fd0144"
      ],
      "layout": "IPY_MODEL_d35db8148a354c56aaac56dbae22536f"
     }
    },
    "cfe8cae0e22b495bafa221a63d13b283": {
     "model_module": "@jupyter-widgets/base",
     "model_module_version": "1.2.0",
     "model_name": "LayoutModel",
     "state": {
      "_model_module": "@jupyter-widgets/base",
      "_model_module_version": "1.2.0",
      "_model_name": "LayoutModel",
      "_view_count": null,
      "_view_module": "@jupyter-widgets/base",
      "_view_module_version": "1.2.0",
      "_view_name": "LayoutView",
      "align_content": null,
      "align_items": null,
      "align_self": null,
      "border": null,
      "bottom": null,
      "display": null,
      "flex": null,
      "flex_flow": null,
      "grid_area": null,
      "grid_auto_columns": null,
      "grid_auto_flow": null,
      "grid_auto_rows": null,
      "grid_column": null,
      "grid_gap": null,
      "grid_row": null,
      "grid_template_areas": null,
      "grid_template_columns": null,
      "grid_template_rows": null,
      "height": null,
      "justify_content": null,
      "justify_items": null,
      "left": null,
      "margin": null,
      "max_height": null,
      "max_width": null,
      "min_height": null,
      "min_width": null,
      "object_fit": null,
      "object_position": null,
      "order": null,
      "overflow": null,
      "overflow_x": null,
      "overflow_y": null,
      "padding": null,
      "right": null,
      "top": null,
      "visibility": null,
      "width": null
     }
    },
    "cfeb365ddf7548d58b2557f22737fcf5": {
     "model_module": "@jupyter-widgets/controls",
     "model_module_version": "1.5.0",
     "model_name": "DescriptionStyleModel",
     "state": {
      "_model_module": "@jupyter-widgets/controls",
      "_model_module_version": "1.5.0",
      "_model_name": "DescriptionStyleModel",
      "_view_count": null,
      "_view_module": "@jupyter-widgets/base",
      "_view_module_version": "1.2.0",
      "_view_name": "StyleView",
      "description_width": ""
     }
    },
    "d1b47d39450d4019ae85c9b2f943eeaf": {
     "model_module": "@jupyter-widgets/controls",
     "model_module_version": "1.5.0",
     "model_name": "HBoxModel",
     "state": {
      "_dom_classes": [],
      "_model_module": "@jupyter-widgets/controls",
      "_model_module_version": "1.5.0",
      "_model_name": "HBoxModel",
      "_view_count": null,
      "_view_module": "@jupyter-widgets/controls",
      "_view_module_version": "1.5.0",
      "_view_name": "HBoxView",
      "box_style": "",
      "children": [
       "IPY_MODEL_4dcf6ff672d24983a1877a8431709aa9",
       "IPY_MODEL_7975adbc2ec5489ea7fa0167e620d85c",
       "IPY_MODEL_71ce208e20d6483abb9ed923510c86d7"
      ],
      "layout": "IPY_MODEL_cfe8cae0e22b495bafa221a63d13b283"
     }
    },
    "d35db8148a354c56aaac56dbae22536f": {
     "model_module": "@jupyter-widgets/base",
     "model_module_version": "1.2.0",
     "model_name": "LayoutModel",
     "state": {
      "_model_module": "@jupyter-widgets/base",
      "_model_module_version": "1.2.0",
      "_model_name": "LayoutModel",
      "_view_count": null,
      "_view_module": "@jupyter-widgets/base",
      "_view_module_version": "1.2.0",
      "_view_name": "LayoutView",
      "align_content": null,
      "align_items": null,
      "align_self": null,
      "border": null,
      "bottom": null,
      "display": null,
      "flex": null,
      "flex_flow": null,
      "grid_area": null,
      "grid_auto_columns": null,
      "grid_auto_flow": null,
      "grid_auto_rows": null,
      "grid_column": null,
      "grid_gap": null,
      "grid_row": null,
      "grid_template_areas": null,
      "grid_template_columns": null,
      "grid_template_rows": null,
      "height": null,
      "justify_content": null,
      "justify_items": null,
      "left": null,
      "margin": null,
      "max_height": null,
      "max_width": null,
      "min_height": null,
      "min_width": null,
      "object_fit": null,
      "object_position": null,
      "order": null,
      "overflow": null,
      "overflow_x": null,
      "overflow_y": null,
      "padding": null,
      "right": null,
      "top": null,
      "visibility": null,
      "width": null
     }
    },
    "d69dc491b3ab44d7852b21873ed7bb7f": {
     "model_module": "@jupyter-widgets/base",
     "model_module_version": "1.2.0",
     "model_name": "LayoutModel",
     "state": {
      "_model_module": "@jupyter-widgets/base",
      "_model_module_version": "1.2.0",
      "_model_name": "LayoutModel",
      "_view_count": null,
      "_view_module": "@jupyter-widgets/base",
      "_view_module_version": "1.2.0",
      "_view_name": "LayoutView",
      "align_content": null,
      "align_items": null,
      "align_self": null,
      "border": null,
      "bottom": null,
      "display": null,
      "flex": null,
      "flex_flow": null,
      "grid_area": null,
      "grid_auto_columns": null,
      "grid_auto_flow": null,
      "grid_auto_rows": null,
      "grid_column": null,
      "grid_gap": null,
      "grid_row": null,
      "grid_template_areas": null,
      "grid_template_columns": null,
      "grid_template_rows": null,
      "height": null,
      "justify_content": null,
      "justify_items": null,
      "left": null,
      "margin": null,
      "max_height": null,
      "max_width": null,
      "min_height": null,
      "min_width": null,
      "object_fit": null,
      "object_position": null,
      "order": null,
      "overflow": null,
      "overflow_x": null,
      "overflow_y": null,
      "padding": null,
      "right": null,
      "top": null,
      "visibility": null,
      "width": null
     }
    },
    "d891f8d0b1fc462f8008d02bb2a15692": {
     "model_module": "@jupyter-widgets/base",
     "model_module_version": "1.2.0",
     "model_name": "LayoutModel",
     "state": {
      "_model_module": "@jupyter-widgets/base",
      "_model_module_version": "1.2.0",
      "_model_name": "LayoutModel",
      "_view_count": null,
      "_view_module": "@jupyter-widgets/base",
      "_view_module_version": "1.2.0",
      "_view_name": "LayoutView",
      "align_content": null,
      "align_items": null,
      "align_self": null,
      "border": null,
      "bottom": null,
      "display": null,
      "flex": null,
      "flex_flow": null,
      "grid_area": null,
      "grid_auto_columns": null,
      "grid_auto_flow": null,
      "grid_auto_rows": null,
      "grid_column": null,
      "grid_gap": null,
      "grid_row": null,
      "grid_template_areas": null,
      "grid_template_columns": null,
      "grid_template_rows": null,
      "height": null,
      "justify_content": null,
      "justify_items": null,
      "left": null,
      "margin": null,
      "max_height": null,
      "max_width": null,
      "min_height": null,
      "min_width": null,
      "object_fit": null,
      "object_position": null,
      "order": null,
      "overflow": null,
      "overflow_x": null,
      "overflow_y": null,
      "padding": null,
      "right": null,
      "top": null,
      "visibility": null,
      "width": null
     }
    },
    "d8e5318cead340c4adbeaccc05d39225": {
     "model_module": "@jupyter-widgets/controls",
     "model_module_version": "1.5.0",
     "model_name": "ProgressStyleModel",
     "state": {
      "_model_module": "@jupyter-widgets/controls",
      "_model_module_version": "1.5.0",
      "_model_name": "ProgressStyleModel",
      "_view_count": null,
      "_view_module": "@jupyter-widgets/base",
      "_view_module_version": "1.2.0",
      "_view_name": "StyleView",
      "bar_color": null,
      "description_width": ""
     }
    },
    "daf4cd890b35422683d22fd30bc71e83": {
     "model_module": "@jupyter-widgets/controls",
     "model_module_version": "1.5.0",
     "model_name": "HBoxModel",
     "state": {
      "_dom_classes": [],
      "_model_module": "@jupyter-widgets/controls",
      "_model_module_version": "1.5.0",
      "_model_name": "HBoxModel",
      "_view_count": null,
      "_view_module": "@jupyter-widgets/controls",
      "_view_module_version": "1.5.0",
      "_view_name": "HBoxView",
      "box_style": "",
      "children": [
       "IPY_MODEL_b0240cd9a4554b29ae11f8051984a1c6",
       "IPY_MODEL_bc883d4cf13e4f8b8a4fe5f410cb6efd",
       "IPY_MODEL_99fdbb0300c14c139d1937c646f0cfe7"
      ],
      "layout": "IPY_MODEL_c161d94df0f04feba9542237e0856c22"
     }
    },
    "db19fc8d37db4e45a5790a876836d8c4": {
     "model_module": "@jupyter-widgets/base",
     "model_module_version": "1.2.0",
     "model_name": "LayoutModel",
     "state": {
      "_model_module": "@jupyter-widgets/base",
      "_model_module_version": "1.2.0",
      "_model_name": "LayoutModel",
      "_view_count": null,
      "_view_module": "@jupyter-widgets/base",
      "_view_module_version": "1.2.0",
      "_view_name": "LayoutView",
      "align_content": null,
      "align_items": null,
      "align_self": null,
      "border": null,
      "bottom": null,
      "display": null,
      "flex": null,
      "flex_flow": null,
      "grid_area": null,
      "grid_auto_columns": null,
      "grid_auto_flow": null,
      "grid_auto_rows": null,
      "grid_column": null,
      "grid_gap": null,
      "grid_row": null,
      "grid_template_areas": null,
      "grid_template_columns": null,
      "grid_template_rows": null,
      "height": null,
      "justify_content": null,
      "justify_items": null,
      "left": null,
      "margin": null,
      "max_height": null,
      "max_width": null,
      "min_height": null,
      "min_width": null,
      "object_fit": null,
      "object_position": null,
      "order": null,
      "overflow": null,
      "overflow_x": null,
      "overflow_y": null,
      "padding": null,
      "right": null,
      "top": null,
      "visibility": null,
      "width": null
     }
    },
    "de868e26e7154f62aa86223a539ad421": {
     "model_module": "@jupyter-widgets/controls",
     "model_module_version": "1.5.0",
     "model_name": "DescriptionStyleModel",
     "state": {
      "_model_module": "@jupyter-widgets/controls",
      "_model_module_version": "1.5.0",
      "_model_name": "DescriptionStyleModel",
      "_view_count": null,
      "_view_module": "@jupyter-widgets/base",
      "_view_module_version": "1.2.0",
      "_view_name": "StyleView",
      "description_width": ""
     }
    },
    "dea41c5260884aa6879b5e1d1697b14f": {
     "model_module": "@jupyter-widgets/base",
     "model_module_version": "1.2.0",
     "model_name": "LayoutModel",
     "state": {
      "_model_module": "@jupyter-widgets/base",
      "_model_module_version": "1.2.0",
      "_model_name": "LayoutModel",
      "_view_count": null,
      "_view_module": "@jupyter-widgets/base",
      "_view_module_version": "1.2.0",
      "_view_name": "LayoutView",
      "align_content": null,
      "align_items": null,
      "align_self": null,
      "border": null,
      "bottom": null,
      "display": null,
      "flex": null,
      "flex_flow": null,
      "grid_area": null,
      "grid_auto_columns": null,
      "grid_auto_flow": null,
      "grid_auto_rows": null,
      "grid_column": null,
      "grid_gap": null,
      "grid_row": null,
      "grid_template_areas": null,
      "grid_template_columns": null,
      "grid_template_rows": null,
      "height": null,
      "justify_content": null,
      "justify_items": null,
      "left": null,
      "margin": null,
      "max_height": null,
      "max_width": null,
      "min_height": null,
      "min_width": null,
      "object_fit": null,
      "object_position": null,
      "order": null,
      "overflow": null,
      "overflow_x": null,
      "overflow_y": null,
      "padding": null,
      "right": null,
      "top": null,
      "visibility": null,
      "width": null
     }
    },
    "e02f9b7849c64531835eb77b860d1c93": {
     "model_module": "@jupyter-widgets/base",
     "model_module_version": "1.2.0",
     "model_name": "LayoutModel",
     "state": {
      "_model_module": "@jupyter-widgets/base",
      "_model_module_version": "1.2.0",
      "_model_name": "LayoutModel",
      "_view_count": null,
      "_view_module": "@jupyter-widgets/base",
      "_view_module_version": "1.2.0",
      "_view_name": "LayoutView",
      "align_content": null,
      "align_items": null,
      "align_self": null,
      "border": null,
      "bottom": null,
      "display": null,
      "flex": null,
      "flex_flow": null,
      "grid_area": null,
      "grid_auto_columns": null,
      "grid_auto_flow": null,
      "grid_auto_rows": null,
      "grid_column": null,
      "grid_gap": null,
      "grid_row": null,
      "grid_template_areas": null,
      "grid_template_columns": null,
      "grid_template_rows": null,
      "height": null,
      "justify_content": null,
      "justify_items": null,
      "left": null,
      "margin": null,
      "max_height": null,
      "max_width": null,
      "min_height": null,
      "min_width": null,
      "object_fit": null,
      "object_position": null,
      "order": null,
      "overflow": null,
      "overflow_x": null,
      "overflow_y": null,
      "padding": null,
      "right": null,
      "top": null,
      "visibility": null,
      "width": null
     }
    },
    "e29104486d594b2992d7285e0ef77371": {
     "model_module": "@jupyter-widgets/controls",
     "model_module_version": "1.5.0",
     "model_name": "FloatProgressModel",
     "state": {
      "_dom_classes": [],
      "_model_module": "@jupyter-widgets/controls",
      "_model_module_version": "1.5.0",
      "_model_name": "FloatProgressModel",
      "_view_count": null,
      "_view_module": "@jupyter-widgets/controls",
      "_view_module_version": "1.5.0",
      "_view_name": "ProgressView",
      "bar_style": "success",
      "description": "",
      "description_tooltip": null,
      "layout": "IPY_MODEL_a9f0cc51fc3d4d7b874c32dcf1c5bdf2",
      "max": 50641,
      "min": 0,
      "orientation": "horizontal",
      "style": "IPY_MODEL_2f6c70dd266c4816bfad3fd3d192929a",
      "value": 50641
     }
    },
    "e36a3f9eff0e4cf68834d66b0213ae96": {
     "model_module": "@jupyter-widgets/base",
     "model_module_version": "1.2.0",
     "model_name": "LayoutModel",
     "state": {
      "_model_module": "@jupyter-widgets/base",
      "_model_module_version": "1.2.0",
      "_model_name": "LayoutModel",
      "_view_count": null,
      "_view_module": "@jupyter-widgets/base",
      "_view_module_version": "1.2.0",
      "_view_name": "LayoutView",
      "align_content": null,
      "align_items": null,
      "align_self": null,
      "border": null,
      "bottom": null,
      "display": null,
      "flex": null,
      "flex_flow": null,
      "grid_area": null,
      "grid_auto_columns": null,
      "grid_auto_flow": null,
      "grid_auto_rows": null,
      "grid_column": null,
      "grid_gap": null,
      "grid_row": null,
      "grid_template_areas": null,
      "grid_template_columns": null,
      "grid_template_rows": null,
      "height": null,
      "justify_content": null,
      "justify_items": null,
      "left": null,
      "margin": null,
      "max_height": null,
      "max_width": null,
      "min_height": null,
      "min_width": null,
      "object_fit": null,
      "object_position": null,
      "order": null,
      "overflow": null,
      "overflow_x": null,
      "overflow_y": null,
      "padding": null,
      "right": null,
      "top": null,
      "visibility": null,
      "width": null
     }
    },
    "e9159e03e61f4f56978ece9c3bca49b2": {
     "model_module": "@jupyter-widgets/base",
     "model_module_version": "1.2.0",
     "model_name": "LayoutModel",
     "state": {
      "_model_module": "@jupyter-widgets/base",
      "_model_module_version": "1.2.0",
      "_model_name": "LayoutModel",
      "_view_count": null,
      "_view_module": "@jupyter-widgets/base",
      "_view_module_version": "1.2.0",
      "_view_name": "LayoutView",
      "align_content": null,
      "align_items": null,
      "align_self": null,
      "border": null,
      "bottom": null,
      "display": null,
      "flex": null,
      "flex_flow": null,
      "grid_area": null,
      "grid_auto_columns": null,
      "grid_auto_flow": null,
      "grid_auto_rows": null,
      "grid_column": null,
      "grid_gap": null,
      "grid_row": null,
      "grid_template_areas": null,
      "grid_template_columns": null,
      "grid_template_rows": null,
      "height": null,
      "justify_content": null,
      "justify_items": null,
      "left": null,
      "margin": null,
      "max_height": null,
      "max_width": null,
      "min_height": null,
      "min_width": null,
      "object_fit": null,
      "object_position": null,
      "order": null,
      "overflow": null,
      "overflow_x": null,
      "overflow_y": null,
      "padding": null,
      "right": null,
      "top": null,
      "visibility": null,
      "width": null
     }
    },
    "e9adf418296e436fb48bb9f78885598b": {
     "model_module": "@jupyter-widgets/controls",
     "model_module_version": "1.5.0",
     "model_name": "DescriptionStyleModel",
     "state": {
      "_model_module": "@jupyter-widgets/controls",
      "_model_module_version": "1.5.0",
      "_model_name": "DescriptionStyleModel",
      "_view_count": null,
      "_view_module": "@jupyter-widgets/base",
      "_view_module_version": "1.2.0",
      "_view_name": "StyleView",
      "description_width": ""
     }
    },
    "edaf890370314a218f138015faa0b05d": {
     "model_module": "@jupyter-widgets/base",
     "model_module_version": "1.2.0",
     "model_name": "LayoutModel",
     "state": {
      "_model_module": "@jupyter-widgets/base",
      "_model_module_version": "1.2.0",
      "_model_name": "LayoutModel",
      "_view_count": null,
      "_view_module": "@jupyter-widgets/base",
      "_view_module_version": "1.2.0",
      "_view_name": "LayoutView",
      "align_content": null,
      "align_items": null,
      "align_self": null,
      "border": null,
      "bottom": null,
      "display": null,
      "flex": null,
      "flex_flow": null,
      "grid_area": null,
      "grid_auto_columns": null,
      "grid_auto_flow": null,
      "grid_auto_rows": null,
      "grid_column": null,
      "grid_gap": null,
      "grid_row": null,
      "grid_template_areas": null,
      "grid_template_columns": null,
      "grid_template_rows": null,
      "height": null,
      "justify_content": null,
      "justify_items": null,
      "left": null,
      "margin": null,
      "max_height": null,
      "max_width": null,
      "min_height": null,
      "min_width": null,
      "object_fit": null,
      "object_position": null,
      "order": null,
      "overflow": null,
      "overflow_x": null,
      "overflow_y": null,
      "padding": null,
      "right": null,
      "top": null,
      "visibility": null,
      "width": null
     }
    },
    "f1addc4479d849879e743cf9089e6540": {
     "model_module": "@jupyter-widgets/controls",
     "model_module_version": "1.5.0",
     "model_name": "FloatProgressModel",
     "state": {
      "_dom_classes": [],
      "_model_module": "@jupyter-widgets/controls",
      "_model_module_version": "1.5.0",
      "_model_name": "FloatProgressModel",
      "_view_count": null,
      "_view_module": "@jupyter-widgets/controls",
      "_view_module_version": "1.5.0",
      "_view_name": "ProgressView",
      "bar_style": "success",
      "description": "",
      "description_tooltip": null,
      "layout": "IPY_MODEL_43dec2ede91341f5af60eb522e18e984",
      "max": 5702746405,
      "min": 0,
      "orientation": "horizontal",
      "style": "IPY_MODEL_d8e5318cead340c4adbeaccc05d39225",
      "value": 5702746405
     }
    },
    "f2df530d22c74977b249dd9fb5f4829b": {
     "model_module": "@jupyter-widgets/controls",
     "model_module_version": "1.5.0",
     "model_name": "FloatProgressModel",
     "state": {
      "_dom_classes": [],
      "_model_module": "@jupyter-widgets/controls",
      "_model_module_version": "1.5.0",
      "_model_name": "FloatProgressModel",
      "_view_count": null,
      "_view_module": "@jupyter-widgets/controls",
      "_view_module_version": "1.5.0",
      "_view_name": "ProgressView",
      "bar_style": "success",
      "description": "",
      "description_tooltip": null,
      "layout": "IPY_MODEL_21db8a77b00d4a4e82fdfa608657531f",
      "max": 9085698,
      "min": 0,
      "orientation": "horizontal",
      "style": "IPY_MODEL_6dbbedeca9314e66ae50e44ffa31a414",
      "value": 9085698
     }
    },
    "f401d53bf28e44eb906bce6c05412662": {
     "model_module": "@jupyter-widgets/controls",
     "model_module_version": "1.5.0",
     "model_name": "DescriptionStyleModel",
     "state": {
      "_model_module": "@jupyter-widgets/controls",
      "_model_module_version": "1.5.0",
      "_model_name": "DescriptionStyleModel",
      "_view_count": null,
      "_view_module": "@jupyter-widgets/base",
      "_view_module_version": "1.2.0",
      "_view_name": "StyleView",
      "description_width": ""
     }
    },
    "fb995c740590427b882572c81d4e848c": {
     "model_module": "@jupyter-widgets/base",
     "model_module_version": "1.2.0",
     "model_name": "LayoutModel",
     "state": {
      "_model_module": "@jupyter-widgets/base",
      "_model_module_version": "1.2.0",
      "_model_name": "LayoutModel",
      "_view_count": null,
      "_view_module": "@jupyter-widgets/base",
      "_view_module_version": "1.2.0",
      "_view_name": "LayoutView",
      "align_content": null,
      "align_items": null,
      "align_self": null,
      "border": null,
      "bottom": null,
      "display": null,
      "flex": null,
      "flex_flow": null,
      "grid_area": null,
      "grid_auto_columns": null,
      "grid_auto_flow": null,
      "grid_auto_rows": null,
      "grid_column": null,
      "grid_gap": null,
      "grid_row": null,
      "grid_template_areas": null,
      "grid_template_columns": null,
      "grid_template_rows": null,
      "height": null,
      "justify_content": null,
      "justify_items": null,
      "left": null,
      "margin": null,
      "max_height": null,
      "max_width": null,
      "min_height": null,
      "min_width": null,
      "object_fit": null,
      "object_position": null,
      "order": null,
      "overflow": null,
      "overflow_x": null,
      "overflow_y": null,
      "padding": null,
      "right": null,
      "top": null,
      "visibility": null,
      "width": null
     }
    },
    "fce7a61c25ec4390af43d92b7c473a45": {
     "model_module": "@jupyter-widgets/controls",
     "model_module_version": "1.5.0",
     "model_name": "HBoxModel",
     "state": {
      "_dom_classes": [],
      "_model_module": "@jupyter-widgets/controls",
      "_model_module_version": "1.5.0",
      "_model_name": "HBoxModel",
      "_view_count": null,
      "_view_module": "@jupyter-widgets/controls",
      "_view_module_version": "1.5.0",
      "_view_name": "HBoxView",
      "box_style": "",
      "children": [
       "IPY_MODEL_30307300bc4e4baf96560e30969a82b6",
       "IPY_MODEL_8fc142b628fb40568730234de1cafde2",
       "IPY_MODEL_a8464a4c711e4e00aafdfc919b60d07e"
      ],
      "layout": "IPY_MODEL_5f40db8173dd4d76b6ef5ed6d9ec8b6e"
     }
    },
    "fdb1941405ed4e4aa06019933892deb3": {
     "model_module": "@jupyter-widgets/base",
     "model_module_version": "1.2.0",
     "model_name": "LayoutModel",
     "state": {
      "_model_module": "@jupyter-widgets/base",
      "_model_module_version": "1.2.0",
      "_model_name": "LayoutModel",
      "_view_count": null,
      "_view_module": "@jupyter-widgets/base",
      "_view_module_version": "1.2.0",
      "_view_name": "LayoutView",
      "align_content": null,
      "align_items": null,
      "align_self": null,
      "border": null,
      "bottom": null,
      "display": null,
      "flex": null,
      "flex_flow": null,
      "grid_area": null,
      "grid_auto_columns": null,
      "grid_auto_flow": null,
      "grid_auto_rows": null,
      "grid_column": null,
      "grid_gap": null,
      "grid_row": null,
      "grid_template_areas": null,
      "grid_template_columns": null,
      "grid_template_rows": null,
      "height": null,
      "justify_content": null,
      "justify_items": null,
      "left": null,
      "margin": null,
      "max_height": null,
      "max_width": null,
      "min_height": null,
      "min_width": null,
      "object_fit": null,
      "object_position": null,
      "order": null,
      "overflow": null,
      "overflow_x": null,
      "overflow_y": null,
      "padding": null,
      "right": null,
      "top": null,
      "visibility": null,
      "width": null
     }
    }
   }
  }
 },
 "nbformat": 4,
 "nbformat_minor": 0
}
